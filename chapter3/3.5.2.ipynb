{
 "cells": [
  {
   "cell_type": "markdown",
   "metadata": {},
   "source": [
    "所有不能被7整除的整数无穷流"
   ]
  },
  {
   "cell_type": "code",
   "execution_count": null,
   "metadata": {},
   "outputs": [],
   "source": [
    "from base_definition import cons_stream, delay, filter_stream, ref_stream, car_stream, cdr_stream\n",
    "\n",
    "def integers_starting_from(n):\n",
    "    return cons_stream(n, delay(integers_starting_from, n + 1))\n",
    "\n",
    "\n",
    "def divisible(x, y):\n",
    "    return x % y == 0\n",
    "\n",
    "\n",
    "integers = integers_starting_from(1)\n",
    "no_sevens = filter_stream(lambda x: not divisible(x, 7), integers)\n",
    "\n",
    "print(ref_stream(no_sevens, 100))"
   ]
  },
  {
   "cell_type": "markdown",
   "metadata": {},
   "source": [
    "斐波那契数列的无穷流"
   ]
  },
  {
   "cell_type": "code",
   "execution_count": null,
   "metadata": {},
   "outputs": [],
   "source": [
    "from base_definition import cons_stream, delay, ref_stream\n",
    "def fibgen(a, b):\n",
    "    return cons_stream(a, delay(fibgen, b, a+b))\n",
    "\n",
    "print(ref_stream(fibgen(0, 1), 3))"
   ]
  },
  {
   "cell_type": "markdown",
   "metadata": {},
   "source": [
    "利用厄拉多塞筛法，构造素数的无穷流"
   ]
  },
  {
   "cell_type": "code",
   "execution_count": null,
   "metadata": {},
   "outputs": [],
   "source": [
    "from base_definition import cons_stream, delay, filter_stream, ref_stream, car_stream, cdr_stream\n",
    "\n",
    "def sieve(stream):\n",
    "    return cons_stream(car_stream(stream), delay(sieve, filter_stream(lambda x: x % car_stream(stream) != 0, cdr_stream(stream))))\n",
    "\n",
    "print(ref_stream(sieve(integers_starting_from(2)), 50))"
   ]
  },
  {
   "cell_type": "markdown",
   "metadata": {},
   "source": [
    "隐式地定义整数的一个无穷流，（下面的函数无法正常工作）"
   ]
  },
  {
   "cell_type": "code",
   "execution_count": null,
   "metadata": {},
   "outputs": [],
   "source": [
    "from base_definition import cons_stream, map_stream, ref_stream, delay\n",
    "\n",
    "def ones():\n",
    "    return cons_stream(1, delay(ones))\n",
    "\n",
    "def add_stream(s1, s2):\n",
    "    return map_stream(lambda x1, x2: x1+x2, s1, s2)\n",
    "\n",
    "def integers():\n",
    "    return cons_stream(1, delay(add_stream, ones(), delay(integers)))\n",
    "# s = add_stream(ones(), ones())\n",
    "s = integers()\n",
    "print(ref_stream(s, 1))\n"
   ]
  },
  {
   "cell_type": "markdown",
   "metadata": {},
   "source": [
    "倍数增加stream"
   ]
  },
  {
   "cell_type": "code",
   "execution_count": null,
   "metadata": {},
   "outputs": [],
   "source": [
    "from base_definition import map_stream, delay, cons_stream, ref_stream\n",
    "def scale_stream(stream, factor):\n",
    "    return map_stream(lambda x: x * factor, stream)\n",
    "\n",
    "def ones():\n",
    "    return cons_stream(1, delay(ones))\n",
    "\n",
    "def double():\n",
    "    return cons_stream(1, delay(scale_stream, ))\n",
    "\n",
    "s = scale_stream(ones(), 2)\n",
    "\n",
    "print(ref_stream(s, 3))"
   ]
  }
 ],
 "metadata": {
  "kernelspec": {
   "display_name": "Python 3",
   "language": "python",
   "name": "python3"
  },
  "language_info": {
   "codemirror_mode": {
    "name": "ipython",
    "version": 3
   },
   "file_extension": ".py",
   "mimetype": "text/x-python",
   "name": "python",
   "nbconvert_exporter": "python",
   "pygments_lexer": "ipython3",
   "version": "3.11.5"
  }
 },
 "nbformat": 4,
 "nbformat_minor": 2
}
