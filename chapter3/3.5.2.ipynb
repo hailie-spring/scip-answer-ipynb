{
 "cells": [
  {
   "cell_type": "markdown",
   "metadata": {},
   "source": [
    "所有不能被7整除的整数无穷流"
   ]
  },
  {
   "cell_type": "code",
   "execution_count": null,
   "metadata": {},
   "outputs": [],
   "source": [
    "from base_definition import cons_stream, delay, filter_stream, ref_stream, car_stream, cdr_stream\n",
    "\n",
    "def integers_starting_from(n):\n",
    "    return cons_stream(n, delay(integers_starting_from, n + 1))\n",
    "\n",
    "\n",
    "def divisible(x, y):\n",
    "    return x % y == 0\n",
    "\n",
    "\n",
    "integers = integers_starting_from(1)\n",
    "no_sevens = filter_stream(lambda x: not divisible(x, 7), integers)\n",
    "\n",
    "print(ref_stream(no_sevens, 100))"
   ]
  },
  {
   "cell_type": "markdown",
   "metadata": {},
   "source": [
    "斐波那契数列的无穷流"
   ]
  },
  {
   "cell_type": "code",
   "execution_count": null,
   "metadata": {},
   "outputs": [],
   "source": [
    "from base_definition import cons_stream, delay, ref_stream\n",
    "def fibgen(a, b):\n",
    "    return cons_stream(a, delay(fibgen, b, a+b))\n",
    "\n",
    "print(ref_stream(fibgen(0, 1), 3))"
   ]
  },
  {
   "cell_type": "markdown",
   "metadata": {},
   "source": [
    "利用厄拉多塞筛法，构造素数的无穷流"
   ]
  },
  {
   "cell_type": "code",
   "execution_count": null,
   "metadata": {},
   "outputs": [],
   "source": [
    "from base_definition import cons_stream, delay, filter_stream, ref_stream, car_stream, cdr_stream\n",
    "\n",
    "def sieve(stream):\n",
    "    return cons_stream(car_stream(stream), delay(sieve, filter_stream(lambda x: x % car_stream(stream) != 0, cdr_stream(stream))))\n",
    "\n",
    "print(ref_stream(sieve(integers_starting_from(2)), 50))"
   ]
  },
  {
   "cell_type": "markdown",
   "metadata": {},
   "source": [
    "隐式地定义整数的一个无穷流，（下面的函数无法正常工作）"
   ]
  },
  {
   "cell_type": "code",
   "execution_count": 4,
   "metadata": {},
   "outputs": [
    {
     "ename": "TypeError",
     "evalue": "delay.<locals>.sub_func() takes 0 positional arguments but 1 was given",
     "output_type": "error",
     "traceback": [
      "\u001b[1;31m---------------------------------------------------------------------------\u001b[0m",
      "\u001b[1;31mTypeError\u001b[0m                                 Traceback (most recent call last)",
      "Cell \u001b[1;32mIn[4], line 13\u001b[0m\n\u001b[0;32m     11\u001b[0m \u001b[38;5;66;03m# s = add_stream(ones(), ones())\u001b[39;00m\n\u001b[0;32m     12\u001b[0m s \u001b[38;5;241m=\u001b[39m integers()\n\u001b[1;32m---> 13\u001b[0m \u001b[38;5;28mprint\u001b[39m(\u001b[43mref_stream\u001b[49m\u001b[43m(\u001b[49m\u001b[43ms\u001b[49m\u001b[43m,\u001b[49m\u001b[43m \u001b[49m\u001b[38;5;241;43m1\u001b[39;49m\u001b[43m)\u001b[49m)\n",
      "File \u001b[1;32md:\\github\\scip-answer-ipynb\\chapter3\\base_definition.py:89\u001b[0m, in \u001b[0;36mref_stream\u001b[1;34m(s, n)\u001b[0m\n\u001b[0;32m     87\u001b[0m \u001b[38;5;28;01mif\u001b[39;00m s \u001b[38;5;129;01mis\u001b[39;00m \u001b[38;5;28;01mNone\u001b[39;00m:\n\u001b[0;32m     88\u001b[0m     \u001b[38;5;28;01mreturn\u001b[39;00m \u001b[38;5;28;01mNone\u001b[39;00m\n\u001b[1;32m---> 89\u001b[0m \u001b[38;5;28;01mreturn\u001b[39;00m ref_stream(\u001b[43mcdr_stream\u001b[49m\u001b[43m(\u001b[49m\u001b[43ms\u001b[49m\u001b[43m)\u001b[49m, n \u001b[38;5;241m-\u001b[39m \u001b[38;5;241m1\u001b[39m)\n",
      "File \u001b[1;32md:\\github\\scip-answer-ipynb\\chapter3\\base_definition.py:61\u001b[0m, in \u001b[0;36mcdr_stream\u001b[1;34m(z)\u001b[0m\n\u001b[0;32m     60\u001b[0m \u001b[38;5;28;01mdef\u001b[39;00m \u001b[38;5;21mcdr_stream\u001b[39m(z):\n\u001b[1;32m---> 61\u001b[0m     \u001b[38;5;28;01mreturn\u001b[39;00m \u001b[43mforce\u001b[49m\u001b[43m(\u001b[49m\u001b[43mcdr\u001b[49m\u001b[43m(\u001b[49m\u001b[43mz\u001b[49m\u001b[43m)\u001b[49m\u001b[43m)\u001b[49m\n",
      "File \u001b[1;32md:\\github\\scip-answer-ipynb\\chapter3\\base_definition.py:73\u001b[0m, in \u001b[0;36mforce\u001b[1;34m(func)\u001b[0m\n\u001b[0;32m     72\u001b[0m \u001b[38;5;28;01mdef\u001b[39;00m \u001b[38;5;21mforce\u001b[39m(func):\n\u001b[1;32m---> 73\u001b[0m     \u001b[38;5;28;01mreturn\u001b[39;00m \u001b[43mfunc\u001b[49m\u001b[43m(\u001b[49m\u001b[43m)\u001b[49m\n",
      "File \u001b[1;32md:\\github\\scip-answer-ipynb\\chapter3\\base_definition.py:67\u001b[0m, in \u001b[0;36mdelay.<locals>.sub_func\u001b[1;34m()\u001b[0m\n\u001b[0;32m     66\u001b[0m \u001b[38;5;28;01mdef\u001b[39;00m \u001b[38;5;21msub_func\u001b[39m():\n\u001b[1;32m---> 67\u001b[0m     \u001b[38;5;28;01mreturn\u001b[39;00m \u001b[43mfunc\u001b[49m\u001b[43m(\u001b[49m\u001b[38;5;241;43m*\u001b[39;49m\u001b[43margs\u001b[49m\u001b[43m,\u001b[49m\u001b[43m \u001b[49m\u001b[38;5;241;43m*\u001b[39;49m\u001b[38;5;241;43m*\u001b[39;49m\u001b[43mkwargs\u001b[49m\u001b[43m)\u001b[49m\n",
      "Cell \u001b[1;32mIn[4], line 7\u001b[0m, in \u001b[0;36madd_stream\u001b[1;34m(s1, s2)\u001b[0m\n\u001b[0;32m      6\u001b[0m \u001b[38;5;28;01mdef\u001b[39;00m \u001b[38;5;21madd_stream\u001b[39m(s1, s2):\n\u001b[1;32m----> 7\u001b[0m     \u001b[38;5;28;01mreturn\u001b[39;00m \u001b[43mmap_stream\u001b[49m\u001b[43m(\u001b[49m\u001b[38;5;28;43;01mlambda\u001b[39;49;00m\u001b[43m \u001b[49m\u001b[43mx1\u001b[49m\u001b[43m,\u001b[49m\u001b[43m \u001b[49m\u001b[43mx2\u001b[49m\u001b[43m:\u001b[49m\u001b[43m \u001b[49m\u001b[43mx1\u001b[49m\u001b[38;5;241;43m+\u001b[39;49m\u001b[43mx2\u001b[49m\u001b[43m,\u001b[49m\u001b[43m \u001b[49m\u001b[43ms1\u001b[49m\u001b[43m,\u001b[49m\u001b[43m \u001b[49m\u001b[43ms2\u001b[49m\u001b[43m)\u001b[49m\n",
      "File \u001b[1;32md:\\github\\scip-answer-ipynb\\chapter3\\base_definition.py:98\u001b[0m, in \u001b[0;36mmap_stream\u001b[1;34m(proc, *args)\u001b[0m\n\u001b[0;32m     96\u001b[0m     \u001b[38;5;28;01mreturn\u001b[39;00m\n\u001b[0;32m     97\u001b[0m \u001b[38;5;28;01mif\u001b[39;00m arg\u001b[38;5;241m.\u001b[39m\u001b[38;5;18m__qualname__\u001b[39m\u001b[38;5;241m.\u001b[39mstartswith(\u001b[38;5;124m'\u001b[39m\u001b[38;5;124mdelay\u001b[39m\u001b[38;5;124m'\u001b[39m):\n\u001b[1;32m---> 98\u001b[0m     arg \u001b[38;5;241m=\u001b[39m force(arg)\n\u001b[0;32m     99\u001b[0m params\u001b[38;5;241m.\u001b[39mappend(car_stream(arg))\n\u001b[0;32m    100\u001b[0m next_stream\u001b[38;5;241m.\u001b[39mappend(cdr_stream(arg))\n",
      "File \u001b[1;32md:\\github\\scip-answer-ipynb\\chapter3\\base_definition.py:61\u001b[0m, in \u001b[0;36mcdr_stream\u001b[1;34m(z)\u001b[0m\n\u001b[0;32m     60\u001b[0m \u001b[38;5;28;01mdef\u001b[39;00m \u001b[38;5;21mcdr_stream\u001b[39m(z):\n\u001b[1;32m---> 61\u001b[0m     \u001b[38;5;28;01mreturn\u001b[39;00m \u001b[43mforce\u001b[49m\u001b[43m(\u001b[49m\u001b[43mcdr\u001b[49m\u001b[43m(\u001b[49m\u001b[43mz\u001b[49m\u001b[43m)\u001b[49m\u001b[43m)\u001b[49m\n",
      "File \u001b[1;32md:\\github\\scip-answer-ipynb\\chapter3\\base_definition.py:73\u001b[0m, in \u001b[0;36mforce\u001b[1;34m(func)\u001b[0m\n\u001b[0;32m     72\u001b[0m \u001b[38;5;28;01mdef\u001b[39;00m \u001b[38;5;21mforce\u001b[39m(func):\n\u001b[1;32m---> 73\u001b[0m     \u001b[38;5;28;01mreturn\u001b[39;00m \u001b[43mfunc\u001b[49m\u001b[43m(\u001b[49m\u001b[43m)\u001b[49m\n",
      "File \u001b[1;32md:\\github\\scip-answer-ipynb\\chapter3\\base_definition.py:67\u001b[0m, in \u001b[0;36mdelay.<locals>.sub_func\u001b[1;34m()\u001b[0m\n\u001b[0;32m     66\u001b[0m \u001b[38;5;28;01mdef\u001b[39;00m \u001b[38;5;21msub_func\u001b[39m():\n\u001b[1;32m---> 67\u001b[0m     \u001b[38;5;28;01mreturn\u001b[39;00m \u001b[43mfunc\u001b[49m\u001b[43m(\u001b[49m\u001b[38;5;241;43m*\u001b[39;49m\u001b[43margs\u001b[49m\u001b[43m,\u001b[49m\u001b[43m \u001b[49m\u001b[38;5;241;43m*\u001b[39;49m\u001b[38;5;241;43m*\u001b[39;49m\u001b[43mkwargs\u001b[49m\u001b[43m)\u001b[49m\n",
      "Cell \u001b[1;32mIn[4], line 7\u001b[0m, in \u001b[0;36madd_stream\u001b[1;34m(s1, s2)\u001b[0m\n\u001b[0;32m      6\u001b[0m \u001b[38;5;28;01mdef\u001b[39;00m \u001b[38;5;21madd_stream\u001b[39m(s1, s2):\n\u001b[1;32m----> 7\u001b[0m     \u001b[38;5;28;01mreturn\u001b[39;00m \u001b[43mmap_stream\u001b[49m\u001b[43m(\u001b[49m\u001b[38;5;28;43;01mlambda\u001b[39;49;00m\u001b[43m \u001b[49m\u001b[43mx1\u001b[49m\u001b[43m,\u001b[49m\u001b[43m \u001b[49m\u001b[43mx2\u001b[49m\u001b[43m:\u001b[49m\u001b[43m \u001b[49m\u001b[43mx1\u001b[49m\u001b[38;5;241;43m+\u001b[39;49m\u001b[43mx2\u001b[49m\u001b[43m,\u001b[49m\u001b[43m \u001b[49m\u001b[43ms1\u001b[49m\u001b[43m,\u001b[49m\u001b[43m \u001b[49m\u001b[43ms2\u001b[49m\u001b[43m)\u001b[49m\n",
      "File \u001b[1;32md:\\github\\scip-answer-ipynb\\chapter3\\base_definition.py:97\u001b[0m, in \u001b[0;36mmap_stream\u001b[1;34m(proc, *args)\u001b[0m\n\u001b[0;32m     95\u001b[0m     \u001b[38;5;28;01mif\u001b[39;00m arg \u001b[38;5;129;01mis\u001b[39;00m \u001b[38;5;28;01mNone\u001b[39;00m:\n\u001b[0;32m     96\u001b[0m         \u001b[38;5;28;01mreturn\u001b[39;00m\n\u001b[1;32m---> 97\u001b[0m     params\u001b[38;5;241m.\u001b[39mappend(\u001b[43mcar_stream\u001b[49m\u001b[43m(\u001b[49m\u001b[43marg\u001b[49m\u001b[43m)\u001b[49m)\n\u001b[0;32m     98\u001b[0m     next_stream\u001b[38;5;241m.\u001b[39mappend(cdr_stream(arg))\n\u001b[0;32m     99\u001b[0m \u001b[38;5;28;01mreturn\u001b[39;00m cons_stream(proc(\u001b[38;5;241m*\u001b[39mparams), delay(map_stream, proc, \u001b[38;5;241m*\u001b[39mnext_stream))\n",
      "File \u001b[1;32md:\\github\\scip-answer-ipynb\\chapter3\\base_definition.py:57\u001b[0m, in \u001b[0;36mcar_stream\u001b[1;34m(z)\u001b[0m\n\u001b[0;32m     56\u001b[0m \u001b[38;5;28;01mdef\u001b[39;00m \u001b[38;5;21mcar_stream\u001b[39m(z):\n\u001b[1;32m---> 57\u001b[0m     \u001b[38;5;28;01mreturn\u001b[39;00m \u001b[43mz\u001b[49m\u001b[43m(\u001b[49m\u001b[38;5;124;43m\"\u001b[39;49m\u001b[38;5;124;43mcar\u001b[39;49m\u001b[38;5;124;43m\"\u001b[39;49m\u001b[43m)\u001b[49m\n",
      "\u001b[1;31mTypeError\u001b[0m: delay.<locals>.sub_func() takes 0 positional arguments but 1 was given"
     ]
    }
   ],
   "source": [
    "from base_definition import cons_stream, map_stream, ref_stream, delay\n",
    "\n",
    "def ones():\n",
    "    return cons_stream(1, delay(ones))\n",
    "\n",
    "def add_stream(s1, s2):\n",
    "    return map_stream(lambda x1, x2: x1+x2, s1, s2)\n",
    "\n",
    "def integers():\n",
    "    return cons_stream(1, delay(add_stream, ones(), delay(integers)))\n",
    "# s = add_stream(ones(), ones())\n",
    "s = integers()\n",
    "print(ref_stream(s, 1))\n"
   ]
  }
 ],
 "metadata": {
  "kernelspec": {
   "display_name": "Python 3",
   "language": "python",
   "name": "python3"
  },
  "language_info": {
   "codemirror_mode": {
    "name": "ipython",
    "version": 3
   },
   "file_extension": ".py",
   "mimetype": "text/x-python",
   "name": "python",
   "nbconvert_exporter": "python",
   "pygments_lexer": "ipython3",
   "version": "3.11.5"
  }
 },
 "nbformat": 4,
 "nbformat_minor": 2
}
