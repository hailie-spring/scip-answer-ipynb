{
 "cells": [
  {
   "cell_type": "markdown",
   "metadata": {},
   "source": [
    "### 2.53 "
   ]
  },
  {
   "cell_type": "code",
   "execution_count": null,
   "metadata": {},
   "outputs": [],
   "source": [
    "from base_definition import list, display_list, car, cdr\n",
    "\n",
    "\n",
    "def memq(item, lst):\n",
    "    if lst is None:\n",
    "        return False\n",
    "    if item == car(lst):\n",
    "        return lst\n",
    "    return memq(item, cdr(lst))\n",
    "\n",
    "\n",
    "def pair(seq):\n",
    "    return callable(seq)\n",
    "\n",
    "\n",
    "lst = list(\"pear\", \"banana\", \"prune\")\n",
    "display_list(memq(\"appple\", lst))\n",
    "lst = list(\"x\", list(\"apple\", \"sauce\"), \"y\", \"apple\", \"pear\")\n",
    "display_list(memq(\"apple\", lst))\n",
    "\n",
    "display_list(list(\"a\", \"b\", \"c\"))\n",
    "display_list(list(list(\"gorge\")))\n",
    "lst = list(list(\"x1\", \"x2\"), list(\"y1\", \"y2\"))\n",
    "display_list(cdr(lst))\n",
    "display_list(car(cdr(lst)))\n",
    "lst = list(\"a\", \"short\", \"list\")\n",
    "display_list(pair(car(lst)))\n",
    "lst = list(list(\"red\", \"shoes\"), list(\"blue\", \"socks\"))\n",
    "display_list(memq(\"red\", lst))\n",
    "lst = list(\"red\", \"shoes\", \"blue\", \"socks\")\n",
    "display_list(memq(\"red\", lst))"
   ]
  },
  {
   "cell_type": "markdown",
   "metadata": {},
   "source": [
    "### 2.54 "
   ]
  },
  {
   "cell_type": "code",
   "execution_count": null,
   "metadata": {},
   "outputs": [],
   "source": [
    "from base_definition import list, display_list, car, cdr\n",
    "\n",
    "def equal(lst1, lst2):\n",
    "    if lst1 is None and lst2 is None:\n",
    "        return True\n",
    "    if lst1 is None or lst2 is None:\n",
    "        return False\n",
    "    if not callable(car(lst1)) and not callable(car(lst2)):\n",
    "        if car(lst1) == car(lst2):\n",
    "            return equal(cdr(lst1), cdr(lst2))\n",
    "        return False\n",
    "    if callable(car(lst1)) and callable(car(lst2)):\n",
    "        return equal(car(lst1), car(lst2)) and equal(cdr(lst1), cdr(lst2))\n",
    "    return False\n",
    "\n",
    "\n",
    "lst1 = list(*\"this is a list\".split())\n",
    "lst2 = list(*\"this is a list\".split())\n",
    "display_list(lst1)\n",
    "display_list(lst2)\n",
    "display_list(equal(lst1, lst2))\n",
    "display_list(equal(list(\"a\"), list(\"a\", \"b\")))\n",
    "display_list(equal(list(\"a\", \"b\"), list(\"a\", list(\"b\"))))"
   ]
  },
  {
   "cell_type": "markdown",
   "metadata": {},
   "source": [
    "### 集合作为未排序的表 \n",
    "1. element_of_set: &Theta;(n) \n",
    "2. adjoin_set: &Theta;(n)  \n",
    "3. intersection_set: &Theta;(n*n)  \n",
    "4. union_set: &Theta;(n*n)  "
   ]
  },
  {
   "cell_type": "code",
   "execution_count": 2,
   "metadata": {},
   "outputs": [
    {
     "name": "stdout",
     "output_type": "stream",
     "text": [
      "True\n",
      "False\n"
     ]
    }
   ],
   "source": [
    "from base_definition import  car, cdr, list\n",
    "\n",
    "def element_of_set(x, set):\n",
    "    if set is None:\n",
    "        return False\n",
    "    if x == car(set):\n",
    "        return True\n",
    "    return element_of_set(x, cdr(set))\n",
    "\n",
    "s = list(1, 2, 3, 4)\n",
    "print(element_of_set(4, s))\n",
    "print(element_of_set(5, s))"
   ]
  },
  {
   "cell_type": "code",
   "execution_count": 3,
   "metadata": {},
   "outputs": [
    {
     "name": "stdout",
     "output_type": "stream",
     "text": [
      "( 0 1 2 3 4 )\n",
      "( 1 2 3 4 )\n"
     ]
    }
   ],
   "source": [
    "from base_definition import car, cdr, list, cons, display_list\n",
    "\n",
    "\n",
    "def element_of_set(x, set):\n",
    "    if set is None:\n",
    "        return False\n",
    "    if x == car(set):\n",
    "        return True\n",
    "    return element_of_set(x, cdr(set))\n",
    "\n",
    "\n",
    "def adjoin_set(x, s):\n",
    "    if element_of_set(x, s):\n",
    "        return s\n",
    "    return cons(x, s)\n",
    "\n",
    "\n",
    "s = list(1, 2, 3, 4)\n",
    "\n",
    "display_list(adjoin_set(0, s))\n",
    "display_list(adjoin_set(3, s))"
   ]
  },
  {
   "cell_type": "code",
   "execution_count": 4,
   "metadata": {},
   "outputs": [
    {
     "name": "stdout",
     "output_type": "stream",
     "text": [
      "( 2 3 )\n"
     ]
    }
   ],
   "source": [
    "from base_definition import car, cdr, list, cons, display_list\n",
    "\n",
    "\n",
    "def element_of_set(x, set):\n",
    "    if set is None:\n",
    "        return False\n",
    "    if x == car(set):\n",
    "        return True\n",
    "    return element_of_set(x, cdr(set))\n",
    "\n",
    "def intersection_set(s1, s2):\n",
    "    if s1 is None or s2 is None:\n",
    "        return None\n",
    "    if element_of_set(car(s1), s2):\n",
    "        return cons(car(s1), intersection_set(cdr(s1), s2))\n",
    "    return intersection_set(cdr(s1), s2)\n",
    "\n",
    "\n",
    "\n",
    "s1 = list(1, 2, 3, 4)\n",
    "s2 = list(2, 3, 5, 6)\n",
    "r = intersection_set(s1, s2)\n",
    "display_list(r)\n"
   ]
  },
  {
   "cell_type": "markdown",
   "metadata": {},
   "source": [
    "### 2.59 "
   ]
  },
  {
   "cell_type": "code",
   "execution_count": 5,
   "metadata": {},
   "outputs": [
    {
     "name": "stdout",
     "output_type": "stream",
     "text": [
      "( 1 4 2 3 5 6 )\n"
     ]
    }
   ],
   "source": [
    "from base_definition import car, cdr, list, cons, display_list\n",
    "\n",
    "\n",
    "def element_of_set(x, set):\n",
    "    if set is None:\n",
    "        return False\n",
    "    if x == car(set):\n",
    "        return True\n",
    "    return element_of_set(x, cdr(set))\n",
    "\n",
    "def union_set(s1, s2):\n",
    "    if s1 is None:\n",
    "        return s2\n",
    "    if not element_of_set(car(s1), s2):\n",
    "        return cons(car(s1), union_set(cdr(s1), s2))\n",
    "    return union_set(cdr(s1), s2)\n",
    "\n",
    "s1 = list(1, 2, 3, 4)\n",
    "s2 = list(2, 3, 5, 6)\n",
    "r = union_set(s1, s2)\n",
    "display_list(r)"
   ]
  },
  {
   "cell_type": "markdown",
   "metadata": {},
   "source": [
    "### 2.60 \n",
    "1. element_of_set: &Theta;(n)  \n",
    "2. adjoin_set: &Theta;(1)  \n",
    "3. intersection_set: &Theta;(n*n)  \n",
    "4. union_set: &Theta;(n)  "
   ]
  },
  {
   "cell_type": "code",
   "execution_count": 9,
   "metadata": {},
   "outputs": [
    {
     "name": "stdout",
     "output_type": "stream",
     "text": [
      "( 2 3 2 3 2 2 2 2 3 )\n"
     ]
    }
   ],
   "source": [
    "from base_definition import car, cdr, list, cons, display_list, append\n",
    "\n",
    "\n",
    "def element_of_set(x, set):\n",
    "    if set is None:\n",
    "        return False\n",
    "    if x == car(set):\n",
    "        return True\n",
    "    return element_of_set(x, cdr(set))\n",
    "\n",
    "\n",
    "def adjoin_set(x, s):\n",
    "    return cons(x, s)\n",
    "\n",
    "\n",
    "def intersection_set(s1, s2):\n",
    "\n",
    "    def sub_intersection_set(s1, s2):\n",
    "        if s1 is None or s2 is None:\n",
    "            return None\n",
    "        if element_of_set(car(s1), s2):\n",
    "            return cons(car(s1), sub_intersection_set(cdr(s1), s2))\n",
    "        return sub_intersection_set(cdr(s1), s2)\n",
    "\n",
    "    r1 = sub_intersection_set(s1, s2)\n",
    "    r2 = sub_intersection_set(s2, s1)\n",
    "    r = append(r1, r2)\n",
    "    return r\n",
    "\n",
    "\n",
    "def union_set(s1, s2):\n",
    "    if s1 is None:\n",
    "        return s2\n",
    "    return cons(car(s1), union_set(cdr(s1), s2))\n",
    "\n",
    "\n",
    "s1 = list(2, 3, 2, 1, 3, 2, 2)\n",
    "s2 = list(2, 2, 3, 4)\n",
    "display_list(intersection_set(s1, s2))"
   ]
  },
  {
   "cell_type": "markdown",
   "metadata": {},
   "source": [
    "### 集合作为未排序的表 "
   ]
  },
  {
   "cell_type": "code",
   "execution_count": null,
   "metadata": {},
   "outputs": [],
   "source": []
  }
 ],
 "metadata": {
  "kernelspec": {
   "display_name": "Python 3",
   "language": "python",
   "name": "python3"
  },
  "language_info": {
   "codemirror_mode": {
    "name": "ipython",
    "version": 3
   },
   "file_extension": ".py",
   "mimetype": "text/x-python",
   "name": "python",
   "nbconvert_exporter": "python",
   "pygments_lexer": "ipython3",
   "version": "3.11.5"
  }
 },
 "nbformat": 4,
 "nbformat_minor": 2
}
