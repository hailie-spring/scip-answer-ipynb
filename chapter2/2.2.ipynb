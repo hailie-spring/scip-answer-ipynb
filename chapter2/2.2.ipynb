{
 "cells": [
  {
   "cell_type": "markdown",
   "metadata": {},
   "source": [
    "### 2.17 "
   ]
  },
  {
   "cell_type": "code",
   "execution_count": null,
   "metadata": {},
   "outputs": [],
   "source": [
    "from base_definition import cons, car, cdr\n",
    "\n",
    "\n",
    "def last_pair(a):\n",
    "    if a is None:\n",
    "        return None\n",
    "    if cdr(a) is None:\n",
    "        return car(a)\n",
    "    return last_pair(cdr(a))\n",
    "\n",
    "print(last_pair(None))\n",
    "print(last_pair(cons(6, None)))\n",
    "print(last_pair(cons(1, cons(2, None))))"
   ]
  },
  {
   "cell_type": "markdown",
   "metadata": {},
   "source": [
    "### 2.18 \n",
    "1. iteration"
   ]
  },
  {
   "cell_type": "code",
   "execution_count": null,
   "metadata": {},
   "outputs": [],
   "source": [
    "from base_definition import cons, car, cdr, list, display_list\n",
    "\n",
    "def reverse(lst):\n",
    "    def iter(lst, r):\n",
    "        if lst is None:\n",
    "            return r\n",
    "        r = cons(car(lst), r)\n",
    "        return iter(cdr(lst), r)\n",
    "    return iter(lst, None)\n",
    "\n",
    "l = list(1, 2, 3, 4)\n",
    "display_list(l)\n",
    "l = reverse(l)\n",
    "display_list(l)"
   ]
  },
  {
   "cell_type": "markdown",
   "metadata": {},
   "source": [
    "### 2.19  \n",
    "coin_values排列顺序不会影响cc给出的回答    "
   ]
  },
  {
   "cell_type": "code",
   "execution_count": null,
   "metadata": {},
   "outputs": [],
   "source": [
    "from base_definition import cdr, car, cons, list\n",
    "\n",
    "\n",
    "def length(items):\n",
    "    if items is None:\n",
    "        return 0\n",
    "    return 1 + length(cdr(items))\n",
    "\n",
    "\n",
    "def count_change(amount, coin_values):\n",
    "\n",
    "    def no_more(coin_values):\n",
    "        if length(coin_values) == 0:\n",
    "            return True\n",
    "        return False\n",
    "\n",
    "    def first_denomination(coin_values):\n",
    "        return car(coin_values)\n",
    "\n",
    "    def except_first_denomination(coin_values):\n",
    "        return cdr(coin_values)\n",
    "\n",
    "    def cc(amount, coin_values):\n",
    "        if amount == 0:\n",
    "            return 1\n",
    "        if amount < 0 or no_more(coin_values):\n",
    "            return 0\n",
    "        return cc(amount, except_first_denomination(coin_values)) + cc(\n",
    "            amount - first_denomination(coin_values), coin_values\n",
    "        )\n",
    "\n",
    "    return cc(amount, coin_values)\n",
    "\n",
    "\n",
    "coin_values = list(50, 25, 10, 5, 1)\n",
    "print(count_change(100, coin_values))"
   ]
  },
  {
   "cell_type": "markdown",
   "metadata": {},
   "source": [
    "### 2.20 \n",
    "1. recursion\n",
    "2. iteration\n"
   ]
  },
  {
   "cell_type": "code",
   "execution_count": null,
   "metadata": {},
   "outputs": [],
   "source": [
    "from base_definition import cons, display_list\n",
    "\n",
    "\n",
    "def sampe_parity(parity, *args):\n",
    "    if args == ():\n",
    "        return None\n",
    "    if args[0] % 2 == parity:\n",
    "        return cons(args[0], sampe_parity(parity, *args[1:]))\n",
    "    return sampe_parity(parity, *args[1:])\n",
    "\n",
    "\n",
    "lst = sampe_parity(1 % 2, 1, 2, 3, 4)\n",
    "display_list(lst)\n",
    "lst = sampe_parity(2 % 2, 2, 3, 4, 5)\n",
    "display_list(lst)"
   ]
  },
  {
   "cell_type": "code",
   "execution_count": null,
   "metadata": {},
   "outputs": [],
   "source": [
    "from base_definition import cons, set_cdr, display_list, cdr\n",
    "\n",
    "def append(lst, value):\n",
    "    if lst is None:\n",
    "        return cons(value, None)\n",
    "    if cdr(lst) is None:\n",
    "        return set_cdr(lst, cons(value, None))\n",
    "    return append(cdr(lst), value)\n",
    "\n",
    "def sampe_parity(*args):\n",
    "    if args is None:\n",
    "        raise Exception('disallow args to be None')\n",
    "    parity = args[0] % 2\n",
    "    def iter(result, *args):\n",
    "        if args  == ():\n",
    "            return result\n",
    "        if args[0] % 2 == parity:\n",
    "            result = append(result, args[0])\n",
    "        return iter(result, *args[1:])\n",
    "    return iter(None, *args)\n",
    "\n",
    "lst = sampe_parity(1, 2, 3, 4)\n",
    "display_list(lst)\n",
    "lst = sampe_parity(2, 3, 4, 5)\n",
    "display_list(lst)"
   ]
  },
  {
   "cell_type": "markdown",
   "metadata": {},
   "source": [
    "### 对表的映射"
   ]
  },
  {
   "cell_type": "code",
   "execution_count": null,
   "metadata": {},
   "outputs": [],
   "source": [
    "from base_definition import cons, cdr, car, list\n",
    "\n",
    "def scale_list(items, factor):\n",
    "    if items is None:\n",
    "        return None\n",
    "    return cons(car(items) * factor, scale_list(cdr(items), factor))\n",
    "\n",
    "lst = scale_list(list(1, 2, 3, 4), 2)\n",
    "display_list(lst)"
   ]
  },
  {
   "cell_type": "code",
   "execution_count": null,
   "metadata": {},
   "outputs": [],
   "source": [
    "from base_definition import cons, cdr, car, list, display_list\n",
    "\n",
    "\n",
    "def map(proc, items):\n",
    "    if items is None:\n",
    "        return None\n",
    "    return cons(proc(car(items)), map(proc, cdr(items)))\n",
    "\n",
    "\n",
    "lst = map(lambda x: x * x, list(1, 2, 3, 4))\n",
    "display_list(lst)\n",
    "lst = map(abs, list(-1, -2, 3, -4))\n",
    "display_list(lst)\n",
    "lst = map(lambda x: x * 2, list(1, 2, 3, 4))\n",
    "display_list(lst)"
   ]
  },
  {
   "cell_type": "markdown",
   "metadata": {},
   "source": [
    "### 2.21"
   ]
  },
  {
   "cell_type": "code",
   "execution_count": null,
   "metadata": {},
   "outputs": [],
   "source": [
    "from base_definition import cons, car, cdr, display_list, list\n",
    "\n",
    "def square_list(lst):\n",
    "    if lst is None:\n",
    "        return None\n",
    "    return cons(car(lst) * car(lst), square_list(cdr(lst)))\n",
    "\n",
    "lst = square_list(list(1, 2, 3, 4))\n",
    "display_list(lst)"
   ]
  },
  {
   "cell_type": "code",
   "execution_count": null,
   "metadata": {},
   "outputs": [],
   "source": [
    "from base_definition import cons, car, cdr, display_list, list\n",
    "\n",
    "\n",
    "def map(proc, items):\n",
    "    if items is None:\n",
    "        return None\n",
    "    return cons(proc(car(items)), map(proc, cdr(items)))\n",
    "\n",
    "\n",
    "def square_list(lst):\n",
    "    return map(lambda x: x * x, lst)\n",
    "\n",
    "lst = square_list(list(1, 2, 3, 4))\n",
    "display_list(lst)"
   ]
  },
  {
   "cell_type": "markdown",
   "metadata": {},
   "source": [
    "### 2.22\n",
    "1. first the answer reversed\n",
    "2. second the answer format is wrong"
   ]
  },
  {
   "cell_type": "code",
   "execution_count": null,
   "metadata": {},
   "outputs": [],
   "source": [
    "from base_definition import cons, car, cdr, list, display_list\n",
    "\n",
    "def square_list(items):\n",
    "\n",
    "    def iter(items, answer):\n",
    "        if items is None:\n",
    "            return answer\n",
    "        return iter(cdr(items) , cons(car(items) * car(items), answer)) # reversed\n",
    "    return iter(items, None)\n",
    "\n",
    "lst = square_list(list(1, 2, 3, 4))\n",
    "\n",
    "display_list(lst)"
   ]
  },
  {
   "cell_type": "code",
   "execution_count": null,
   "metadata": {},
   "outputs": [],
   "source": [
    "from base_definition import cons, car, cdr, list, display_list\n",
    "\n",
    "def square_list(items):\n",
    "\n",
    "    def iter(items, answer):\n",
    "        if items is None:\n",
    "            return answer\n",
    "        return iter(cdr(items) , cons(answer, car(items) * car(items))) # format is wrong\n",
    "    return iter(items, None)\n",
    "\n",
    "lst = square_list(list(1, 2, 3, 4))\n",
    "\n"
   ]
  },
  {
   "cell_type": "markdown",
   "metadata": {},
   "source": [
    "### 2.23 "
   ]
  },
  {
   "cell_type": "code",
   "execution_count": null,
   "metadata": {},
   "outputs": [],
   "source": [
    "from base_definition import list, car, cdr\n",
    "\n",
    "def for_each(display, lst):\n",
    "    if lst is None:\n",
    "        return\n",
    "    display(car(lst))\n",
    "    return for_each(display, cdr(lst))\n",
    "\n",
    "lst = list(1, 2, 3, 4)\n",
    "for_each(lambda x: print(x), lst)"
   ]
  }
 ],
 "metadata": {
  "kernelspec": {
   "display_name": "Python 3",
   "language": "python",
   "name": "python3"
  },
  "language_info": {
   "codemirror_mode": {
    "name": "ipython",
    "version": 3
   },
   "file_extension": ".py",
   "mimetype": "text/x-python",
   "name": "python",
   "nbconvert_exporter": "python",
   "pygments_lexer": "ipython3",
   "version": "3.11.5"
  }
 },
 "nbformat": 4,
 "nbformat_minor": 2
}
