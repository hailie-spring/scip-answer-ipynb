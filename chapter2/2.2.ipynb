{
 "cells": [
  {
   "cell_type": "markdown",
   "metadata": {},
   "source": [
    "### 2.17 "
   ]
  },
  {
   "cell_type": "code",
   "execution_count": null,
   "metadata": {},
   "outputs": [],
   "source": [
    "from base_definition import cons, car, cdr\n",
    "\n",
    "\n",
    "def last_pair(a):\n",
    "    if a is None:\n",
    "        return None\n",
    "    if cdr(a) is None:\n",
    "        return car(a)\n",
    "    return last_pair(cdr(a))\n",
    "\n",
    "print(last_pair(None))\n",
    "print(last_pair(cons(6, None)))\n",
    "print(last_pair(cons(1, cons(2, None))))"
   ]
  },
  {
   "cell_type": "markdown",
   "metadata": {},
   "source": [
    "### 2.18 \n",
    "1. iteration"
   ]
  },
  {
   "cell_type": "code",
   "execution_count": null,
   "metadata": {},
   "outputs": [],
   "source": [
    "class list:\n",
    "\n",
    "    def __init__(self, *args):\n",
    "        self.array = self.create(*args)\n",
    "\n",
    "    def create(self, *args):\n",
    "        if args == ():\n",
    "            return None\n",
    "        return cons(args[0], self.create(*args[1:]))\n",
    "\n",
    "    def last_pair(self):\n",
    "\n",
    "        def sub_last_pair(lst):\n",
    "            if lst is None:\n",
    "                return None\n",
    "            if cdr(lst) is None:\n",
    "                return lst\n",
    "            return sub_last_pair(cdr(lst))\n",
    "\n",
    "        return sub_last_pair(self.array)\n",
    "\n",
    "    def __str__(self):\n",
    "\n",
    "        def sub_display_list(lst):\n",
    "            if lst is None:\n",
    "                return \"\"\n",
    "            if not callable(lst):\n",
    "                return str(lst) + \" \"\n",
    "            return sub_display_list(car(lst)) + sub_display_list(cdr(lst))\n",
    "\n",
    "        text = sub_display_list(self.array)\n",
    "        text = \"( \" + text + \")\"\n",
    "        return text\n",
    "\n",
    "    def car(self):\n",
    "        return car(self.array)\n",
    "\n",
    "    def cdr(self):\n",
    "        return cdr(self.array)\n",
    "\n",
    "    def reverse(self):\n",
    "\n",
    "        def iter(lst, r):\n",
    "            if lst is None:\n",
    "                return r\n",
    "            r = cons(car(lst), r)\n",
    "            return iter(cdr(lst), r)\n",
    "\n",
    "        self.array = iter(self.array, None)\n",
    "\n",
    "\n",
    "\n",
    "l = list(1, 2, 3, 4)\n",
    "\n",
    "print(l)\n",
    "\n",
    "l.reverse()\n",
    "\n",
    "print(l)"
   ]
  },
  {
   "cell_type": "markdown",
   "metadata": {},
   "source": [
    "### 2.19  \n",
    "coin_values排列顺序不会影响cc给出的回答    "
   ]
  },
  {
   "cell_type": "code",
   "execution_count": null,
   "metadata": {},
   "outputs": [],
   "source": [
    "from base_definition import cdr, car, cons, list\n",
    "\n",
    "\n",
    "def length(items):\n",
    "    if items is None:\n",
    "        return 0\n",
    "    return 1 + length(cdr(items))\n",
    "\n",
    "\n",
    "def count_change(amount, coin_values):\n",
    "\n",
    "    def no_more(coin_values):\n",
    "        if length(coin_values) == 0:\n",
    "            return True\n",
    "        return False\n",
    "\n",
    "    def first_denomination(coin_values):\n",
    "        return car(coin_values)\n",
    "\n",
    "    def except_first_denomination(coin_values):\n",
    "        return cdr(coin_values)\n",
    "\n",
    "    def cc(amount, coin_values):\n",
    "        if amount == 0:\n",
    "            return 1\n",
    "        if amount < 0 or no_more(coin_values):\n",
    "            return 0\n",
    "        return cc(amount, except_first_denomination(coin_values)) + cc(\n",
    "            amount - first_denomination(coin_values), coin_values\n",
    "        )\n",
    "\n",
    "    return cc(amount, coin_values)\n",
    "\n",
    "\n",
    "coin_values = list(50, 25, 10, 5, 1)\n",
    "print(count_change(100, coin_values))"
   ]
  },
  {
   "cell_type": "markdown",
   "metadata": {},
   "source": [
    "### 2.20 \n",
    "1. recursion\n",
    "2. iteration\n"
   ]
  },
  {
   "cell_type": "code",
   "execution_count": null,
   "metadata": {},
   "outputs": [],
   "source": [
    "from base_definition import cons, display_list\n",
    "\n",
    "\n",
    "def sampe_parity(parity, *args):\n",
    "    if args == ():\n",
    "        return None\n",
    "    if args[0] % 2 == parity:\n",
    "        return cons(args[0], sampe_parity(parity, *args[1:]))\n",
    "    return sampe_parity(parity, *args[1:])\n",
    "\n",
    "\n",
    "lst = sampe_parity(1 % 2, 1, 2, 3, 4)\n",
    "display_list(lst)\n",
    "lst = sampe_parity(2 % 2, 2, 3, 4, 5)\n",
    "display_list(lst)"
   ]
  },
  {
   "cell_type": "code",
   "execution_count": null,
   "metadata": {},
   "outputs": [],
   "source": [
    "from base_definition import cons, set_cdr, display_list, cdr\n",
    "\n",
    "def append(lst, value):\n",
    "    if lst is None:\n",
    "        return cons(value, None)\n",
    "    if cdr(lst) is None:\n",
    "        return set_cdr(lst, cons(value, None))\n",
    "    return append(cdr(lst), value)\n",
    "\n",
    "def sampe_parity(*args):\n",
    "    if args is None:\n",
    "        raise Exception('disallow args to be None')\n",
    "    parity = args[0] % 2\n",
    "    def iter(result, *args):\n",
    "        if args  == ():\n",
    "            return result\n",
    "        if args[0] % 2 == parity:\n",
    "            result = append(result, args[0])\n",
    "        return iter(result, *args[1:])\n",
    "    return iter(None, *args)\n",
    "\n",
    "lst = sampe_parity(1, 2, 3, 4)\n",
    "display_list(lst)\n",
    "lst = sampe_parity(2, 3, 4, 5)\n",
    "display_list(lst)"
   ]
  },
  {
   "cell_type": "markdown",
   "metadata": {},
   "source": [
    "### 对表的映射"
   ]
  },
  {
   "cell_type": "code",
   "execution_count": null,
   "metadata": {},
   "outputs": [],
   "source": [
    "from base_definition import cons, cdr, car, list\n",
    "\n",
    "def scale_list(items, factor):\n",
    "    if items is None:\n",
    "        return None\n",
    "    return cons(car(items) * factor, scale_list(cdr(items), factor))\n",
    "\n",
    "lst = scale_list(list(1, 2, 3, 4), 2)\n",
    "display_list(lst)"
   ]
  },
  {
   "cell_type": "code",
   "execution_count": null,
   "metadata": {},
   "outputs": [],
   "source": [
    "from base_definition import cons, cdr, car, list, display_list\n",
    "\n",
    "\n",
    "def map(proc, items):\n",
    "    if items is None:\n",
    "        return None\n",
    "    return cons(proc(car(items)), map(proc, cdr(items)))\n",
    "\n",
    "\n",
    "lst = map(lambda x: x * x, list(1, 2, 3, 4))\n",
    "display_list(lst)\n",
    "lst = map(abs, list(-1, -2, 3, -4))\n",
    "display_list(lst)\n",
    "lst = map(lambda x: x * 2, list(1, 2, 3, 4))\n",
    "display_list(lst)"
   ]
  },
  {
   "cell_type": "markdown",
   "metadata": {},
   "source": [
    "### 2.21"
   ]
  },
  {
   "cell_type": "code",
   "execution_count": null,
   "metadata": {},
   "outputs": [],
   "source": [
    "from base_definition import cons, car, cdr, display_list, list\n",
    "\n",
    "def square_list(lst):\n",
    "    if lst is None:\n",
    "        return None\n",
    "    return cons(car(lst) * car(lst), square_list(cdr(lst)))\n",
    "\n",
    "lst = square_list(list(1, 2, 3, 4))\n",
    "display_list(lst)"
   ]
  },
  {
   "cell_type": "code",
   "execution_count": null,
   "metadata": {},
   "outputs": [],
   "source": [
    "from base_definition import cons, car, cdr, display_list, list\n",
    "\n",
    "\n",
    "def map(proc, items):\n",
    "    if items is None:\n",
    "        return None\n",
    "    return cons(proc(car(items)), map(proc, cdr(items)))\n",
    "\n",
    "\n",
    "def square_list(lst):\n",
    "    return map(lambda x: x * x, lst)\n",
    "\n",
    "lst = square_list(list(1, 2, 3, 4))\n",
    "display_list(lst)"
   ]
  },
  {
   "cell_type": "markdown",
   "metadata": {},
   "source": [
    "### 2.22\n",
    "1. first the answer reversed\n",
    "2. second the answer format is wrong"
   ]
  },
  {
   "cell_type": "code",
   "execution_count": null,
   "metadata": {},
   "outputs": [],
   "source": [
    "from base_definition import cons, car, cdr, list, display_list\n",
    "\n",
    "def square_list(items):\n",
    "\n",
    "    def iter(items, answer):\n",
    "        if items is None:\n",
    "            return answer\n",
    "        return iter(cdr(items) , cons(car(items) * car(items), answer)) # reversed\n",
    "    return iter(items, None)\n",
    "\n",
    "lst = square_list(list(1, 2, 3, 4))\n",
    "\n",
    "display_list(lst)"
   ]
  },
  {
   "cell_type": "code",
   "execution_count": null,
   "metadata": {},
   "outputs": [],
   "source": [
    "from base_definition import cons, car, cdr, list, display_list\n",
    "\n",
    "def square_list(items):\n",
    "\n",
    "    def iter(items, answer):\n",
    "        if items is None:\n",
    "            return answer\n",
    "        return iter(cdr(items) , cons(answer, car(items) * car(items))) # format is wrong\n",
    "    return iter(items, None)\n",
    "\n",
    "lst = square_list(list(1, 2, 3, 4))\n",
    "\n"
   ]
  },
  {
   "cell_type": "markdown",
   "metadata": {},
   "source": [
    "### 2.23 "
   ]
  },
  {
   "cell_type": "code",
   "execution_count": null,
   "metadata": {},
   "outputs": [],
   "source": [
    "from base_definition import list, car, cdr\n",
    "\n",
    "def for_each(display, lst):\n",
    "    if lst is None:\n",
    "        return\n",
    "    display(car(lst))\n",
    "    return for_each(display, cdr(lst))\n",
    "\n",
    "lst = list(1, 2, 3, 4)\n",
    "for_each(lambda x: print(x), lst)"
   ]
  },
  {
   "cell_type": "markdown",
   "metadata": {},
   "source": [
    "### 层次性结构  \n",
    "1. length\n",
    "2. count leaves\n"
   ]
  },
  {
   "cell_type": "code",
   "execution_count": null,
   "metadata": {},
   "outputs": [],
   "source": [
    "from base_definition import cons, list\n",
    "\n",
    "def length(x):\n",
    "    if x  is None:\n",
    "        return 0\n",
    "    return 1 + length(cdr(x))\n",
    "\n",
    "x = cons(list(1, 2), list(3, 4))\n",
    "print(length(x))"
   ]
  },
  {
   "cell_type": "code",
   "execution_count": null,
   "metadata": {},
   "outputs": [],
   "source": [
    "from base_definition import cons, list\n",
    "\n",
    "\n",
    "def count_leaves(x):\n",
    "    if x is None:\n",
    "        return 0\n",
    "    if not callable(x):\n",
    "        return 1\n",
    "    return count_leaves(car(x)) + count_leaves(cdr(x))\n",
    "\n",
    "\n",
    "x = cons(list(1, 2), list(3, 4))\n",
    "print(count_leaves(x))"
   ]
  },
  {
   "cell_type": "markdown",
   "metadata": {},
   "source": [
    "### 2.24 \n",
    "refer to https://github.com/qiao/sicp-solutions/blob/master/chapter2/2.24.scm\n",
    ";;   [*][*]--->[*][/]\n",
    ";;    |         |\n",
    ";;    v         v\n",
    ";;   [1]       [*][*]--->[*][/]\n",
    ";;              |         |\n",
    ";;              v         v\n",
    ";;             [2]       [*][*]--->[*][/]\n",
    ";;                        |         |\n",
    ";;                        v         v\n",
    ";;                       [3]       [4]"
   ]
  },
  {
   "cell_type": "markdown",
   "metadata": {},
   "source": [
    "### 2.25 "
   ]
  },
  {
   "cell_type": "code",
   "execution_count": null,
   "metadata": {},
   "outputs": [],
   "source": [
    "from base_definition import cons, list\n",
    "\n",
    "x = cons(1, cons(3, cons(list(5, 7), 9)))\n",
    "print(car(cdr(car(cdr(cdr(x))))))\n",
    "x = cons(list(7), None)\n",
    "print(car(car(x)))\n",
    "x = list(1, 2, 3, 4, 5, 6, 7)\n",
    "print(car(cdr(cdr(cdr(cdr(cdr(cdr(x))))))))"
   ]
  },
  {
   "cell_type": "markdown",
   "metadata": {},
   "source": [
    "### 2.26 "
   ]
  },
  {
   "cell_type": "code",
   "execution_count": null,
   "metadata": {},
   "outputs": [],
   "source": [
    "from base_definition import  cons, list, display_list, car, cdr\n",
    "\n",
    "def append(x1, x2):\n",
    "    if x1 is None:\n",
    "        return x2\n",
    "    return cons(car(x1), append(cdr(x1), x2))\n",
    "\n",
    "x1 = list(1, 2, 3)\n",
    "x2 = list(4, 5, 6)\n",
    "x3 = append(x1, x2)\n",
    "display_list(x3)\n",
    "x4 = cons(x1, x2)\n",
    "display_list(x4)\n",
    "x5 = list(x1, x2)\n",
    "display_list(x5)\n",
    "\n"
   ]
  },
  {
   "cell_type": "markdown",
   "metadata": {},
   "source": [
    "### 2.27 "
   ]
  },
  {
   "cell_type": "code",
   "execution_count": null,
   "metadata": {},
   "outputs": [],
   "source": [
    "from base_definition import cons, car, cdr, display_list, list\n",
    "\n",
    "\n",
    "def reverse(x):\n",
    "    def iter(result, x):\n",
    "        if x is None:\n",
    "            return result\n",
    "        return iter(cons(car(x), result), cdr(x))\n",
    "\n",
    "    return iter(None, x)\n",
    "\n",
    "\n",
    "x = list(list(1, 2), list(3, 4))\n",
    "display_list(x)\n",
    "x1 = reverse(x)\n",
    "display_list(x1)"
   ]
  },
  {
   "cell_type": "code",
   "execution_count": null,
   "metadata": {},
   "outputs": [],
   "source": [
    "from base_definition import cons, car, cdr, display_list, list\n",
    "\n",
    "\n",
    "def reverse(x):\n",
    "    def iter(result, x):\n",
    "        if x is None:\n",
    "            return result\n",
    "        return iter(cons(car(x), result), cdr(x))\n",
    "\n",
    "    return iter(None, x)\n",
    "\n",
    "\n",
    "def deep_reverse(x):\n",
    "    if x is None:\n",
    "        return None\n",
    "    if not callable(x):\n",
    "        return x\n",
    "    return cons(deep_reverse(cdr(x)), deep_reverse(car(x)))\n",
    "\n",
    "\n",
    "x = list(1, 2, 3, 4)\n",
    "y = deep_reverse(x)\n",
    "display_list(y)\n",
    "y = list(x, list(4, 5), 7)\n",
    "y = deep_reverse(y)\n",
    "display_list(y)"
   ]
  },
  {
   "cell_type": "markdown",
   "metadata": {},
   "source": [
    "### 2.28"
   ]
  },
  {
   "cell_type": "code",
   "execution_count": null,
   "metadata": {},
   "outputs": [],
   "source": [
    "from base_definition import car, cdr, list\n",
    "\n",
    "\n",
    "def fringe(x):\n",
    "    if x is None:\n",
    "        return \"\"\n",
    "    if not callable(x):\n",
    "        return str(x) + \" \"\n",
    "    return fringe(car(x)) + fringe(cdr(x))\n",
    "\n",
    "\n",
    "x = list(list(1, 2), list(3, 4))\n",
    "y = fringe(x)\n",
    "print(y)\n",
    "y = fringe(list(x, x))\n",
    "print(y)\n"
   ]
  },
  {
   "cell_type": "markdown",
   "metadata": {},
   "source": [
    "### 2.29 "
   ]
  },
  {
   "cell_type": "code",
   "execution_count": null,
   "metadata": {},
   "outputs": [],
   "source": [
    "from base_definition import list, cons, car, cdr\n",
    "\n",
    "def make_mobile(left, right):\n",
    "    return list(left, right)\n",
    "\n",
    "def make_branch(length,  structure):\n",
    "    return list(length, structure)\n",
    "\n",
    "def left_branch(m):\n",
    "    return car(m)\n",
    "\n",
    "def right_branch(m):\n",
    "    return car(cdr(m))\n",
    "\n",
    "def branch_length(b):\n",
    "    return car(b)\n",
    "\n",
    "def branch_structure(b):\n",
    "    return car(cdr(b))\n",
    "\n",
    "\n"
   ]
  },
  {
   "cell_type": "markdown",
   "metadata": {},
   "source": [
    "### 对树的映射"
   ]
  },
  {
   "cell_type": "code",
   "execution_count": null,
   "metadata": {},
   "outputs": [],
   "source": [
    "from base_definition import cons, car, cdr, list, display_list\n",
    "\n",
    "\n",
    "def scale_tree(tree, factor):\n",
    "    if tree is None:\n",
    "        return None\n",
    "    if not callable(tree):\n",
    "        return tree * factor\n",
    "    return cons(scale_tree(car(tree), factor), scale_tree(cdr(tree), factor))\n",
    "\n",
    "x = list(list(1, 2, 3), 4, 5,6)\n",
    "display_list(x)\n",
    "y = scale_tree(x, 2)\n",
    "display_list(y)"
   ]
  },
  {
   "cell_type": "markdown",
   "metadata": {},
   "source": [
    "### 2.30\n",
    "1. recursion\n",
    "2. map"
   ]
  },
  {
   "cell_type": "code",
   "execution_count": null,
   "metadata": {},
   "outputs": [],
   "source": [
    "from base_definition import cons, car, cdr, display_list\n",
    "def square_tree(tree):\n",
    "    if tree is None:\n",
    "        return None\n",
    "    if not callable(tree):\n",
    "        return tree * tree\n",
    "    return cons(square_tree(car(tree)), square_tree(cdr(tree)))\n",
    "\n",
    "\n",
    "x = list(list(1, 2, 3), 4, 5,6)\n",
    "display_list(x)\n",
    "y = square_tree(x)\n",
    "display_list(y)"
   ]
  },
  {
   "cell_type": "code",
   "execution_count": null,
   "metadata": {},
   "outputs": [],
   "source": [
    "from base_definition import cons, car, cdr, display_list\n",
    "\n",
    "\n",
    "def map(proc, tree):\n",
    "    if tree is None:\n",
    "        return None\n",
    "    if not callable(tree):\n",
    "        return proc(tree)\n",
    "    return cons(map(proc, car(tree)), map(proc, cdr(tree)))\n",
    "\n",
    "\n",
    "def square_tree(tree):\n",
    "    return map(lambda x: x * x, tree)\n",
    "\n",
    "\n",
    "x = list(1, list(2, list(3, 4), 5), list(6, 7))\n",
    "display_list(x)\n",
    "y = square_tree(x)\n",
    "display_list(y)"
   ]
  },
  {
   "cell_type": "markdown",
   "metadata": {},
   "source": [
    "### 2.31 "
   ]
  },
  {
   "cell_type": "code",
   "execution_count": null,
   "metadata": {},
   "outputs": [],
   "source": [
    "from base_definition import cons, car, cdr, display_list, list\n",
    "\n",
    "\n",
    "def map(proc, tree):\n",
    "    if tree is None:\n",
    "        return None\n",
    "    if not callable(tree):\n",
    "        return proc(tree)\n",
    "    return cons(map(proc, car(tree)), map(proc, cdr(tree)))\n",
    "\n",
    "\n",
    "def square_tree(tree):\n",
    "    return map(lambda x: x * x, tree)\n",
    "\n",
    "\n",
    "x = list(1, list(2, list(3, 4), 5), list(6, 7))\n",
    "display_list(x)\n",
    "y = square_tree(x)\n",
    "display_list(y)"
   ]
  },
  {
   "cell_type": "markdown",
   "metadata": {},
   "source": [
    "### 2.32"
   ]
  },
  {
   "cell_type": "code",
   "execution_count": null,
   "metadata": {},
   "outputs": [],
   "source": [
    "from base_definition import  display_list, cons, car, cdr\n",
    "\n",
    "display_list(list())"
   ]
  },
  {
   "cell_type": "code",
   "execution_count": null,
   "metadata": {},
   "outputs": [],
   "source": [
    "from base_definition import  display_list, cons, car, cdr\n",
    "\n",
    "def list(*args):\n",
    "    if args == ():\n",
    "        return None\n",
    "    return cons(args[0], list(*args[1:]))\n",
    "\n",
    "def append(l1, l2):\n",
    "    if l1 is None:\n",
    "        return l2\n",
    "    return cons(car(l1), append(cdr(l1), l2))\n",
    "\n",
    "def map(proc, tree):\n",
    "    # if tree is None:\n",
    "    #     return None\n",
    "    if not callable(tree):\n",
    "        return proc(tree)\n",
    "    return cons(map(proc, car(tree)), map(proc, cdr(tree)))\n",
    "\n",
    "def subsets(s):\n",
    "    if s is None:\n",
    "        return None\n",
    "    rest = subsets(cdr(s))\n",
    "    return cons(rest, map(lambda x: cons(car(s), x), rest))\n",
    "\n",
    "\n",
    "s = list(1, 2)\n",
    "display_list(s)\n",
    "s = subsets(s)\n",
    "# import inspect\n",
    "# print(inspect.getsource(s))\n",
    "display_list(s)\n"
   ]
  },
  {
   "cell_type": "code",
   "execution_count": null,
   "metadata": {},
   "outputs": [],
   "source": [
    "def subsets(s):  \n",
    "    if s == []:  \n",
    "        return [[]]  # 空集合的子集是空集合  \n",
    "    else:  \n",
    "        rest_subsets = subsets(s[1:])  # 递归计算去除第一个元素后的子集  \n",
    "        first = s[0]  \n",
    "        # 对于每个子集，将第一个元素加入到子集中，并将新的子集加入结果集合中  \n",
    "        new_subsets = [subset + [first] for subset in rest_subsets]  \n",
    "        return rest_subsets + new_subsets  \n",
    "s = [1, 2]  \n",
    "result = subsets(s)  \n",
    "print(result)  "
   ]
  },
  {
   "cell_type": "markdown",
   "metadata": {},
   "source": []
  }
 ],
 "metadata": {
  "kernelspec": {
   "display_name": "Python 3",
   "language": "python",
   "name": "python3"
  },
  "language_info": {
   "codemirror_mode": {
    "name": "ipython",
    "version": 3
   },
   "file_extension": ".py",
   "mimetype": "text/x-python",
   "name": "python",
   "nbconvert_exporter": "python",
   "pygments_lexer": "ipython3",
   "version": "3.11.5"
  }
 },
 "nbformat": 4,
 "nbformat_minor": 2
}
