{
 "cells": [
  {
   "cell_type": "markdown",
   "metadata": {},
   "source": [
    "### 2.17 "
   ]
  },
  {
   "cell_type": "code",
   "execution_count": null,
   "metadata": {},
   "outputs": [],
   "source": [
    "from base_definition import cons, car, cdr\n",
    "\n",
    "\n",
    "def last_pair(a):\n",
    "    if a is None:\n",
    "        return None\n",
    "    if cdr(a) is None:\n",
    "        return car(a)\n",
    "    return last_pair(cdr(a))\n",
    "\n",
    "print(last_pair(None))\n",
    "print(last_pair(cons(6, None)))\n",
    "print(last_pair(cons(1, cons(2, None))))"
   ]
  },
  {
   "cell_type": "markdown",
   "metadata": {},
   "source": [
    "### 2.18 \n",
    "1. iteration"
   ]
  },
  {
   "cell_type": "code",
   "execution_count": null,
   "metadata": {},
   "outputs": [],
   "source": [
    "class list:\n",
    "\n",
    "    def __init__(self, *args):\n",
    "        self.array = self.create(*args)\n",
    "\n",
    "    def create(self, *args):\n",
    "        if args == ():\n",
    "            return None\n",
    "        return cons(args[0], self.create(*args[1:]))\n",
    "\n",
    "    def last_pair(self):\n",
    "\n",
    "        def sub_last_pair(lst):\n",
    "            if lst is None:\n",
    "                return None\n",
    "            if cdr(lst) is None:\n",
    "                return lst\n",
    "            return sub_last_pair(cdr(lst))\n",
    "\n",
    "        return sub_last_pair(self.array)\n",
    "\n",
    "    def __str__(self):\n",
    "\n",
    "        def sub_display_list(lst):\n",
    "            if lst is None:\n",
    "                return \"\"\n",
    "            if not callable(lst):\n",
    "                return str(lst) + \" \"\n",
    "            return sub_display_list(car(lst)) + sub_display_list(cdr(lst))\n",
    "\n",
    "        text = sub_display_list(self.array)\n",
    "        text = \"( \" + text + \")\"\n",
    "        return text\n",
    "\n",
    "    def car(self):\n",
    "        return car(self.array)\n",
    "\n",
    "    def cdr(self):\n",
    "        return cdr(self.array)\n",
    "\n",
    "    def reverse(self):\n",
    "\n",
    "        def iter(lst, r):\n",
    "            if lst is None:\n",
    "                return r\n",
    "            r = cons(car(lst), r)\n",
    "            return iter(cdr(lst), r)\n",
    "\n",
    "        self.array = iter(self.array, None)\n",
    "\n",
    "\n",
    "\n",
    "l = list(1, 2, 3, 4)\n",
    "\n",
    "print(l)\n",
    "\n",
    "l.reverse()\n",
    "\n",
    "print(l)"
   ]
  },
  {
   "cell_type": "markdown",
   "metadata": {},
   "source": [
    "### 2.19  \n",
    "coin_values排列顺序不会影响cc给出的回答    "
   ]
  },
  {
   "cell_type": "code",
   "execution_count": null,
   "metadata": {},
   "outputs": [],
   "source": [
    "from base_definition import cdr, car, cons, list\n",
    "\n",
    "\n",
    "def length(items):\n",
    "    if items is None:\n",
    "        return 0\n",
    "    return 1 + length(cdr(items))\n",
    "\n",
    "\n",
    "def count_change(amount, coin_values):\n",
    "\n",
    "    def no_more(coin_values):\n",
    "        if length(coin_values) == 0:\n",
    "            return True\n",
    "        return False\n",
    "\n",
    "    def first_denomination(coin_values):\n",
    "        return car(coin_values)\n",
    "\n",
    "    def except_first_denomination(coin_values):\n",
    "        return cdr(coin_values)\n",
    "\n",
    "    def cc(amount, coin_values):\n",
    "        if amount == 0:\n",
    "            return 1\n",
    "        if amount < 0 or no_more(coin_values):\n",
    "            return 0\n",
    "        return cc(amount, except_first_denomination(coin_values)) + cc(\n",
    "            amount - first_denomination(coin_values), coin_values\n",
    "        )\n",
    "\n",
    "    return cc(amount, coin_values)\n",
    "\n",
    "\n",
    "coin_values = list(50, 25, 10, 5, 1)\n",
    "print(count_change(100, coin_values))"
   ]
  },
  {
   "cell_type": "markdown",
   "metadata": {},
   "source": [
    "### 2.20 \n",
    "1. recursion\n",
    "2. iteration\n"
   ]
  },
  {
   "cell_type": "code",
   "execution_count": null,
   "metadata": {},
   "outputs": [],
   "source": [
    "from base_definition import cons, display_list\n",
    "\n",
    "\n",
    "def sampe_parity(parity, *args):\n",
    "    if args == ():\n",
    "        return None\n",
    "    if args[0] % 2 == parity:\n",
    "        return cons(args[0], sampe_parity(parity, *args[1:]))\n",
    "    return sampe_parity(parity, *args[1:])\n",
    "\n",
    "\n",
    "lst = sampe_parity(1 % 2, 1, 2, 3, 4)\n",
    "display_list(lst)\n",
    "lst = sampe_parity(2 % 2, 2, 3, 4, 5)\n",
    "display_list(lst)"
   ]
  },
  {
   "cell_type": "code",
   "execution_count": null,
   "metadata": {},
   "outputs": [],
   "source": [
    "from base_definition import cons, set_cdr, display_list, cdr\n",
    "\n",
    "def append(lst, value):\n",
    "    if lst is None:\n",
    "        return cons(value, None)\n",
    "    if cdr(lst) is None:\n",
    "        return set_cdr(lst, cons(value, None))\n",
    "    return append(cdr(lst), value)\n",
    "\n",
    "def sampe_parity(*args):\n",
    "    if args is None:\n",
    "        raise Exception('disallow args to be None')\n",
    "    parity = args[0] % 2\n",
    "    def iter(result, *args):\n",
    "        if args  == ():\n",
    "            return result\n",
    "        if args[0] % 2 == parity:\n",
    "            result = append(result, args[0])\n",
    "        return iter(result, *args[1:])\n",
    "    return iter(None, *args)\n",
    "\n",
    "lst = sampe_parity(1, 2, 3, 4)\n",
    "display_list(lst)\n",
    "lst = sampe_parity(2, 3, 4, 5)\n",
    "display_list(lst)"
   ]
  },
  {
   "cell_type": "markdown",
   "metadata": {},
   "source": [
    "### 对表的映射"
   ]
  },
  {
   "cell_type": "code",
   "execution_count": null,
   "metadata": {},
   "outputs": [],
   "source": [
    "from base_definition import cons, cdr, car, list\n",
    "\n",
    "def scale_list(items, factor):\n",
    "    if items is None:\n",
    "        return None\n",
    "    return cons(car(items) * factor, scale_list(cdr(items), factor))\n",
    "\n",
    "lst = scale_list(list(1, 2, 3, 4), 2)\n",
    "display_list(lst)"
   ]
  },
  {
   "cell_type": "code",
   "execution_count": null,
   "metadata": {},
   "outputs": [],
   "source": [
    "from base_definition import cons, cdr, car, list, display_list\n",
    "\n",
    "\n",
    "def map(proc, items):\n",
    "    if items is None:\n",
    "        return None\n",
    "    return cons(proc(car(items)), map(proc, cdr(items)))\n",
    "\n",
    "\n",
    "lst = map(lambda x: x * x, list(1, 2, 3, 4))\n",
    "display_list(lst)\n",
    "lst = map(abs, list(-1, -2, 3, -4))\n",
    "display_list(lst)\n",
    "lst = map(lambda x: x * 2, list(1, 2, 3, 4))\n",
    "display_list(lst)"
   ]
  },
  {
   "cell_type": "markdown",
   "metadata": {},
   "source": [
    "### 2.21"
   ]
  },
  {
   "cell_type": "code",
   "execution_count": null,
   "metadata": {},
   "outputs": [],
   "source": [
    "from base_definition import cons, car, cdr, display_list, list\n",
    "\n",
    "def square_list(lst):\n",
    "    if lst is None:\n",
    "        return None\n",
    "    return cons(car(lst) * car(lst), square_list(cdr(lst)))\n",
    "\n",
    "lst = square_list(list(1, 2, 3, 4))\n",
    "display_list(lst)"
   ]
  },
  {
   "cell_type": "code",
   "execution_count": null,
   "metadata": {},
   "outputs": [],
   "source": [
    "from base_definition import cons, car, cdr, display_list, list\n",
    "\n",
    "\n",
    "def map(proc, items):\n",
    "    if items is None:\n",
    "        return None\n",
    "    return cons(proc(car(items)), map(proc, cdr(items)))\n",
    "\n",
    "\n",
    "def square_list(lst):\n",
    "    return map(lambda x: x * x, lst)\n",
    "\n",
    "lst = square_list(list(1, 2, 3, 4))\n",
    "display_list(lst)"
   ]
  },
  {
   "cell_type": "markdown",
   "metadata": {},
   "source": [
    "### 2.22\n",
    "1. first the answer reversed\n",
    "2. second the answer format is wrong"
   ]
  },
  {
   "cell_type": "code",
   "execution_count": null,
   "metadata": {},
   "outputs": [],
   "source": [
    "from base_definition import cons, car, cdr, list, display_list\n",
    "\n",
    "def square_list(items):\n",
    "\n",
    "    def iter(items, answer):\n",
    "        if items is None:\n",
    "            return answer\n",
    "        return iter(cdr(items) , cons(car(items) * car(items), answer)) # reversed\n",
    "    return iter(items, None)\n",
    "\n",
    "lst = square_list(list(1, 2, 3, 4))\n",
    "\n",
    "display_list(lst)"
   ]
  },
  {
   "cell_type": "code",
   "execution_count": null,
   "metadata": {},
   "outputs": [],
   "source": [
    "from base_definition import cons, car, cdr, list, display_list\n",
    "\n",
    "def square_list(items):\n",
    "\n",
    "    def iter(items, answer):\n",
    "        if items is None:\n",
    "            return answer\n",
    "        return iter(cdr(items) , cons(answer, car(items) * car(items))) # format is wrong\n",
    "    return iter(items, None)\n",
    "\n",
    "lst = square_list(list(1, 2, 3, 4))\n",
    "\n"
   ]
  },
  {
   "cell_type": "markdown",
   "metadata": {},
   "source": [
    "### 2.23 "
   ]
  },
  {
   "cell_type": "code",
   "execution_count": null,
   "metadata": {},
   "outputs": [],
   "source": [
    "from base_definition import list, car, cdr\n",
    "\n",
    "def for_each(display, lst):\n",
    "    if lst is None:\n",
    "        return\n",
    "    display(car(lst))\n",
    "    return for_each(display, cdr(lst))\n",
    "\n",
    "lst = list(1, 2, 3, 4)\n",
    "for_each(lambda x: print(x), lst)"
   ]
  },
  {
   "cell_type": "markdown",
   "metadata": {},
   "source": [
    "### 层次性结构  \n",
    "1. length\n",
    "2. count leaves\n"
   ]
  },
  {
   "cell_type": "code",
   "execution_count": null,
   "metadata": {},
   "outputs": [],
   "source": [
    "from base_definition import cons, list\n",
    "\n",
    "def length(x):\n",
    "    if x  is None:\n",
    "        return 0\n",
    "    return 1 + length(cdr(x))\n",
    "\n",
    "x = cons(list(1, 2), list(3, 4))\n",
    "print(length(x))"
   ]
  },
  {
   "cell_type": "code",
   "execution_count": null,
   "metadata": {},
   "outputs": [],
   "source": [
    "from base_definition import cons, list\n",
    "\n",
    "\n",
    "def count_leaves(x):\n",
    "    if x is None:\n",
    "        return 0\n",
    "    if not callable(x):\n",
    "        return 1\n",
    "    return count_leaves(car(x)) + count_leaves(cdr(x))\n",
    "\n",
    "\n",
    "x = cons(list(1, 2), list(3, 4))\n",
    "print(count_leaves(x))"
   ]
  },
  {
   "cell_type": "markdown",
   "metadata": {},
   "source": [
    "### 2.24 \n",
    "refer to https://github.com/qiao/sicp-solutions/blob/master/chapter2/2.24.scm \n",
    ";;   [*][*]--->[*][/]  \n",
    ";;    |         | \n",
    ";;    v         v  \n",
    ";;   [1]       [*][*]--->[*][/]   \n",
    ";;              |         |  \n",
    ";;              v         v  \n",
    ";;             [2]       [*][*]--->[*][/]   \n",
    ";;                        |         |   \n",
    ";;                        v         v   \n",
    ";;                       [3]       [4]   "
   ]
  },
  {
   "cell_type": "code",
   "execution_count": null,
   "metadata": {},
   "outputs": [],
   "source": [
    "from base_definition import display_list, list\n",
    "\n",
    "lst = list(1, list(2, list(3, 4)))\n",
    "display_list(lst)"
   ]
  },
  {
   "cell_type": "markdown",
   "metadata": {},
   "source": [
    "### 2.25 "
   ]
  },
  {
   "cell_type": "code",
   "execution_count": null,
   "metadata": {},
   "outputs": [],
   "source": [
    "from base_definition import cons, list\n",
    "\n",
    "x = cons(1, cons(3, cons(list(5, 7), 9)))\n",
    "print(car(cdr(car(cdr(cdr(x))))))\n",
    "x = cons(list(7), None)\n",
    "print(car(car(x)))\n",
    "x = list(1, 2, 3, 4, 5, 6, 7)\n",
    "print(car(cdr(cdr(cdr(cdr(cdr(cdr(x))))))))"
   ]
  },
  {
   "cell_type": "markdown",
   "metadata": {},
   "source": [
    "### 2.26 "
   ]
  },
  {
   "cell_type": "code",
   "execution_count": null,
   "metadata": {},
   "outputs": [],
   "source": [
    "from base_definition import  cons, list, display_list, car, cdr\n",
    "\n",
    "def append(x1, x2):\n",
    "    if x1 is None:\n",
    "        return x2\n",
    "    return cons(car(x1), append(cdr(x1), x2))\n",
    "\n",
    "x1 = list(1, 2, 3)\n",
    "x2 = list(4, 5, 6)\n",
    "x3 = append(x1, x2)\n",
    "display_list(x3)\n",
    "x4 = cons(x1, x2)\n",
    "display_list(x4)\n",
    "x5 = list(x1, x2)\n",
    "display_list(x5)\n",
    "\n"
   ]
  },
  {
   "cell_type": "markdown",
   "metadata": {},
   "source": [
    "### 2.27 "
   ]
  },
  {
   "cell_type": "code",
   "execution_count": null,
   "metadata": {},
   "outputs": [],
   "source": [
    "from base_definition import cons, car, cdr, display_list, list\n",
    "\n",
    "\n",
    "def reverse(x):\n",
    "    def iter(result, x):\n",
    "        if x is None:\n",
    "            return result\n",
    "        return iter(cons(car(x), result), cdr(x))\n",
    "\n",
    "    return iter(None, x)\n",
    "\n",
    "\n",
    "x = list(list(1, 2), list(3, 4))\n",
    "display_list(x)\n",
    "x1 = reverse(x)\n",
    "display_list(x1)"
   ]
  },
  {
   "cell_type": "code",
   "execution_count": null,
   "metadata": {},
   "outputs": [],
   "source": [
    "from base_definition import cons, car, cdr, display_list, list\n",
    "\n",
    "\n",
    "def reverse(x):\n",
    "    def iter(result, x):\n",
    "        if x is None:\n",
    "            return result\n",
    "        return iter(cons(car(x), result), cdr(x))\n",
    "\n",
    "    return iter(None, x)\n",
    "\n",
    "\n",
    "def deep_reverse(x):\n",
    "    if x is None:\n",
    "        return None\n",
    "    if not callable(x):\n",
    "        return x\n",
    "    return cons(deep_reverse(cdr(x)), deep_reverse(car(x)))\n",
    "\n",
    "\n",
    "x = list(1, 2, 3, 4)\n",
    "y = deep_reverse(x)\n",
    "display_list(y)\n",
    "y = list(x, list(4, 5), 7)\n",
    "y = deep_reverse(y)\n",
    "display_list(y)"
   ]
  },
  {
   "cell_type": "markdown",
   "metadata": {},
   "source": [
    "### 2.28"
   ]
  },
  {
   "cell_type": "code",
   "execution_count": null,
   "metadata": {},
   "outputs": [],
   "source": [
    "from base_definition import car, cdr, list\n",
    "\n",
    "\n",
    "def fringe(x):\n",
    "    if x is None:\n",
    "        return \"\"\n",
    "    if not callable(x):\n",
    "        return str(x) + \" \"\n",
    "    return fringe(car(x)) + fringe(cdr(x))\n",
    "\n",
    "\n",
    "x = list(list(1, 2), list(3, 4))\n",
    "y = fringe(x)\n",
    "print(y)\n",
    "y = fringe(list(x, x))\n",
    "print(y)\n"
   ]
  },
  {
   "cell_type": "markdown",
   "metadata": {},
   "source": [
    "### 2.29 "
   ]
  },
  {
   "cell_type": "code",
   "execution_count": null,
   "metadata": {},
   "outputs": [],
   "source": [
    "from base_definition import list, cons, car, cdr\n",
    "\n",
    "def make_mobile(left, right):\n",
    "    return list(left, right)\n",
    "\n",
    "def make_branch(length,  structure):\n",
    "    return list(length, structure)\n",
    "\n",
    "def left_branch(m):\n",
    "    return car(m)\n",
    "\n",
    "def right_branch(m):\n",
    "    return car(cdr(m))\n",
    "\n",
    "def branch_length(b):\n",
    "    return car(b)\n",
    "\n",
    "def branch_structure(b):\n",
    "    return car(cdr(b))\n",
    "\n",
    "\n"
   ]
  },
  {
   "cell_type": "markdown",
   "metadata": {},
   "source": [
    "### 对树的映射"
   ]
  },
  {
   "cell_type": "code",
   "execution_count": null,
   "metadata": {},
   "outputs": [],
   "source": [
    "from base_definition import cons, car, cdr, list, display_list\n",
    "\n",
    "\n",
    "def scale_tree(tree, factor):\n",
    "    if tree is None:\n",
    "        return None\n",
    "    if not callable(tree):\n",
    "        return tree * factor\n",
    "    return cons(scale_tree(car(tree), factor), scale_tree(cdr(tree), factor))\n",
    "\n",
    "x = list(list(1, 2, 3), 4, 5,6)\n",
    "display_list(x)\n",
    "y = scale_tree(x, 2)\n",
    "display_list(y)"
   ]
  },
  {
   "cell_type": "markdown",
   "metadata": {},
   "source": [
    "### 2.30\n",
    "1. recursion\n",
    "2. map"
   ]
  },
  {
   "cell_type": "code",
   "execution_count": null,
   "metadata": {},
   "outputs": [],
   "source": [
    "from base_definition import cons, car, cdr, display_list\n",
    "def square_tree(tree):\n",
    "    if tree is None:\n",
    "        return None\n",
    "    if not callable(tree):\n",
    "        return tree * tree\n",
    "    return cons(square_tree(car(tree)), square_tree(cdr(tree)))\n",
    "\n",
    "\n",
    "x = list(list(1, 2, 3), 4, 5,6)\n",
    "display_list(x)\n",
    "y = square_tree(x)\n",
    "display_list(y)"
   ]
  },
  {
   "cell_type": "code",
   "execution_count": null,
   "metadata": {},
   "outputs": [],
   "source": [
    "from base_definition import cons, car, cdr, display_list\n",
    "\n",
    "\n",
    "def map(proc, tree):\n",
    "    if tree is None:\n",
    "        return None\n",
    "    if not callable(tree):\n",
    "        return proc(tree)\n",
    "    return cons(map(proc, car(tree)), map(proc, cdr(tree)))\n",
    "\n",
    "\n",
    "def square_tree(tree):\n",
    "    return map(lambda x: x * x, tree)\n",
    "\n",
    "\n",
    "x = list(1, list(2, list(3, 4), 5), list(6, 7))\n",
    "display_list(x)\n",
    "y = square_tree(x)\n",
    "display_list(y)"
   ]
  },
  {
   "cell_type": "markdown",
   "metadata": {},
   "source": [
    "### 2.31 "
   ]
  },
  {
   "cell_type": "code",
   "execution_count": null,
   "metadata": {},
   "outputs": [],
   "source": [
    "from base_definition import cons, car, cdr, display_list, list\n",
    "\n",
    "\n",
    "def map(proc, tree):\n",
    "    if tree is None:\n",
    "        return None\n",
    "    if not callable(tree):\n",
    "        return proc(tree)\n",
    "    return cons(map(proc, car(tree)), map(proc, cdr(tree)))\n",
    "\n",
    "\n",
    "def square_tree(tree):\n",
    "    return map(lambda x: x * x, tree)\n",
    "\n",
    "\n",
    "x = list(1, list(2, list(3, 4), 5), list(6, 7))\n",
    "display_list(x)\n",
    "y = square_tree(x)\n",
    "display_list(y)"
   ]
  },
  {
   "cell_type": "markdown",
   "metadata": {},
   "source": [
    "### 2.32"
   ]
  },
  {
   "cell_type": "code",
   "execution_count": null,
   "metadata": {},
   "outputs": [],
   "source": [
    "from base_definition import display_list, cons, car, cdr\n",
    "\n",
    "\n",
    "def list(*args):\n",
    "    if args == ():\n",
    "        return None\n",
    "    return cons(args[0], list(*args[1:]))\n",
    "\n",
    "\n",
    "def append(l1, l2):\n",
    "    if l1 is None:\n",
    "        return l2\n",
    "    return cons(car(l1), append(cdr(l1), l2))\n",
    "\n",
    "\n",
    "def map(proc, tree):\n",
    "    if tree is None:\n",
    "        return None\n",
    "    return cons(proc(car(tree)), map(proc, cdr(tree)))\n",
    "\n",
    "\n",
    "def subsets(s):\n",
    "    if s is None:\n",
    "        return list(None)\n",
    "    rest = subsets(cdr(s))\n",
    "    return append(rest, map(lambda x: cons(car(s), x) , rest))\n",
    "\n",
    "\n",
    "s = list(1, 2, 3)\n",
    "s = subsets(s)\n",
    "display_list(s)"
   ]
  },
  {
   "cell_type": "code",
   "execution_count": null,
   "metadata": {},
   "outputs": [],
   "source": [
    "def subsets(s):  \n",
    "    if s == []:  \n",
    "        return [[]]  # 空集合的子集是空集合  \n",
    "    else:  \n",
    "        rest_subsets = subsets(s[1:])  # 递归计算去除第一个元素后的子集  \n",
    "        first = s[0]  \n",
    "        # 对于每个子集，将第一个元素加入到子集中，并将新的子集加入结果集合中  \n",
    "        new_subsets = [subset + [first] for subset in rest_subsets]  \n",
    "        return rest_subsets + new_subsets  \n",
    "s = [1, 2]  \n",
    "result = subsets(s)  \n",
    "print(result)  "
   ]
  },
  {
   "cell_type": "markdown",
   "metadata": {},
   "source": [
    "### 示例代码"
   ]
  },
  {
   "cell_type": "code",
   "execution_count": null,
   "metadata": {},
   "outputs": [],
   "source": [
    "from base_definition import cons, car, cdr, list, display_list\n",
    "\n",
    "def sum_odd_squares(tree):\n",
    "    if tree is None:\n",
    "        return 0\n",
    "    if not callable(tree):\n",
    "        if tree % 2 != 0:\n",
    "            return tree * tree\n",
    "        return 0\n",
    "    return sum_odd_squares(car(tree)) + sum_odd_squares(cdr(tree))\n",
    "\n",
    "lst = list(list(1, 2), list(3, 4))\n",
    "display_list(lst)\n",
    "print(sum_odd_squares(lst))"
   ]
  },
  {
   "cell_type": "code",
   "execution_count": null,
   "metadata": {},
   "outputs": [],
   "source": [
    "def even_fibs(n):\n",
    "    memory_result = {0: 0, 1: 1}\n",
    "\n",
    "    def fib(k):\n",
    "        if k == 0 or k == 1:\n",
    "            return k\n",
    "        if k in memory_result:\n",
    "            return memory_result[k]\n",
    "        r = fib(k - 1) + fib(k - 2)\n",
    "        memory_result[k] = r\n",
    "        return r\n",
    "\n",
    "    def next_fibs(k):\n",
    "        if k > n:\n",
    "            return None\n",
    "        f = fib(k)\n",
    "        if f % 2 == 0:\n",
    "            return cons(f, next_fibs(k+1))\n",
    "        return next_fibs(k+1)\n",
    "    return next_fibs(0)\n",
    "\n",
    "f = even_fibs(10)\n",
    "display_list(f)"
   ]
  },
  {
   "cell_type": "code",
   "execution_count": null,
   "metadata": {},
   "outputs": [],
   "source": [
    "from base_definition import cons, car, cdr, list, display_list\n",
    "\n",
    "\n",
    "def filter(predict, sequence):\n",
    "    if sequence is None:\n",
    "        return None\n",
    "    if not callable(car(sequence)):\n",
    "        if predict(car(sequence)):\n",
    "            return cons(car(sequence), filter(predict, cdr(sequence)))\n",
    "        return filter(predict, cdr(sequence))\n",
    "    return cons(filter(predict, car(sequence)), filter(predict, cdr(sequence)))\n",
    "\n",
    "\n",
    "lst = list(1, 2, 3, 4)\n",
    "display_list(lst)\n",
    "r = filter(lambda x: x % 2 == 0, lst)\n",
    "display_list(r)\n",
    "lst = list(list(1, 2), list(3, 5))\n",
    "display_list(lst)\n",
    "r = filter(lambda x: x % 2 == 0, lst)\n",
    "display_list(r)"
   ]
  },
  {
   "cell_type": "code",
   "execution_count": null,
   "metadata": {},
   "outputs": [],
   "source": [
    "from base_definition import cons, car, cdr, list, display_list\n",
    "\n",
    "\n",
    "def accumulate(op, initial, sequence):\n",
    "    if sequence is None:\n",
    "        return initial\n",
    "    return op(car(sequence), accumulate(op, initial, cdr(sequence)))\n",
    "\n",
    "sequence = list(1, 2, 3, 4, 5)\n",
    "r = accumulate(lambda x, y: x + y, 0, sequence)\n",
    "print(r)\n",
    "r = accumulate(lambda x, y: x * y, 1, sequence)\n",
    "print(r)\n",
    "r = accumulate(cons, None, sequence)\n",
    "display_list(r)"
   ]
  },
  {
   "cell_type": "code",
   "execution_count": null,
   "metadata": {},
   "outputs": [],
   "source": [
    "from base_definition import cons, cdr, car, list, display_list\n",
    "\n",
    "def append(lst1, lst2):\n",
    "    if lst1 is None:\n",
    "        return lst2\n",
    "    return cons(car(lst1), append(cdr(lst1), lst2))\n",
    "    \n",
    "def enumerate_tree(tree):\n",
    "    if tree is None:\n",
    "        return None\n",
    "    if not callable(tree):\n",
    "        return list(tree)\n",
    "    return append(enumerate_tree(car(tree)), enumerate_tree(cdr(tree)))\n",
    "\n",
    "lst = list(1, list(2, list(3, 4)), 5)\n",
    "display_list(lst)\n",
    "r = enumerate_tree(lst)\n",
    "display_list(r)\n"
   ]
  },
  {
   "cell_type": "markdown",
   "metadata": {},
   "source": [
    "### 2.33 "
   ]
  },
  {
   "cell_type": "code",
   "execution_count": null,
   "metadata": {},
   "outputs": [],
   "source": [
    "from base_definition import cons, car, cdr, list, display_list\n",
    "\n",
    "def accumulate(op, initial, sequence):\n",
    "    if sequence is None:\n",
    "        return initial\n",
    "    return op(car(sequence), accumulate(op, initial, cdr(sequence)))\n",
    "\n",
    "def map(p, sequence):\n",
    "    return accumulate(lambda x, y: cons(p(x), y), None, sequence)\n",
    "\n",
    "sequence = list(1, 2, 3, 4, 5)\n",
    "r = map(lambda x: x * x, sequence)\n",
    "display_list(r)"
   ]
  },
  {
   "cell_type": "code",
   "execution_count": null,
   "metadata": {},
   "outputs": [],
   "source": [
    "from base_definition import cons, car, cdr, list, display_list\n",
    "\n",
    "\n",
    "def accumulate(op, initial, sequence):\n",
    "    if sequence is None:\n",
    "        return initial\n",
    "    return op(car(sequence), accumulate(op, initial, cdr(sequence)))\n",
    "\n",
    "\n",
    "def append(seq1, seq2):\n",
    "    return accumulate(cons, seq2, seq1)\n",
    "\n",
    "\n",
    "lst1 = list(1, 2)\n",
    "lst2 = list(3, 4)\n",
    "r = append(lst1, lst2)\n",
    "display_list(r)"
   ]
  },
  {
   "cell_type": "code",
   "execution_count": null,
   "metadata": {},
   "outputs": [],
   "source": [
    "from base_definition import cons, car, cdr, list, display_list\n",
    "\n",
    "\n",
    "def accumulate(op, initial, sequence):\n",
    "    if sequence is None:\n",
    "        return initial\n",
    "    return op(car(sequence), accumulate(op, initial, cdr(sequence)))\n",
    "\n",
    "\n",
    "def length(seq):\n",
    "    return accumulate(lambda x, y: 1 + y, 0, seq)\n",
    "\n",
    "\n",
    "seq = list(1, 2, 3, 4)\n",
    "r = length(seq)\n",
    "print(r)"
   ]
  },
  {
   "cell_type": "markdown",
   "metadata": {},
   "source": [
    "### 2.34 "
   ]
  },
  {
   "cell_type": "code",
   "execution_count": null,
   "metadata": {},
   "outputs": [],
   "source": [
    "from base_definition import cons, car, cdr, list, display_list\n",
    "\n",
    "\n",
    "def accumulate(op, initial, sequence):\n",
    "    if sequence is None:\n",
    "        return initial\n",
    "    return op(car(sequence), accumulate(op, initial, cdr(sequence)))\n",
    "\n",
    "def horner_eval(x, seq):\n",
    "    return accumulate(lambda coeff, terms: coeff + terms * x, 0, seq)\n",
    "\n",
    "lst = list(1, 3, 0, 5, 0, 1)\n",
    "r = horner_eval(2, lst)\n",
    "print(r)"
   ]
  },
  {
   "cell_type": "markdown",
   "metadata": {},
   "source": [
    "### 2.35 "
   ]
  },
  {
   "cell_type": "code",
   "execution_count": null,
   "metadata": {},
   "outputs": [],
   "source": [
    "from base_definition import cons, car, cdr, list\n",
    "\n",
    "\n",
    "def accumulate(op, initial, sequence):\n",
    "    if sequence is None:\n",
    "        return initial\n",
    "    return op(car(sequence), accumulate(op, initial, cdr(sequence)))\n",
    "\n",
    "def map(proc, tree):\n",
    "    if tree is None:\n",
    "        return None\n",
    "    return cons(proc(car(tree)), map(proc, cdr(tree)))\n",
    "    \n",
    "\n",
    "def count_leaves(seq):\n",
    "    return accumulate(lambda x, y: x + y, 0, map(lambda x: count_leaves(x) if callable(x) else 1, seq))\n",
    "\n",
    "\n",
    "lst = list(list(1, 2), list(2, 3, list(4, 5)))\n",
    "print(count_leaves(lst))"
   ]
  },
  {
   "cell_type": "markdown",
   "metadata": {},
   "source": [
    "### 2.36 "
   ]
  },
  {
   "cell_type": "code",
   "execution_count": null,
   "metadata": {},
   "outputs": [],
   "source": [
    "from base_definition import cons, car, cdr, list, display_list\n",
    "\n",
    "\n",
    "def map(proc, tree):\n",
    "    if tree is None:\n",
    "        return None\n",
    "    return cons(proc(car(tree)), map(proc, cdr(tree)))\n",
    "\n",
    "\n",
    "def accumulate(op, initial, sequence):\n",
    "    if sequence is None:\n",
    "        return initial\n",
    "    return op(car(sequence), accumulate(op, initial, cdr(sequence)))\n",
    "\n",
    "\n",
    "def accumulate_n(op, init, seqs):\n",
    "    if car(seqs) is None:\n",
    "        return None\n",
    "    return cons(\n",
    "        accumulate(op, init, map(car, seqs)), accumulate_n(op, init, map(cdr, seqs))\n",
    "    )\n",
    "\n",
    "\n",
    "seqs = list(list(1, 2, 3), list(4, 5, 6), list(7, 8, 9), list(10, 11, 12))\n",
    "r = accumulate_n(lambda x, y: x + y, 0, seqs)\n",
    "display_list(r)\n"
   ]
  },
  {
   "cell_type": "markdown",
   "metadata": {},
   "source": [
    "### 2.37 \n",
    "1. dot product\n",
    "2. matrix multiply vector\n",
    "3. transpose\n",
    "4. matrix multiply matrix"
   ]
  },
  {
   "cell_type": "code",
   "execution_count": null,
   "metadata": {},
   "outputs": [],
   "source": [
    "from base_definition import cons, car, cdr, list, display_list\n",
    "\n",
    "\n",
    "def map(proc, tree):\n",
    "    if tree is None:\n",
    "        return None\n",
    "    return cons(proc(car(tree)), map(proc, cdr(tree)))\n",
    "\n",
    "\n",
    "def extract(*trees):\n",
    "    if trees == ():\n",
    "        return None\n",
    "    return cons(trees[0], extract(*trees[1:]))\n",
    "\n",
    "\n",
    "def map_n(proc, *trees):\n",
    "    return accumulate_n(proc, 1, extract(*trees))\n",
    "\n",
    "\n",
    "def accumulate(op, initial, sequence):\n",
    "    if sequence is None:\n",
    "        return initial\n",
    "    return op(car(sequence), accumulate(op, initial, cdr(sequence)))\n",
    "\n",
    "\n",
    "def accumulate_n(op, init, seqs):\n",
    "    if car(seqs) is None:\n",
    "        return None\n",
    "    return cons(\n",
    "        accumulate(op, init, map(car, seqs)), accumulate_n(op, init, map(cdr, seqs))\n",
    "    )\n",
    "\n",
    "\n",
    "def dot_product(v, m):\n",
    "    return accumulate(lambda x, y: x + y, 0, map_n(lambda x, y: x * y, v, m))\n",
    "\n",
    "\n",
    "lst1 = list(1, 2, 3, 4)\n",
    "lst2 = list(4, 5, 6, 6)\n",
    "lst3 = list(6, 7, 8, 9)\n",
    "w = list(lst1, lst2, lst3)\n",
    "v = list(1, 2, 3, 4)\n",
    "r1 = dot_product(v, lst1)\n",
    "display_list(r1)"
   ]
  },
  {
   "cell_type": "code",
   "execution_count": null,
   "metadata": {},
   "outputs": [],
   "source": [
    "def matrix_vector(m, v):\n",
    "    return map(lambda x: dot_product(x, v), m)\n",
    "\n",
    "lst1 = list(1, 2, 3, 4)\n",
    "lst2 = list(4, 5, 6, 6)\n",
    "lst3 = list(6, 7, 8, 9)\n",
    "m = list(lst1, lst2, lst3)\n",
    "v = list(1, 2, 3, 4)\n",
    "r = matrix_vector(m, v)\n",
    "display_list(r)"
   ]
  },
  {
   "cell_type": "code",
   "execution_count": null,
   "metadata": {},
   "outputs": [],
   "source": [
    "def transpose(m):\n",
    "    return accumulate_n(cons, None, m)\n",
    "    \n",
    "\n",
    "lst1 = list(1, 2, 3, 4)\n",
    "lst2 = list(4, 5, 6, 6)\n",
    "lst3 = list(6, 7, 8, 9)\n",
    "m = list(lst1, lst2, lst3)\n",
    "display_list(m)\n",
    "r = transpose(m)\n",
    "display_list(r)"
   ]
  },
  {
   "cell_type": "code",
   "execution_count": null,
   "metadata": {},
   "outputs": [],
   "source": [
    "def matrix_matrix(m1, m2):\n",
    "    trans_m2 = transpose(m2)\n",
    "    return map(lambda x: matrix_vector(trans_m2, x), m1)\n",
    "\n",
    "\n",
    "lst1 = list(1, 2, 3, 4)\n",
    "lst2 = list(4, 5, 6, 6)\n",
    "lst3 = list(6, 7, 8, 9)\n",
    "m = list(lst1, lst2, lst3)\n",
    "n = list(list(1, 4, 6), list(2, 5, 7), list(3, 6, 8), list(4, 6, 9))\n",
    "r = matrix_matrix(m, n)\n",
    "display_list(r)"
   ]
  },
  {
   "cell_type": "markdown",
   "metadata": {},
   "source": [
    "### 2.38 \n",
    "1. op满足交换律"
   ]
  },
  {
   "cell_type": "code",
   "execution_count": 34,
   "metadata": {},
   "outputs": [
    {
     "name": "stdout",
     "output_type": "stream",
     "text": [
      "1.5\n",
      "0.16666666666666666\n",
      "( 1 ( 2 ( 3 ) ) )\n",
      "( ( ( 1 ) 2 ) 3 )\n"
     ]
    }
   ],
   "source": [
    "from base_definition import cons, car, cdr, list, display_list\n",
    "\n",
    "\n",
    "def fold_left(op, initial, seq):\n",
    "\n",
    "    def iter(result, rest):\n",
    "        if rest is None:\n",
    "            return result\n",
    "        return iter(op(result, car(rest)), cdr(rest))\n",
    "    return iter(initial, seq)\n",
    "\n",
    "def fold_right(op, initial, seq):\n",
    "    if seq is None:\n",
    "        return initial\n",
    "    return op(car(seq), fold_right(op, initial, cdr(seq)))\n",
    "\n",
    "\n",
    "l = fold_right(lambda x, y: x/y, 1, list(1, 2, 3))\n",
    "print(l)\n",
    "l=fold_left(lambda x, y: x/y, 1, list(1, 2, 3))\n",
    "print(l)\n",
    "l=fold_right(list, None, list(1, 2, 3))\n",
    "display_list(l)\n",
    "l=fold_left(list, None, list(1, 2, 3))\n",
    "display_list(l)"
   ]
  },
  {
   "cell_type": "markdown",
   "metadata": {},
   "source": [
    "### 2.39 "
   ]
  },
  {
   "cell_type": "code",
   "execution_count": 35,
   "metadata": {},
   "outputs": [
    {
     "name": "stdout",
     "output_type": "stream",
     "text": [
      "( 4 3 2 1 )\n",
      "( 4 3 2 1 )\n"
     ]
    }
   ],
   "source": [
    "from base_definition import cons, car, cdr, list, display_list\n",
    "\n",
    "def append(x1, x2):\n",
    "    if x1 is None:\n",
    "        return x2\n",
    "    return cons(car(x1), append(cdr(x1), x2))\n",
    "    \n",
    "def fold_left(op, initial, seq):\n",
    "\n",
    "    def iter(result, rest):\n",
    "        if rest is None:\n",
    "            return result\n",
    "        return iter(op(car(rest), result), cdr(rest))\n",
    "    return iter(initial, seq)\n",
    "\n",
    "def fold_right(op, initial, seq):\n",
    "    if seq is None:\n",
    "        return initial\n",
    "    return op(car(seq), fold_right(op, initial, cdr(seq)))\n",
    "\n",
    "def reverse(seq):\n",
    "    return fold_right(lambda x, y: append(y, list(x)), None, seq)\n",
    "\n",
    "seq = list(1, 2, 3, 4)\n",
    "r = reverse(seq)\n",
    "display_list(r)\n",
    "\n",
    "def reverse(seq):\n",
    "    return fold_left(lambda x, y: cons(x, y), None, seq)\n",
    "r = reverse(seq)\n",
    "display_list(r)"
   ]
  },
  {
   "cell_type": "markdown",
   "metadata": {},
   "source": []
  }
 ],
 "metadata": {
  "kernelspec": {
   "display_name": "Python 3",
   "language": "python",
   "name": "python3"
  },
  "language_info": {
   "codemirror_mode": {
    "name": "ipython",
    "version": 3
   },
   "file_extension": ".py",
   "mimetype": "text/x-python",
   "name": "python",
   "nbconvert_exporter": "python",
   "pygments_lexer": "ipython3",
   "version": "3.11.5"
  }
 },
 "nbformat": 4,
 "nbformat_minor": 2
}
