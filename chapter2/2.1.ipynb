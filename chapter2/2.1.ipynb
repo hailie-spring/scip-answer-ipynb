{
 "cells": [
  {
   "cell_type": "markdown",
   "metadata": {},
   "source": [
    "### 2.1"
   ]
  },
  {
   "cell_type": "code",
   "execution_count": null,
   "metadata": {},
   "outputs": [],
   "source": [
    "from base_definition import cons\n",
    "\n",
    "\n",
    "def make_rat(n, d):\n",
    "    def sign(n, d):\n",
    "        if n * d < 0:\n",
    "            return -1\n",
    "        return 1\n",
    "    return cons(sign(n, d) * abs(n), abs(d))\n",
    "\n",
    "r = make_rat(1, -3)\n",
    "print(r('car'))\n",
    "print(r('cdr'))\n",
    "r = make_rat(-1, -3)\n",
    "print(r('car'))\n",
    "print(r('cdr'))\n",
    "    "
   ]
  },
  {
   "cell_type": "markdown",
   "metadata": {},
   "source": [
    "### 2.2 "
   ]
  },
  {
   "cell_type": "code",
   "execution_count": null,
   "metadata": {},
   "outputs": [],
   "source": [
    "from base_definition import cons\n",
    "\n",
    "\n",
    "def make_point(x, y):\n",
    "    return cons(x, y)\n",
    "\n",
    "\n",
    "def x_point(p):\n",
    "    return p(\"car\")\n",
    "\n",
    "\n",
    "def y_point(p):\n",
    "    return p(\"cdr\")\n",
    "\n",
    "\n",
    "def make_segment(p1, p2):\n",
    "    return cons(p1, p2)\n",
    "\n",
    "\n",
    "def start_segment(s):\n",
    "    return s(\"car\")\n",
    "\n",
    "\n",
    "def end_segment(s):\n",
    "    return s(\"cdr\")\n",
    "\n",
    "\n",
    "def midpoint_segment(s):\n",
    "    start = start_segment(s)\n",
    "    end = end_segment(s)\n",
    "    mid_x = (x_point(start) + x_point(end)) / 2\n",
    "    mid_y = (y_point(start) + y_point(end)) / 2\n",
    "    return cons(mid_x, mid_y)\n",
    "\n",
    "\n",
    "def print_point(p):\n",
    "    print(\"({0},{1})\".format(x_point(p), y_point(p)))\n",
    "\n",
    "\n",
    "start_point = make_point(0, 0)\n",
    "end_point = make_point(5, 5)\n",
    "segment = make_segment(start_point, end_point)\n",
    "mid = midpoint_segment(segment)\n",
    "print_point(mid)"
   ]
  },
  {
   "cell_type": "markdown",
   "metadata": {},
   "source": [
    "### 2.3"
   ]
  },
  {
   "cell_type": "code",
   "execution_count": null,
   "metadata": {},
   "outputs": [],
   "source": [
    "from base_definition import cons, car, cdr\n",
    "\n",
    "\n",
    "def make_regtangle(length_segment, height_segment):\n",
    "    return cons(length_segment, height_segment)\n",
    "\n",
    "\n",
    "def calc_length(r):\n",
    "    ls = car(r)\n",
    "    p1 = car(ls)\n",
    "    p2 = cdr(ls)\n",
    "    return car(p2) - car(p1)\n",
    "\n",
    "\n",
    "def calc_height(r):\n",
    "    hs = cdr(r)\n",
    "    p1 = car(hs)\n",
    "    p2 = cdr(hs)\n",
    "    return cdr(p2) - cdr(p1)\n",
    "\n",
    "\n",
    "def calc_area(r):\n",
    "    return calc_length(r) * calc_height(r)\n",
    "\n",
    "\n",
    "def calc_perimeter(r):\n",
    "    return 2 * (calc_height(r) + calc_length(r))\n",
    "\n",
    "\n",
    "length_segment = cons(make_point(0, 0), make_point(3, 0))\n",
    "height_segment = cons(make_point(0, 0), make_point(0, 4))\n",
    "\n",
    "r = make_regtangle(length_segment, height_segment)\n",
    "print(calc_area(r))\n",
    "print(calc_perimeter(r))"
   ]
  },
  {
   "cell_type": "markdown",
   "metadata": {},
   "source": [
    "### 2.4 "
   ]
  },
  {
   "cell_type": "code",
   "execution_count": null,
   "metadata": {},
   "outputs": [],
   "source": [
    "def cons(x, y):\n",
    "    return lambda f: f(x, y)\n",
    "\n",
    "def car(z):\n",
    "    return (z (lambda p, q: p))\n",
    "\n",
    "def cdr(z):\n",
    "    return (z (lambda p, q: q))\n",
    "\n",
    "z = cons(1, 2)\n",
    "print(car(z))\n",
    "print(cdr(z))"
   ]
  },
  {
   "cell_type": "markdown",
   "metadata": {},
   "source": [
    "### 2.5\n",
    "1. recursion\n",
    "2. iteration\n",
    " \n"
   ]
  },
  {
   "cell_type": "code",
   "execution_count": null,
   "metadata": {},
   "outputs": [],
   "source": [
    "def expt(base, n):\n",
    "    if n == 0:\n",
    "        return 1\n",
    "    return base * expt(base, n - 1)\n",
    "\n",
    "\n",
    "def divider(base, n):\n",
    "    def iter(quotient, result):\n",
    "        if quotient % base != 0:\n",
    "            return result\n",
    "        return iter(quotient // base, result + 1)\n",
    "\n",
    "    return iter(n, 0)\n",
    "\n",
    "\n",
    "def cons(x, y):\n",
    "    return expt(2, x) * expt(3, y)\n",
    "\n",
    "\n",
    "def car(z):\n",
    "    if z % 2 == 0:\n",
    "        return 1 + car(z // 2)\n",
    "    return 0\n",
    "\n",
    "\n",
    "def cdr(z):\n",
    "    if z % 3 == 0:\n",
    "        return 1 + car(z // 3)\n",
    "    return 0\n",
    "\n",
    "\n",
    "z = cons(1, 2)\n",
    "print(z)\n",
    "print(car(z))\n",
    "print(cdr(z))"
   ]
  },
  {
   "cell_type": "code",
   "execution_count": null,
   "metadata": {},
   "outputs": [],
   "source": [
    "def expt(base, n):\n",
    "    if n == 0:\n",
    "        return 1\n",
    "    return base * expt(base, n - 1)\n",
    "\n",
    "def divider(base, n):\n",
    "    def iter(quotient, result):\n",
    "        if quotient % base != 0:\n",
    "            return result\n",
    "        return iter(quotient // base, result + 1)\n",
    "    return iter(n, 0)\n",
    "        \n",
    "def cons(x, y):\n",
    "    return expt(2, x) * expt(3, y)\n",
    "\n",
    "\n",
    "def car(z):\n",
    "    return divider(2, z)\n",
    "\n",
    "\n",
    "def cdr(z):\n",
    "    return divider(3, z)\n",
    "\n",
    "\n",
    "\n",
    "z = cons(1, 2)\n",
    "print(z)\n",
    "print(car(z))\n",
    "print(cdr(z))"
   ]
  },
  {
   "cell_type": "markdown",
   "metadata": {},
   "source": [
    "### 2.6\n"
   ]
  },
  {
   "cell_type": "code",
   "execution_count": null,
   "metadata": {},
   "outputs": [],
   "source": [
    "zero = lambda f: lambda x: x\n",
    "succ = lambda n: lambda f: lambda x: f(n(f)(x))\n",
    "one = succ(zero)\n",
    "two = succ(one)\n",
    "three = succ(two)\n",
    "\n",
    "\n",
    "def church_to_int(n):\n",
    "    return n(lambda x: x + 1)(0)\n",
    "\n",
    "\n",
    "print(church_to_int(zero))  # 输出 0\n",
    "print(church_to_int(one))  # 输出 1\n",
    "print(church_to_int(two))  # 输出 2\n",
    "print(church_to_int(three))  # 输出 3"
   ]
  },
  {
   "cell_type": "markdown",
   "metadata": {},
   "source": [
    "### 2.7 "
   ]
  },
  {
   "cell_type": "code",
   "execution_count": 23,
   "metadata": {},
   "outputs": [
    {
     "name": "stdout",
     "output_type": "stream",
     "text": [
      "7.48\n",
      "6.12\n"
     ]
    }
   ],
   "source": [
    "from base_definition import cons, car, cdr\n",
    "\n",
    "def make_interval(a, b):\n",
    "    return cons(a, b)\n",
    "\n",
    "\n",
    "def upper_bound(i):\n",
    "    return cdr(i)\n",
    "\n",
    "def lower_bound(i):\n",
    "    return car(i)\n",
    "\n",
    "i = make_interval(6.12, 7.48)\n",
    "print(upper_bound(i))\n",
    "print(lower_bound(i))"
   ]
  },
  {
   "cell_type": "markdown",
   "metadata": {},
   "source": [
    "### 2.8\n"
   ]
  },
  {
   "cell_type": "code",
   "execution_count": 24,
   "metadata": {},
   "outputs": [
    {
     "name": "stdout",
     "output_type": "stream",
     "text": [
      "1.1799999999999997\n",
      "3.0100000000000007\n"
     ]
    }
   ],
   "source": [
    "from base_definition import cons, car, cdr\n",
    "\n",
    "def make_interval(a, b):\n",
    "    return cons(a, b)\n",
    "\n",
    "\n",
    "def upper_bound(i):\n",
    "    return cdr(i)\n",
    "\n",
    "def lower_bound(i):\n",
    "    return car(i)\n",
    "\n",
    "def add_interval(x, y):\n",
    "    return cons(lower_bound(x) + lower_bound(y), upper_bound(x) + upper_bound(y))\n",
    "\n",
    "def sub_interval(x, y):\n",
    "    return add_interval(x, cons(-upper_bound(y), -lower_bound(y)))\n",
    "\n",
    "i1 = make_interval(6.12, 7.48)\n",
    "i2 = make_interval(4.47, 4.94)\n",
    "i = sub_interval(i1, i2)\n",
    "print(car(i))\n",
    "print(cdr(i))"
   ]
  },
  {
   "cell_type": "markdown",
   "metadata": {},
   "source": [
    "### 2.9 \n",
    "refer to https://zh.wikipedia.org/zh-cn/%E5%8D%80%E9%96%93   \n",
    "x=[a, b]  \n",
    "width_x=b-a    \n",
    "y=[c, d]  \n",
    "with_y=d-c   \n",
    "x+y=[a+c, b+d]  \n",
    "x-y=[a-d, b-c]  \n",
    "width_x+y=b+d-a-c=(b-a)+(d-c)=width_x+width_y  \n",
    "width_x-y=(b-c)-(a-d)=(b-a)+(d-c)=width_x+width_y  "
   ]
  },
  {
   "cell_type": "markdown",
   "metadata": {},
   "source": [
    "### 2.10"
   ]
  },
  {
   "cell_type": "code",
   "execution_count": null,
   "metadata": {},
   "outputs": [],
   "source": [
    "from base_definition import cons, car, cdr\n",
    "\n",
    "\n",
    "def make_interval(a, b):\n",
    "    return cons(a, b)\n",
    "\n",
    "\n",
    "def upper_bound(i):\n",
    "    return cdr(i)\n",
    "\n",
    "\n",
    "def lower_bound(i):\n",
    "    return car(i)\n",
    "\n",
    "\n",
    "def mul_interval(x, y):\n",
    "    p1 = lower_bound(x) * lower_bound(y)\n",
    "    p2 = lower_bound(x) * upper_bound(y)\n",
    "    p3 = upper_bound(x) * lower_bound(y)\n",
    "    p4 = upper_bound(x) * upper_bound(y)\n",
    "    return make_interval(min(p1, p2, p3, p4), max(p1, p2, p3, p4))\n",
    "\n",
    "\n",
    "def div_interval(x, y):\n",
    "    if lower_bound(y) * upper_bound(y) <= 0:\n",
    "        raise ValueError(\"Division by interval containing zero\")\n",
    "    return mul_interval(x, make_interval(1 / upper_bound(y), 1 / lower_bound(y)))"
   ]
  },
  {
   "cell_type": "markdown",
   "metadata": {},
   "source": [
    "### 2.11 "
   ]
  },
  {
   "cell_type": "code",
   "execution_count": null,
   "metadata": {},
   "outputs": [],
   "source": [
    "from base_definition import cons, car, cdr\n",
    "\n",
    "\n",
    "def make_interval(a, b):\n",
    "    return cons(a, b)\n",
    "\n",
    "\n",
    "def upper_bound(i):\n",
    "    return cdr(i)\n",
    "\n",
    "\n",
    "def lower_bound(i):\n",
    "    return car(i)\n",
    "\n",
    "\n",
    "def mul_interval(x, y):\n",
    "    p1 = lower_bound(x) * lower_bound(y)\n",
    "    p2 = lower_bound(x) * upper_bound(y)\n",
    "    p3 = upper_bound(x) * lower_bound(y)\n",
    "    p4 = upper_bound(x) * upper_bound(y)\n",
    "    return make_interval(min(p1, p2, p3, p4), max(p1, p2, p3, p4))"
   ]
  },
  {
   "cell_type": "markdown",
   "metadata": {},
   "source": [
    "### 2.12 "
   ]
  },
  {
   "cell_type": "code",
   "execution_count": null,
   "metadata": {},
   "outputs": [],
   "source": [
    "from base_definition import cons, car, cdr\n",
    "\n",
    "\n",
    "def make_interval(a, b):\n",
    "    return cons(a, b)\n",
    "\n",
    "\n",
    "def upper_bound(i):\n",
    "    return cdr(i)\n",
    "\n",
    "\n",
    "def lower_bound(i):\n",
    "    return car(i)\n",
    "\n",
    "\n",
    "def make_center_width(c, w):\n",
    "    return make_interval(c - w, c + w)\n",
    "\n",
    "\n",
    "def center(i):\n",
    "    return (lower_bound(i) + upper_bound(i)) / 2\n",
    "\n",
    "\n",
    "def width(i):\n",
    "    return (upper_bound(i) - lower_bound(i)) / 2\n",
    "\n",
    "\n",
    "def make_center_percent(c, p):\n",
    "    w = c * p * 0.01\n",
    "    return make_center_width(c, w)\n",
    "\n",
    "\n",
    "def percent(i):\n",
    "    c = center(i)\n",
    "    w = width(i)\n",
    "    return w / c * 100"
   ]
  },
  {
   "cell_type": "markdown",
   "metadata": {},
   "source": [
    "### "
   ]
  }
 ],
 "metadata": {
  "kernelspec": {
   "display_name": "Python 3",
   "language": "python",
   "name": "python3"
  },
  "language_info": {
   "codemirror_mode": {
    "name": "ipython",
    "version": 3
   },
   "file_extension": ".py",
   "mimetype": "text/x-python",
   "name": "python",
   "nbconvert_exporter": "python",
   "pygments_lexer": "ipython3",
   "version": "3.11.5"
  }
 },
 "nbformat": 4,
 "nbformat_minor": 2
}
