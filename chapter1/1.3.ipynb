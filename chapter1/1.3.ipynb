{
 "cells": [
  {
   "cell_type": "markdown",
   "metadata": {},
   "source": [
    "### 过程作为参数"
   ]
  },
  {
   "cell_type": "code",
   "execution_count": null,
   "metadata": {},
   "outputs": [],
   "source": [
    "def sum_integers(a, b):\n",
    "    if a > b:\n",
    "        return 0\n",
    "    return a + sum_integers(a + 1, b)\n",
    "\n",
    "\n",
    "print(sum_integers(2, 3))"
   ]
  },
  {
   "cell_type": "code",
   "execution_count": null,
   "metadata": {},
   "outputs": [],
   "source": [
    "def pi_sum(a, b):\n",
    "    if a > b:\n",
    "        return 0\n",
    "    return 1 / (a * (a + 2)) + pi_sum(a + 4, b)\n",
    "\n",
    "\n",
    "print(pi_sum(1, 11))"
   ]
  },
  {
   "cell_type": "code",
   "execution_count": null,
   "metadata": {},
   "outputs": [],
   "source": [
    "def sum(term, a, next, b):\n",
    "    if a > b:\n",
    "        return 0\n",
    "    return term(a) + sum(term, next(a), next, b)\n",
    "\n",
    "\n",
    "def pi_sum(a, b):\n",
    "    def pi_term(a):\n",
    "        return 1 / (a * (a + 2))\n",
    "\n",
    "    def pi_next(a):\n",
    "        return a + 4\n",
    "\n",
    "    return sum(pi_term, a, pi_next, b)\n",
    "\n",
    "\n",
    "def integral(f, a, b, dx):\n",
    "    return sum(lambda x: f(x + dx / 2), a, lambda x: x + dx, b) * dx\n",
    "\n",
    "\n",
    "print(sum(lambda x: x, 0, lambda x: x + 1, 10))\n",
    "print(sum(lambda x: x * x * x, 0, lambda x: x + 1, 10))\n",
    "\n",
    "print(8 * pi_sum(1, 1000))\n",
    "print(integral(lambda x: x, 0, 1, 0.01))  # y=x\n",
    "print(integral(lambda x: x * x * x, 0, 1, 0.01))  # y=cube(x)\n",
    "print(integral(lambda x: x * x * x, 0, 1, 0.001))  # y=cube(x)"
   ]
  },
  {
   "cell_type": "markdown",
   "metadata": {},
   "source": [
    "### 1.29: simpson rule"
   ]
  },
  {
   "cell_type": "code",
   "execution_count": null,
   "metadata": {},
   "outputs": [],
   "source": [
    "def cube(x):\n",
    "    return x * x * x\n",
    "\n",
    "def identify(x):\n",
    "    return x\n",
    "\n",
    "\n",
    "def simpson_rule(f, a, b, n):\n",
    "    h = (b - a) / n\n",
    "\n",
    "    def next_k(k):\n",
    "        return k + 1\n",
    "\n",
    "    def factor(x):\n",
    "        if x == 0 or x == n:\n",
    "            return 1\n",
    "        if x % 2 == 0:\n",
    "            return 2\n",
    "        return 4\n",
    "\n",
    "    def term(k):\n",
    "        return f(a + k * h) * factor(k)\n",
    "\n",
    "    return sum(term, 0, next_k, n) * h / 3\n",
    "\n",
    "\n",
    "print(simpson_rule(cube, 0, 1, 100))\n",
    "print(simpson_rule(cube, 0, 1, 1000))\n",
    "print(simpson_rule(identify, 0, 1, 100))\n",
    "print(simpson_rule(identify, 0, 1, 1000))"
   ]
  },
  {
   "cell_type": "markdown",
   "metadata": {},
   "source": [
    "### 1.30: sum iteration"
   ]
  },
  {
   "cell_type": "code",
   "execution_count": null,
   "metadata": {},
   "outputs": [],
   "source": [
    "def sum(term, a, next, b):\n",
    "    def iter(index, result):\n",
    "        if index > b:\n",
    "            return result \n",
    "        return iter(next(index), result + term(index))\n",
    "\n",
    "    return iter(a, 0)\n",
    "\n",
    "print(sum(lambda x: x, 0, lambda x: x + 1, 10))\n",
    "print(sum(lambda x: x, 0, lambda x: x + 0.01, 1) * 0.01)"
   ]
  },
  {
   "cell_type": "markdown",
   "metadata": {},
   "source": [
    "### 1.31: product\n",
    "1. recursion\n",
    "2. iteration"
   ]
  },
  {
   "cell_type": "code",
   "execution_count": null,
   "metadata": {},
   "outputs": [],
   "source": [
    "def product(term, a, next, b):\n",
    "    if a > b:\n",
    "        return 1\n",
    "    return term(a) * product(term, next(a), next, b)\n",
    "\n",
    "# pi\n",
    "print(product(lambda a: ((a - 1) * (a + 1) / (a * a)), 3, lambda a: a + 2, 1000) * 4)"
   ]
  },
  {
   "cell_type": "code",
   "execution_count": null,
   "metadata": {},
   "outputs": [],
   "source": [
    "def product(term, a, next, b):\n",
    "    def iter(index, result):\n",
    "        if index > b:\n",
    "            return result\n",
    "        return iter(next(index), result * term(index))\n",
    "\n",
    "    return iter(a, 1)\n",
    "\n",
    "print(product(lambda a: ((a - 1) * (a + 1) / (a * a)), 3, lambda a: a + 2, 1000) * 4)"
   ]
  },
  {
   "cell_type": "markdown",
   "metadata": {},
   "source": [
    "### 1.32: accumulate\n",
    "1. recursion\n",
    "2. iteration"
   ]
  },
  {
   "cell_type": "code",
   "execution_count": null,
   "metadata": {},
   "outputs": [],
   "source": [
    "def accumulate(combiner, null_value, term, a, next, b):\n",
    "    if a > b:\n",
    "        return null_value\n",
    "    return combiner(term(a), accumulate(combiner, null_value, term, next(a), next, b))\n",
    "\n",
    "\n",
    "result = accumulate(\n",
    "    lambda x, y: x + y, 0, lambda x: x, 0, lambda x: x + 1, 10\n",
    ")  # 1+2+3...+10\n",
    "print(result)\n",
    "result = accumulate(lambda x, y: x * y, 1, lambda x: x, 1, lambda x: x + 1, 5)  # 5!\n",
    "print(result)"
   ]
  },
  {
   "cell_type": "code",
   "execution_count": null,
   "metadata": {},
   "outputs": [],
   "source": [
    "def accumulate(combiner, null_value, term, a, next, b):\n",
    "    def iter(index, result):\n",
    "        if index > b:\n",
    "            return result\n",
    "        return iter(next(index), combiner(term(index), result))\n",
    "    return iter(a, null_value)\n",
    "\n",
    "result = accumulate(\n",
    "    lambda x, y: x + y, 0, lambda x: x, 0, lambda x: x + 1, 10\n",
    ")  # 1+2+3...+10\n",
    "print(result)\n",
    "result = accumulate(lambda x, y: x * y, 1, lambda x: x, 1, lambda x: x + 1, 5)  # 5!\n",
    "print(result)"
   ]
  },
  {
   "cell_type": "markdown",
   "metadata": {},
   "source": [
    "### 1.33: filter\n",
    "1. recursion\n",
    "2. iteration"
   ]
  },
  {
   "cell_type": "code",
   "execution_count": null,
   "metadata": {},
   "outputs": [],
   "source": [
    "from base_definition import is_prime\n",
    "\n",
    "\n",
    "def filter_accumulate(combiner, filter, null_value, term, a, next, b):\n",
    "    if a > b:\n",
    "        return null_value\n",
    "    if filter(a):\n",
    "        return combiner(\n",
    "            term(a),\n",
    "            filter_accumulate(combiner, filter, null_value, term, next(a), next, b),\n",
    "        )\n",
    "    return filter_accumulate(combiner, filter, null_value, term, next(a), next, b)\n",
    "\n",
    "\n",
    "\n",
    "def gcd(a, b):\n",
    "    if b == 0:\n",
    "        return a\n",
    "    return gcd(b, a % b)\n",
    "\n",
    "\n",
    "\n",
    "def product_of_co_primes(n):\n",
    "    return filter_accumulate(\n",
    "    lambda x, y: x * y, lambda x: gcd(x, n) == 1, 1, lambda x: x, 1, lambda x: x + 1, 10\n",
    ")\n",
    "\n",
    "result = filter_accumulate(\n",
    "    lambda x, y: x + y, is_prime, 0, lambda x: x, 2, lambda x: x + 1, 10\n",
    ")\n",
    "print(result)\n",
    "result = product_of_co_primes(10)\n",
    "print(result)\n"
   ]
  },
  {
   "cell_type": "code",
   "execution_count": null,
   "metadata": {},
   "outputs": [],
   "source": [
    "from base_definition import is_prime\n",
    "\n",
    "\n",
    "def filter_accumulate(combiner, filter, null_value, term, a, next, b):\n",
    "    def iter(index, result):\n",
    "        if index > b:\n",
    "            return result\n",
    "        if filter(index):\n",
    "            return iter(next(index), combiner(term(index), result))\n",
    "        return iter(next(index), result)\n",
    "\n",
    "    return iter(a, null_value)\n",
    "\n",
    "\n",
    "def gcd(a, b):\n",
    "    if b == 0:\n",
    "        return a\n",
    "    return gcd(b, a % b)\n",
    "\n",
    "\n",
    "def product_of_co_primes(n):\n",
    "    return filter_accumulate(\n",
    "        lambda x, y: x * y,\n",
    "        lambda x: gcd(x, n) == 1,\n",
    "        1,\n",
    "        lambda x: x,\n",
    "        1,\n",
    "        lambda x: x + 1,\n",
    "        10,\n",
    "    )\n",
    "\n",
    "\n",
    "result = filter_accumulate(\n",
    "    lambda x, y: x + y, is_prime, 0, lambda x: x, 2, lambda x: x + 1, 10\n",
    ")\n",
    "print(result)\n",
    "result = product_of_co_primes(10)\n",
    "print(result)"
   ]
  },
  {
   "cell_type": "markdown",
   "metadata": {},
   "source": [
    "### 1.34 \n",
    "1. 如果求f(f), 会出错: 'int' object is not callable"
   ]
  },
  {
   "cell_type": "code",
   "execution_count": null,
   "metadata": {},
   "outputs": [],
   "source": [
    "def f(g):\n",
    "    return g(2)\n",
    "\n",
    "\n",
    "print(f(lambda x: x * x))\n",
    "print(f(lambda x: x * (x + 1)))\n",
    "print(f(f))"
   ]
  },
  {
   "cell_type": "markdown",
   "metadata": {},
   "source": [
    "### 通过区间折半寻找方程的根    "
   ]
  },
  {
   "cell_type": "code",
   "execution_count": null,
   "metadata": {},
   "outputs": [],
   "source": [
    "import math\n",
    "\n",
    "\n",
    "def search(f, neg_point, pos_point):\n",
    "    mid_point = (neg_point + pos_point) / 2\n",
    "\n",
    "    def close_enough(a, b):\n",
    "        return abs(a - b) < 0.001\n",
    "\n",
    "    if close_enough(neg_point, pos_point):\n",
    "        return mid_point\n",
    "    value = f(mid_point)\n",
    "    if value > 0:\n",
    "        return search(f, neg_point, mid_point)\n",
    "    elif value < 0:\n",
    "        return search(f, mid_point, pos_point)\n",
    "    return mid_point\n",
    "\n",
    "\n",
    "print(search(math.sin, 4, 2))\n",
    "print(search(lambda x: x * x * x - 2 * x - 3, 1, 2))"
   ]
  },
  {
   "cell_type": "markdown",
   "metadata": {},
   "source": [
    "### 找出函数的不动点"
   ]
  },
  {
   "cell_type": "code",
   "execution_count": null,
   "metadata": {},
   "outputs": [],
   "source": [
    "import math\n",
    "\n",
    "\n",
    "def fixed_point(f, guess):\n",
    "    def close_enough(a, b):\n",
    "        return abs(a - b) < 0.00001\n",
    "\n",
    "    next = f(guess)\n",
    "    if close_enough(next, guess):\n",
    "        return next\n",
    "    return fixed_point(f, next)\n",
    "\n",
    "\n",
    "print(fixed_point(math.cos, 1))\n",
    "\n",
    "\n",
    "def sqrt(x):\n",
    "    return fixed_point(lambda y: (y + x / y) / 2, 1)\n",
    "\n"
   ]
  },
  {
   "cell_type": "markdown",
   "metadata": {},
   "source": [
    "### 1.35"
   ]
  },
  {
   "cell_type": "code",
   "execution_count": null,
   "metadata": {},
   "outputs": [],
   "source": [
    "def fixed_point(f, guess):\n",
    "    def close_enough(a, b):\n",
    "        return abs(a - b) < 0.00001\n",
    "\n",
    "    next = f(guess)\n",
    "    if close_enough(next, guess):\n",
    "        return next\n",
    "    return fixed_point(f, next)\n",
    "\n",
    "print(fixed_point(lambda x: 1 + 1/x, 1.0))"
   ]
  },
  {
   "cell_type": "markdown",
   "metadata": {},
   "source": [
    "### 1.36"
   ]
  },
  {
   "cell_type": "code",
   "execution_count": null,
   "metadata": {},
   "outputs": [],
   "source": [
    "def fixed_point(f, guess):\n",
    "    def close_enough(a, b):\n",
    "        return abs(a - b) < 0.00001\n",
    "\n",
    "    next = f(guess)\n",
    "    if close_enough(next, guess):\n",
    "        return next\n",
    "    return fixed_point(f, next)\n",
    "\n",
    "print(fixed_point(lambda x: math.log(1000, x), 2.0))"
   ]
  },
  {
   "cell_type": "markdown",
   "metadata": {},
   "source": [
    "### 1.37\n",
    "1. recusion\n",
    "2. iteration"
   ]
  },
  {
   "cell_type": "code",
   "execution_count": null,
   "metadata": {},
   "outputs": [],
   "source": [
    "def cont_frac(n, d, k):\n",
    "    def cf(i):\n",
    "        if i == k:\n",
    "            return n(k) / d(k)\n",
    "        return n(i) / (d(i) + cf(i + 1))\n",
    "\n",
    "    return cf(1)\n",
    "\n",
    "\n",
    "print(cont_frac(lambda x: 1, lambda x: 1, 1000))"
   ]
  },
  {
   "cell_type": "code",
   "execution_count": null,
   "metadata": {},
   "outputs": [],
   "source": [
    "def d_func(k):\n",
    "    return 1\n",
    "\n",
    "\n",
    "def n_func(k):\n",
    "    return 1\n",
    "\n",
    "\n",
    "def cont_frac(n, d, k):\n",
    "    def iter(i, result):\n",
    "        if i == 0:\n",
    "            return result\n",
    "        return iter(i - 1, n(i) / (d(i) + result))\n",
    "\n",
    "    return iter(k - 1, n_func(k) / d_func(k))\n",
    "\n",
    "print(cont_frac(n_func, d_func, 1))\n",
    "print(cont_frac(n_func, d_func, 2))\n",
    "print(cont_frac(n_func, d_func, 1000))"
   ]
  },
  {
   "cell_type": "markdown",
   "metadata": {},
   "source": [
    "### 1.38: 欧拉展开式\n",
    "1. recursion\n",
    "2. iteration"
   ]
  },
  {
   "cell_type": "code",
   "execution_count": null,
   "metadata": {},
   "outputs": [],
   "source": [
    "def d_func(k):\n",
    "    if (k + 1) % 3 == 0:\n",
    "        return 2 * ((k + 1) // 3)\n",
    "    return 1\n",
    "\n",
    "\n",
    "def n_func(k):\n",
    "    return 1\n",
    "\n",
    "\n",
    "def cont_frac(n, d, k):\n",
    "    def cf(i):\n",
    "        if i == k:\n",
    "            return n(k) / d(k)\n",
    "        return n(i) / (d(i) + cf(i + 1))\n",
    "\n",
    "    return cf(1)\n",
    "\n",
    "\n",
    "print(cont_frac(n_func, d_func, 1000) + 2)\n"
   ]
  },
  {
   "cell_type": "code",
   "execution_count": null,
   "metadata": {},
   "outputs": [],
   "source": [
    "def d_func(k):\n",
    "    if (k + 1) % 3 == 0:\n",
    "        return 2 * ((k + 1) // 3)\n",
    "    return 1\n",
    "\n",
    "\n",
    "def n_func(k):\n",
    "    return 1\n",
    "\n",
    "\n",
    "def cont_frac(n, d, k):\n",
    "    def iter(i, result):\n",
    "        if i == 0:\n",
    "            return result\n",
    "        return iter(i - 1, n(i) / (d(i) + result))\n",
    "\n",
    "    return iter(k - 1, n_func(k) / d_func(k))\n",
    "\n",
    "\n",
    "print(cont_frac(n_func, d_func, 1000) + 2)"
   ]
  },
  {
   "cell_type": "markdown",
   "metadata": {},
   "source": [
    "### 1.39: tangent function\n",
    "1. recursion\n",
    "2. iteration"
   ]
  },
  {
   "cell_type": "code",
   "execution_count": null,
   "metadata": {},
   "outputs": [],
   "source": [
    "import math\n",
    "\n",
    "def cont_frac(n, d, k):\n",
    "    def iter(i, result):\n",
    "        if i == 0:\n",
    "            return result\n",
    "        return iter(i - 1, n(i) / (d(i) + result))\n",
    "\n",
    "    return iter(k - 1, n_func(k) / d_func(k))\n",
    "\n",
    "def tangent_func(x, k):\n",
    "\n",
    "    def n_func(k):\n",
    "        if k == 1:\n",
    "            return x\n",
    "        return -x * x\n",
    "\n",
    "    def d_func(k):\n",
    "        return 2 * k - 1\n",
    "\n",
    "    return cont_frac(n_func, d_func, k)\n",
    "\n",
    "print(math.tan(30))\n",
    "print(tangent_func(30, 1000))"
   ]
  },
  {
   "cell_type": "code",
   "execution_count": null,
   "metadata": {},
   "outputs": [],
   "source": [
    "import math\n",
    "\n",
    "def cont_frac(n, d, k):\n",
    "    def iter(i, result):\n",
    "        if i == 0:\n",
    "            return result\n",
    "        return iter(i - 1, n(i) / (d(i) + result))\n",
    "\n",
    "    return iter(k - 1, n_func(k) / d_func(k))\n",
    "\n",
    "def tangent_func(x, k):\n",
    "\n",
    "    def n_func(k):\n",
    "        if k == 1:\n",
    "            return x\n",
    "        return -x * x\n",
    "\n",
    "    def d_func(k):\n",
    "        return 2 * k - 1\n",
    "\n",
    "    return cont_frac(n_func, d_func, k)\n",
    "\n",
    "print(math.tan(30))\n",
    "print(tangent_func(30, 1000))"
   ]
  },
  {
   "cell_type": "markdown",
   "metadata": {},
   "source": [
    "### 牛顿法"
   ]
  },
  {
   "cell_type": "code",
   "execution_count": null,
   "metadata": {},
   "outputs": [],
   "source": [
    "from base_definition import cube\n",
    "dx = 0.00001\n",
    "\n",
    "\n",
    "def deriv(g):\n",
    "    return lambda x: (g(x + dx) - g(x)) / dx\n",
    "\n",
    "\n",
    "def func(x):\n",
    "    return x * x - 2 * x + 1\n",
    "\n",
    "\n",
    "deriv_func = deriv(func)\n",
    "print(deriv_func(1))\n",
    "print(deriv_func(2))\n",
    "deriv_func = deriv(cube)\n",
    "print(deriv_func(5))"
   ]
  },
  {
   "cell_type": "code",
   "execution_count": null,
   "metadata": {},
   "outputs": [],
   "source": [
    "def newton_transform(g):\n",
    "    return lambda x: x - g(x) / deriv(g)(x)\n",
    "\n",
    "\n",
    "def newtons_method(g, guess):\n",
    "    return fixed_point(newton_transform(g), guess)\n",
    "\n",
    "\n",
    "# x*x=y -> x*x -y = 0 求零点 -> f(x)=x - g(x)/d(g(x)) 求不动点\n",
    "def sqrt(x):\n",
    "    return newtons_method(lambda y: y * y - x, 1.0)\n",
    "\n",
    "print(sqrt(4))"
   ]
  },
  {
   "cell_type": "code",
   "execution_count": null,
   "metadata": {},
   "outputs": [],
   "source": [
    "def fixed_point_of_transform(g, transform, guess):\n",
    "    return fixed_point(transform(g), guess)\n",
    "\n",
    "def sqrt(x):\n",
    "    return fixed_point_of_transform(lambda y: y * y - x, newton_transform, 1.0)\n",
    "\n",
    "print(sqrt(4))"
   ]
  },
  {
   "cell_type": "markdown",
   "metadata": {},
   "source": [
    "### 1.40"
   ]
  },
  {
   "cell_type": "code",
   "execution_count": null,
   "metadata": {},
   "outputs": [],
   "source": [
    "from base_definition import cube, square\n",
    "\n",
    "\n",
    "def cubic(a, b, c):\n",
    "    return fixed_point_of_transform(\n",
    "        lambda x: cube(x) + a * square(x) + b * x + c, newton_transform, 1.0\n",
    "    )\n",
    "\n",
    "print(cubic(3, 2, 1))"
   ]
  },
  {
   "cell_type": "markdown",
   "metadata": {},
   "source": [
    "### 1.41"
   ]
  },
  {
   "cell_type": "code",
   "execution_count": null,
   "metadata": {},
   "outputs": [],
   "source": [
    "def double(f):\n",
    "    def sub_func(x):\n",
    "        return f(f(x))\n",
    "\n",
    "    return sub_func\n",
    "\n",
    "\n",
    "def inc(x):\n",
    "    return x + 1\n",
    "\n",
    "\n",
    "print(double(inc)(1))\n",
    "print(((double(double))(inc))(5))\n",
    "print(((double(double(double)))(inc))(5))"
   ]
  },
  {
   "cell_type": "markdown",
   "metadata": {},
   "source": [
    "### 1.42 "
   ]
  },
  {
   "cell_type": "code",
   "execution_count": null,
   "metadata": {},
   "outputs": [],
   "source": [
    "from base_definition import square\n",
    "\n",
    "def inc(x):\n",
    "    return x + 1\n",
    "\n",
    "def compose(f, g):\n",
    "    return lambda x: f(g(x))\n",
    "\n",
    "print(compose(square, inc)(6))\n",
    "\n"
   ]
  },
  {
   "cell_type": "markdown",
   "metadata": {},
   "source": [
    "### 1.43\n",
    "1. recursion\n",
    "2. iteration\n"
   ]
  },
  {
   "cell_type": "code",
   "execution_count": null,
   "metadata": {},
   "outputs": [],
   "source": [
    "from base_definition import square\n",
    "\n",
    "def repeated(func, k):\n",
    "    if k == 1:\n",
    "        return func\n",
    "    return compose(func, repeated(func, k - 1))\n",
    "\n",
    "print(repeated(square, 2)(5))"
   ]
  },
  {
   "cell_type": "code",
   "execution_count": null,
   "metadata": {},
   "outputs": [],
   "source": [
    "from base_definition import square\n",
    "\n",
    "def repeated(func, k):\n",
    "    def iter(index, result):\n",
    "        if index == 1:\n",
    "            return result\n",
    "        return iter(index - 1, compose(func, result))\n",
    "\n",
    "    return iter(k, func)\n",
    "\n",
    "print(repeated(square, 2)(5))"
   ]
  },
  {
   "cell_type": "markdown",
   "metadata": {},
   "source": [
    "### 1.44 "
   ]
  },
  {
   "cell_type": "code",
   "execution_count": null,
   "metadata": {},
   "outputs": [],
   "source": [
    "from base_definition import square\n",
    "\n",
    "dx = 0.0001\n",
    "\n",
    "\n",
    "def smooth(f):\n",
    "    return lambda x: (f(x + dx) + f(x) + f(x - dx)) / 3\n",
    "\n",
    "print(smooth(square)(5))\n",
    "\n",
    "def repeated(func, k):\n",
    "    if k == 1:\n",
    "        return func\n",
    "    return compose(func, repeated(func, k - 1))\n",
    "\n",
    "def repeated_smooth(f, n):\n",
    "    r = repeated(smooth, n)\n",
    "    return r(f)\n",
    "\n",
    "print(repeated_smooth(square, 10)(5))"
   ]
  },
  {
   "cell_type": "markdown",
   "metadata": {},
   "source": [
    "### 1.45\n",
    "1. repeated对于多个参数看起来是不生效的"
   ]
  },
  {
   "cell_type": "code",
   "execution_count": null,
   "metadata": {},
   "outputs": [],
   "source": [
    "import math\n",
    "\n",
    "\n",
    "def compose(f, g):\n",
    "    return lambda x: f(g(x))\n",
    "\n",
    "\n",
    "def repeated(f, n):\n",
    "    if n == 1:\n",
    "        return f\n",
    "    return f(repeated(f, n - 1))\n",
    "\n",
    "\n",
    "def fixed_point(f, first_guess):\n",
    "\n",
    "    def close_enough(v1, v2):\n",
    "        return abs(v1 - v2) < 0.00001\n",
    "\n",
    "    def try_it(guess):\n",
    "        next = f(guess)\n",
    "        if close_enough(next, guess):\n",
    "            return next\n",
    "        return try_it(next)\n",
    "\n",
    "    return try_it(first_guess)\n",
    "\n",
    "\n",
    "def average(x, y):\n",
    "    return (x + y) / 2\n",
    "\n",
    "\n",
    "def average_damp(f):\n",
    "    return lambda x: average(x, f(x))\n",
    "\n",
    "\n",
    "def fixed_point_of_transform(g, transform, first_guess):\n",
    "    return fixed_point(transform(g), first_guess)\n",
    "\n",
    "\n",
    "def damp_number(n):\n",
    "    return math.floor(math.log(n, 2))\n",
    "\n",
    "\n",
    "def pow(base, n):\n",
    "    if n == 0:\n",
    "        return 1\n",
    "    return base * pow(base, n - 1)\n",
    "\n",
    "\n",
    "def nth_root_of(x, n):\n",
    "    return fixed_point_of_transform(\n",
    "        lambda y: x / pow(y, n - 1), repeated(average_damp, damp_number(n)), 1.0\n",
    "    )\n",
    "\n",
    "f = repeated(average, 2)\n",
    "print(f(2,4))\n",
    "print(nth_root_of(4, 2))\n",
    "print(nth_root_of(8, 3))\n",
    "print(nth_root_of(16, 4))"
   ]
  },
  {
   "cell_type": "markdown",
   "metadata": {},
   "source": [
    "### 1.46"
   ]
  },
  {
   "cell_type": "code",
   "execution_count": null,
   "metadata": {},
   "outputs": [],
   "source": [
    "def iterative_improve(close_enough, improve_guess):\n",
    "    def try_it(x):\n",
    "        next = improve_guess(x)\n",
    "        if close_enough(x, next):\n",
    "            return next\n",
    "        return try_it(next)\n",
    "\n",
    "    return try_it\n",
    "\n",
    "\n",
    "def sqrt(x):\n",
    "    def close_enough(x, y):\n",
    "        return abs(x - y) < 0.001\n",
    "\n",
    "    def improve_guess(guess):\n",
    "        return (guess + x / guess) / 2\n",
    "\n",
    "    return iterative_improve(close_enough, improve_guess)(1.0)\n",
    "\n",
    "\n",
    "def fixed_point(f, x):\n",
    "    def close_enough(x, y):\n",
    "        return abs(x - y) < 0.00001\n",
    "\n",
    "    def improve_guess(guess):\n",
    "        return f(guess)\n",
    "\n",
    "    return iterative_improve(close_enough, improve_guess)(x)\n",
    "\n",
    "import math\n",
    "print(sqrt(4))\n",
    "print(math.cos(0.7390822985224023))\n",
    "print(fixed_point(math.cos, 1.0))"
   ]
  }
 ],
 "metadata": {
  "kernelspec": {
   "display_name": "Python 3",
   "language": "python",
   "name": "python3"
  },
  "language_info": {
   "codemirror_mode": {
    "name": "ipython",
    "version": 3
   },
   "file_extension": ".py",
   "mimetype": "text/x-python",
   "name": "python",
   "nbconvert_exporter": "python",
   "pygments_lexer": "ipython3",
   "version": "3.11.5"
  }
 },
 "nbformat": 4,
 "nbformat_minor": 2
}
