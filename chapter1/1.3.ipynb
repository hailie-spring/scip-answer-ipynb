{
 "cells": [
  {
   "cell_type": "markdown",
   "metadata": {},
   "source": [
    "### 过程作为参数"
   ]
  },
  {
   "cell_type": "code",
   "execution_count": null,
   "metadata": {},
   "outputs": [],
   "source": [
    "def sum_integers(a, b):\n",
    "    if a > b:\n",
    "        return 0\n",
    "    return a + sum_integers(a + 1, b)\n",
    "\n",
    "\n",
    "print(sum_integers(2, 3))"
   ]
  },
  {
   "cell_type": "code",
   "execution_count": null,
   "metadata": {},
   "outputs": [],
   "source": [
    "def pi_sum(a, b):\n",
    "    if a > b:\n",
    "        return 0\n",
    "    return 1 / (a * (a + 2)) + pi_sum(a + 4, b)\n",
    "\n",
    "\n",
    "print(pi_sum(1, 11))"
   ]
  },
  {
   "cell_type": "code",
   "execution_count": null,
   "metadata": {},
   "outputs": [],
   "source": [
    "def sum(term, a, next, b):\n",
    "    if a > b:\n",
    "        return 0\n",
    "    return term(a) + sum(term, next(a), next, b)\n",
    "\n",
    "\n",
    "def pi_sum(a, b):\n",
    "    def pi_term(a):\n",
    "        return 1 / (a * (a + 2))\n",
    "\n",
    "    def pi_next(a):\n",
    "        return a + 4\n",
    "\n",
    "    return sum(pi_term, a, pi_next, b)\n",
    "\n",
    "\n",
    "def integral(f, a, b, dx):\n",
    "    return sum(lambda x: f(x + dx / 2), a, lambda x: x + dx, b) * dx\n",
    "\n",
    "\n",
    "print(sum(lambda x: x, 0, lambda x: x + 1, 10))\n",
    "print(sum(lambda x: x * x * x, 0, lambda x: x + 1, 10))\n",
    "\n",
    "print(8 * pi_sum(1, 1000))\n",
    "print(integral(lambda x: x, 0, 1, 0.01))  # y=x\n",
    "print(integral(lambda x: x * x * x, 0, 1, 0.01))  # y=cube(x)\n",
    "print(integral(lambda x: x * x * x, 0, 1, 0.001))  # y=cube(x)"
   ]
  },
  {
   "cell_type": "markdown",
   "metadata": {},
   "source": [
    "### 1.29: simpson rule"
   ]
  },
  {
   "cell_type": "code",
   "execution_count": null,
   "metadata": {},
   "outputs": [],
   "source": [
    "def cube(x):\n",
    "    return x * x * x\n",
    "\n",
    "def identify(x):\n",
    "    return x\n",
    "\n",
    "\n",
    "def simpson_rule(f, a, b, n):\n",
    "    h = (b - a) / n\n",
    "\n",
    "    def next_k(k):\n",
    "        return k + 1\n",
    "\n",
    "    def factor(x):\n",
    "        if x == 0 or x == n:\n",
    "            return 1\n",
    "        if x % 2 == 0:\n",
    "            return 2\n",
    "        return 4\n",
    "\n",
    "    def term(k):\n",
    "        return f(a + k * h) * factor(k)\n",
    "\n",
    "    return sum(term, 0, next_k, n) * h / 3\n",
    "\n",
    "\n",
    "print(simpson_rule(cube, 0, 1, 100))\n",
    "print(simpson_rule(cube, 0, 1, 1000))\n",
    "print(simpson_rule(identify, 0, 1, 100))\n",
    "print(simpson_rule(identify, 0, 1, 1000))"
   ]
  },
  {
   "cell_type": "markdown",
   "metadata": {},
   "source": [
    "### 1.30: sum iteration"
   ]
  },
  {
   "cell_type": "code",
   "execution_count": null,
   "metadata": {},
   "outputs": [],
   "source": [
    "def sum(term, a, next, b):\n",
    "    def iter(index, result):\n",
    "        if index > b:\n",
    "            return result \n",
    "        return iter(next(index), result + term(index))\n",
    "\n",
    "    return iter(a, 0)\n",
    "\n",
    "print(sum(lambda x: x, 0, lambda x: x + 1, 10))\n",
    "print(sum(lambda x: x, 0, lambda x: x + 0.01, 1) * 0.01)"
   ]
  },
  {
   "cell_type": "markdown",
   "metadata": {},
   "source": [
    "### 1.31: product\n",
    "1. recursion\n",
    "2. iteration"
   ]
  },
  {
   "cell_type": "code",
   "execution_count": null,
   "metadata": {},
   "outputs": [],
   "source": [
    "def product(term, a, next, b):\n",
    "    if a > b:\n",
    "        return 1\n",
    "    return term(a) * product(term, next(a), next, b)\n",
    "\n",
    "# pi\n",
    "print(product(lambda a: ((a - 1) * (a + 1) / (a * a)), 3, lambda a: a + 2, 1000) * 4)"
   ]
  },
  {
   "cell_type": "code",
   "execution_count": null,
   "metadata": {},
   "outputs": [],
   "source": [
    "def product(term, a, next, b):\n",
    "    def iter(index, result):\n",
    "        if index > b:\n",
    "            return result\n",
    "        return iter(next(index), result * term(index))\n",
    "\n",
    "    return iter(a, 1)\n",
    "\n",
    "print(product(lambda a: ((a - 1) * (a + 1) / (a * a)), 3, lambda a: a + 2, 1000) * 4)"
   ]
  },
  {
   "cell_type": "markdown",
   "metadata": {},
   "source": [
    "### 1.32: accumulate\n",
    "1. recursion\n",
    "2. iteration"
   ]
  },
  {
   "cell_type": "code",
   "execution_count": null,
   "metadata": {},
   "outputs": [],
   "source": [
    "def accumulate(combiner, null_value, term, a, next, b):\n",
    "    if a > b:\n",
    "        return null_value\n",
    "    return combiner(term(a), accumulate(combiner, null_value, term, next(a), next, b))\n",
    "\n",
    "\n",
    "result = accumulate(\n",
    "    lambda x, y: x + y, 0, lambda x: x, 0, lambda x: x + 1, 10\n",
    ")  # 1+2+3...+10\n",
    "print(result)\n",
    "result = accumulate(lambda x, y: x * y, 1, lambda x: x, 1, lambda x: x + 1, 5)  # 5!\n",
    "print(result)"
   ]
  },
  {
   "cell_type": "code",
   "execution_count": null,
   "metadata": {},
   "outputs": [],
   "source": [
    "def accumulate(combiner, null_value, term, a, next, b):\n",
    "    def iter(index, result):\n",
    "        if index > b:\n",
    "            return result\n",
    "        return iter(next(index), combiner(term(index), result))\n",
    "    return iter(a, null_value)\n",
    "\n",
    "result = accumulate(\n",
    "    lambda x, y: x + y, 0, lambda x: x, 0, lambda x: x + 1, 10\n",
    ")  # 1+2+3...+10\n",
    "print(result)\n",
    "result = accumulate(lambda x, y: x * y, 1, lambda x: x, 1, lambda x: x + 1, 5)  # 5!\n",
    "print(result)"
   ]
  },
  {
   "cell_type": "markdown",
   "metadata": {},
   "source": [
    "### 1.33: filter\n",
    "1. recursion\n",
    "2. iteration"
   ]
  },
  {
   "cell_type": "code",
   "execution_count": null,
   "metadata": {},
   "outputs": [],
   "source": [
    "from base_definition import is_prime\n",
    "\n",
    "\n",
    "def filter_accumulate(combiner, filter, null_value, term, a, next, b):\n",
    "    if a > b:\n",
    "        return null_value\n",
    "    if filter(a):\n",
    "        return combiner(\n",
    "            term(a),\n",
    "            filter_accumulate(combiner, filter, null_value, term, next(a), next, b),\n",
    "        )\n",
    "    return filter_accumulate(combiner, filter, null_value, term, next(a), next, b)\n",
    "\n",
    "\n",
    "\n",
    "def gcd(a, b):\n",
    "    if b == 0:\n",
    "        return a\n",
    "    return gcd(b, a % b)\n",
    "\n",
    "\n",
    "\n",
    "def product_of_co_primes(n):\n",
    "    return filter_accumulate(\n",
    "    lambda x, y: x * y, lambda x: gcd(x, n) == 1, 1, lambda x: x, 1, lambda x: x + 1, 10\n",
    ")\n",
    "\n",
    "result = filter_accumulate(\n",
    "    lambda x, y: x + y, is_prime, 0, lambda x: x, 2, lambda x: x + 1, 10\n",
    ")\n",
    "print(result)\n",
    "result = product_of_co_primes(10)\n",
    "print(result)\n"
   ]
  },
  {
   "cell_type": "code",
   "execution_count": 8,
   "metadata": {},
   "outputs": [
    {
     "name": "stdout",
     "output_type": "stream",
     "text": [
      "17\n",
      "189\n"
     ]
    }
   ],
   "source": [
    "from base_definition import is_prime\n",
    "\n",
    "\n",
    "def filter_accumulate(combiner, filter, null_value, term, a, next, b):\n",
    "    def iter(index, result):\n",
    "        if index > b:\n",
    "            return result\n",
    "        if filter(index):\n",
    "            return iter(next(index), combiner(term(index), result))\n",
    "        return iter(next(index), result)\n",
    "\n",
    "    return iter(a, null_value)\n",
    "\n",
    "\n",
    "def gcd(a, b):\n",
    "    if b == 0:\n",
    "        return a\n",
    "    return gcd(b, a % b)\n",
    "\n",
    "\n",
    "def product_of_co_primes(n):\n",
    "    return filter_accumulate(\n",
    "        lambda x, y: x * y,\n",
    "        lambda x: gcd(x, n) == 1,\n",
    "        1,\n",
    "        lambda x: x,\n",
    "        1,\n",
    "        lambda x: x + 1,\n",
    "        10,\n",
    "    )\n",
    "\n",
    "\n",
    "result = filter_accumulate(\n",
    "    lambda x, y: x + y, is_prime, 0, lambda x: x, 2, lambda x: x + 1, 10\n",
    ")\n",
    "print(result)\n",
    "result = product_of_co_primes(10)\n",
    "print(result)"
   ]
  }
 ],
 "metadata": {
  "kernelspec": {
   "display_name": "Python 3",
   "language": "python",
   "name": "python3"
  },
  "language_info": {
   "codemirror_mode": {
    "name": "ipython",
    "version": 3
   },
   "file_extension": ".py",
   "mimetype": "text/x-python",
   "name": "python",
   "nbconvert_exporter": "python",
   "pygments_lexer": "ipython3",
   "version": "3.11.5"
  }
 },
 "nbformat": 4,
 "nbformat_minor": 2
}
