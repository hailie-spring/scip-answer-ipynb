{
 "cells": [
  {
   "cell_type": "markdown",
   "metadata": {},
   "source": [
    "### e.g. 利用递归和迭代计算阶乘 \n",
    "1. 递归过程：所需要消耗的存储量总与过程调用的数目成正比\n",
    "2. 迭代计算过程：总能在常量空间执行"
   ]
  },
  {
   "cell_type": "code",
   "execution_count": null,
   "metadata": {},
   "outputs": [],
   "source": [
    "def factorial(n):\n",
    "    if n == 1:\n",
    "        return 1\n",
    "    return n * factorial(n-1)\n",
    "\n",
    "print(factorial(1000))"
   ]
  },
  {
   "cell_type": "code",
   "execution_count": null,
   "metadata": {},
   "outputs": [],
   "source": [
    "def factorial(n):\n",
    "    def factorial_iter(product, counter):\n",
    "        if counter > n:\n",
    "            return product\n",
    "        return factorial_iter(product * counter, counter + 1)\n",
    "\n",
    "    return factorial_iter(1, 1)\n",
    "\n",
    "\n",
    "print(factorial(1000))"
   ]
  },
  {
   "cell_type": "markdown",
   "metadata": {},
   "source": [
    "### 1.9: 两个正整数相加的方法   \n",
    "\n",
    "1. 利用递归的层数来自我增加\n",
    "   "
   ]
  },
  {
   "cell_type": "code",
   "execution_count": null,
   "metadata": {},
   "outputs": [],
   "source": [
    "def inc(a):\n",
    "    return a + 1\n",
    "\n",
    "def dec(a):\n",
    "    return a-1\n",
    "\n",
    "def sum(a, b):\n",
    "    if a == 0:\n",
    "        return b\n",
    "    return inc(sum(dec(a), b))\n",
    "\n",
    "print(sum(2, 3))"
   ]
  },
  {
   "cell_type": "code",
   "execution_count": null,
   "metadata": {},
   "outputs": [],
   "source": [
    "def inc(a):\n",
    "    return a + 1\n",
    "\n",
    "def dec(a):\n",
    "    return a-1\n",
    "\n",
    "def sum(a, b):\n",
    "    if a == 0:\n",
    "        return b\n",
    "    return sum(dec(a), inc(b))\n",
    "\n",
    "print(sum(2, 3))"
   ]
  },
  {
   "cell_type": "markdown",
   "metadata": {},
   "source": [
    "### 1.10: Ackermann函数"
   ]
  },
  {
   "cell_type": "code",
   "execution_count": null,
   "metadata": {},
   "outputs": [],
   "source": [
    "def A(x, y):\n",
    "    if y == 0:\n",
    "        return 0\n",
    "    if x == 0:\n",
    "        return 2 *y\n",
    "    if y == 1:\n",
    "        return 2\n",
    "    return A(x-1, A(x, y-1))\n",
    "\n",
    "print(A(1, 10))\n",
    "print(A(2, 4))\n",
    "print(A(3, 3))"
   ]
  },
  {
   "cell_type": "code",
   "execution_count": null,
   "metadata": {},
   "outputs": [],
   "source": [
    "# 2*n\n",
    "def f(n):\n",
    "    return A(0, n)\n",
    "\n",
    "# 2^n\n",
    "def g(n):\n",
    "    return A(1, n)\n",
    "\n",
    "# 连续求n次二次幂\n",
    "def h(n):\n",
    "    return A(2, n)\n",
    "\n",
    "# 5n^2\n",
    "def k(n):\n",
    "    return 5*n*n\n",
    "\n",
    "print(g(10))\n",
    "print(h(4))\n"
   ]
  },
  {
   "cell_type": "markdown",
   "metadata": {},
   "source": [
    "### e.g. 斐波那契数列 \n",
    "1. 递归求值\n",
    "2. 迭代求值"
   ]
  },
  {
   "cell_type": "code",
   "execution_count": null,
   "metadata": {},
   "outputs": [],
   "source": [
    "def fib(n):\n",
    "    if n == 0 or n == 1:\n",
    "        return n\n",
    "    return fib(n-1) + fib(n-2)"
   ]
  },
  {
   "cell_type": "code",
   "execution_count": 12,
   "metadata": {},
   "outputs": [
    {
     "name": "stdout",
     "output_type": "stream",
     "text": [
      "0\n",
      "3\n"
     ]
    }
   ],
   "source": [
    "def fib_iter(a, b, count):\n",
    "    if count == 0:\n",
    "        return a\n",
    "    return fib_iter(b, b+a, count -1)\n",
    "\n",
    "def fib(n):\n",
    "    return fib_iter(0, 1, n)\n",
    "\n",
    "print(fib(0))\n",
    "print(fib(4))"
   ]
  }
 ],
 "metadata": {
  "kernelspec": {
   "display_name": "Python 3",
   "language": "python",
   "name": "python3"
  },
  "language_info": {
   "codemirror_mode": {
    "name": "ipython",
    "version": 3
   },
   "file_extension": ".py",
   "mimetype": "text/x-python",
   "name": "python",
   "nbconvert_exporter": "python",
   "pygments_lexer": "ipython3",
   "version": "3.11.5"
  }
 },
 "nbformat": 4,
 "nbformat_minor": 2
}
