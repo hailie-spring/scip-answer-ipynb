{
 "cells": [
  {
   "cell_type": "markdown",
   "metadata": {},
   "source": [
    "### e.g. 利用递归和迭代计算阶乘 \n",
    "1. 递归过程：所需要消耗的存储量总与过程调用的数目成正比\n",
    "2. 迭代计算过程：总能在常量空间执行"
   ]
  },
  {
   "cell_type": "code",
   "execution_count": null,
   "metadata": {},
   "outputs": [],
   "source": [
    "def factorial(n):\n",
    "    if n == 1:\n",
    "        return 1\n",
    "    return n * factorial(n - 1)\n",
    "\n",
    "\n",
    "print(factorial(1000))"
   ]
  },
  {
   "cell_type": "code",
   "execution_count": null,
   "metadata": {},
   "outputs": [],
   "source": [
    "def factorial(n):\n",
    "    def factorial_iter(product, counter):\n",
    "        if counter > n:\n",
    "            return product\n",
    "        return factorial_iter(product * counter, counter + 1)\n",
    "\n",
    "    return factorial_iter(1, 1)\n",
    "\n",
    "\n",
    "print(factorial(1000))"
   ]
  },
  {
   "cell_type": "markdown",
   "metadata": {},
   "source": [
    "### 1.9: 两个正整数相加的方法   \n",
    "\n",
    "1. 利用递归的层数来自我增加\n",
    "   "
   ]
  },
  {
   "cell_type": "code",
   "execution_count": null,
   "metadata": {},
   "outputs": [],
   "source": [
    "def inc(a):\n",
    "    return a + 1\n",
    "\n",
    "\n",
    "def dec(a):\n",
    "    return a - 1\n",
    "\n",
    "\n",
    "def sum(a, b):\n",
    "    if a == 0:\n",
    "        return b\n",
    "    return inc(sum(dec(a), b))\n",
    "\n",
    "\n",
    "print(sum(2, 3))"
   ]
  },
  {
   "cell_type": "code",
   "execution_count": null,
   "metadata": {},
   "outputs": [],
   "source": [
    "def inc(a):\n",
    "    return a + 1\n",
    "\n",
    "\n",
    "def dec(a):\n",
    "    return a - 1\n",
    "\n",
    "\n",
    "def sum(a, b):\n",
    "    if a == 0:\n",
    "        return b\n",
    "    return sum(dec(a), inc(b))\n",
    "\n",
    "\n",
    "print(sum(2, 3))"
   ]
  },
  {
   "cell_type": "markdown",
   "metadata": {},
   "source": [
    "### 1.10: Ackermann函数"
   ]
  },
  {
   "cell_type": "code",
   "execution_count": null,
   "metadata": {},
   "outputs": [],
   "source": [
    "def A(x, y):\n",
    "    if y == 0:\n",
    "        return 0\n",
    "    if x == 0:\n",
    "        return 2 * y\n",
    "    if y == 1:\n",
    "        return 2\n",
    "    return A(x - 1, A(x, y - 1))\n",
    "\n",
    "\n",
    "print(A(1, 10))\n",
    "print(A(2, 4))\n",
    "print(A(3, 3))"
   ]
  },
  {
   "cell_type": "code",
   "execution_count": null,
   "metadata": {},
   "outputs": [],
   "source": [
    "# 2*n\n",
    "def f(n):\n",
    "    return A(0, n)\n",
    "\n",
    "\n",
    "# 2^n\n",
    "def g(n):\n",
    "    return A(1, n)\n",
    "\n",
    "\n",
    "# 连续求n次二次幂\n",
    "def h(n):\n",
    "    return A(2, n)\n",
    "\n",
    "\n",
    "# 5n^2\n",
    "def k(n):\n",
    "    return 5 * n * n\n",
    "\n",
    "\n",
    "print(g(10))\n",
    "print(h(4))"
   ]
  },
  {
   "cell_type": "markdown",
   "metadata": {},
   "source": [
    "### e.g. 斐波那契数列 \n",
    "1. 递归求值\n",
    "2. 迭代求值"
   ]
  },
  {
   "cell_type": "code",
   "execution_count": null,
   "metadata": {},
   "outputs": [],
   "source": [
    "def fib(n):\n",
    "    if n == 0 or n == 1:\n",
    "        return n\n",
    "    return fib(n - 1) + fib(n - 2)"
   ]
  },
  {
   "cell_type": "code",
   "execution_count": null,
   "metadata": {},
   "outputs": [],
   "source": [
    "def fib_iter(a, b, count):\n",
    "    if count == 0:\n",
    "        return a\n",
    "    return fib_iter(b, b + a, count - 1)\n",
    "\n",
    "\n",
    "def fib(n):\n",
    "    return fib_iter(0, 1, n)\n",
    "\n",
    "\n",
    "print(fib(0))\n",
    "print(fib(4))"
   ]
  },
  {
   "cell_type": "markdown",
   "metadata": {},
   "source": [
    "### e.g. 换零钱方式的统计"
   ]
  },
  {
   "cell_type": "code",
   "execution_count": null,
   "metadata": {},
   "outputs": [],
   "source": [
    "def count_change(amount):\n",
    "    coins = [50, 25, 10, 5, 1]\n",
    "\n",
    "    def cc(amount, kinds_of_coins):\n",
    "        if amount == 0:\n",
    "            return 1\n",
    "        if amount < 0 or kinds_of_coins == 0:\n",
    "            return 0\n",
    "        return cc(amount, kinds_of_coins - 1) + cc(\n",
    "            amount - coins[kinds_of_coins - 1], kinds_of_coins\n",
    "        )\n",
    "\n",
    "    return cc(amount, len(coins))\n",
    "\n",
    "print(count_change(100))"
   ]
  },
  {
   "cell_type": "markdown",
   "metadata": {},
   "source": [
    "### 1.11\n",
    "1. 递归\n",
    "2. 迭代 "
   ]
  },
  {
   "cell_type": "code",
   "execution_count": null,
   "metadata": {},
   "outputs": [],
   "source": [
    "def f(n):\n",
    "    if n < 3:\n",
    "        return n\n",
    "    return f(n - 1) + 2 * f(n - 2) + 3 * f(n - 3)\n",
    "\n",
    "print(f(3))\n",
    "print(f(4))"
   ]
  },
  {
   "cell_type": "code",
   "execution_count": null,
   "metadata": {},
   "outputs": [],
   "source": [
    "def f(n):\n",
    "    def f_iter(a, b, c, n):\n",
    "        if n == 0:\n",
    "            return a\n",
    "        if n == 1:\n",
    "            return b\n",
    "        if n == 2:\n",
    "            return c\n",
    "        return f_iter(b, c, 3 * a + 2 * b + c, n - 1)\n",
    "\n",
    "    return f_iter(0, 1, 2, n)\n",
    "\n",
    "\n",
    "print(f(3))\n",
    "print(f(4))"
   ]
  },
  {
   "cell_type": "markdown",
   "metadata": {},
   "source": [
    "### 1.12: 帕斯卡三角形 \n",
    "1. 递归\n",
    "2. 带有记忆技术的递归\n",
    "3. 迭代\n",
    "   "
   ]
  },
  {
   "cell_type": "code",
   "execution_count": null,
   "metadata": {},
   "outputs": [],
   "source": [
    "def pascal(n):\n",
    "    rows = [1] * n\n",
    "    if n <= 2:\n",
    "        return rows\n",
    "    for i in range(1, n - 1):\n",
    "        rows[i] = pascal(n - 1)[i - 1] + pascal(n - 1)[i]\n",
    "    return rows\n",
    "\n",
    "print(pascal(1))\n",
    "print(pascal(2))\n",
    "print(pascal(3))\n",
    "print(pascal(4))\n",
    "print(pascal(5))"
   ]
  },
  {
   "cell_type": "code",
   "execution_count": null,
   "metadata": {},
   "outputs": [],
   "source": [
    "array = []\n",
    "\n",
    "\n",
    "def pascal(n):\n",
    "    global array\n",
    "    rows = [1] * n\n",
    "    length = len(array)\n",
    "    if length >= n:\n",
    "        return array[n - 1]\n",
    "    if n <= 2:\n",
    "        array.append(rows)\n",
    "        return rows\n",
    "    for i in range(1, n - 1):\n",
    "        rows[i] = pascal(n - 1)[i - 1] + pascal(n - 1)[i]\n",
    "    array.append(rows)\n",
    "    return rows\n",
    "\n",
    "print(pascal(1))\n",
    "print(pascal(2))\n",
    "print(pascal(3))\n",
    "print(pascal(4))\n",
    "print(pascal(5))"
   ]
  },
  {
   "cell_type": "code",
   "execution_count": null,
   "metadata": {},
   "outputs": [],
   "source": [
    "def pascal(n):\n",
    "    array = []\n",
    "\n",
    "    def pascal_row(array, index):\n",
    "        rows = [1] * index\n",
    "        if index > n:\n",
    "            return array\n",
    "        if index <= 2:\n",
    "            array.append(rows)\n",
    "        else:\n",
    "            for i in range(1, index - 1):\n",
    "                rows[i] = array[index - 2][i - 1] + array[index- 2][i]        \n",
    "            array.append(rows)\n",
    "        return pascal_row(array, index + 1)\n",
    "\n",
    "    pascal_row(array, 1)\n",
    "    return array[n-1]\n",
    "\n",
    "\n",
    "print(pascal(1))\n",
    "print(pascal(2))\n",
    "print(pascal(3))\n",
    "print(pascal(5))"
   ]
  },
  {
   "cell_type": "markdown",
   "metadata": {},
   "source": [
    "### 1.14: 零钱换现\n",
    "1. 递归：指数(&Theta;(a^n))\n",
    "2. 带有技术记忆的递归：倍数(&Theta;(n))"
   ]
  },
  {
   "cell_type": "code",
   "execution_count": null,
   "metadata": {},
   "outputs": [],
   "source": [
    "def count_change(amount):\n",
    "    coins = [50, 25, 10, 5, 1]\n",
    "\n",
    "    def cc(amount, kinds_of_coins):\n",
    "        if amount == 0:\n",
    "            return 1\n",
    "        if amount < 0 or kinds_of_coins == 0:\n",
    "            return 0\n",
    "        return cc(amount, kinds_of_coins - 1) + cc(\n",
    "            amount - coins[kinds_of_coins - 1], kinds_of_coins\n",
    "        )\n",
    "\n",
    "    return cc(amount, len(coins))\n",
    "\n",
    "print(count_change(11))"
   ]
  },
  {
   "cell_type": "code",
   "execution_count": null,
   "metadata": {},
   "outputs": [],
   "source": [
    "result = {}\n",
    "\n",
    "\n",
    "def count_change(amount):\n",
    "    coins = [50, 25, 10, 5, 1]\n",
    "\n",
    "    def cc(amount, kinds_of_coins):\n",
    "        if amount == 0:\n",
    "            return 1\n",
    "        if amount < 0 or kinds_of_coins == 0:\n",
    "            return 0\n",
    "        if \"{0}_{1}\".format(amount, kinds_of_coins) in result:\n",
    "            return result[\"{0}_{1}\".format(amount, kinds_of_coins)]\n",
    "        v = cc(amount, kinds_of_coins - 1) + cc(\n",
    "            amount - coins[kinds_of_coins - 1], kinds_of_coins\n",
    "        )\n",
    "        result[\"{0}_{1}\".format(amount, kinds_of_coins)] = v\n",
    "        return v\n",
    "    return cc(amount, len(coins))\n",
    "\n",
    "\n",
    "print(count_change(11))"
   ]
  },
  {
   "cell_type": "markdown",
   "metadata": {},
   "source": [
    "### 1.15: 正弦求值\n",
    "n=log(a/0.1, 3)\n",
    "\n",
    "1. 12.15/pow(3, n) < 0.1\n",
    "2. a/pow(3, n) < 0.1"
   ]
  },
  {
   "cell_type": "code",
   "execution_count": null,
   "metadata": {},
   "outputs": [],
   "source": [
    "count = 0\n",
    "def cube(x):\n",
    "    return x * x * x\n",
    "\n",
    "\n",
    "def p(x):\n",
    "    global count\n",
    "    count += 1\n",
    "    return 3 * x - 4 * cube(x)\n",
    "\n",
    "\n",
    "def sine(angle):\n",
    "    if angle <= 0.1:\n",
    "        return angle\n",
    "    return p(sine(angle / 3))\n",
    "\n",
    "print(sine(12.15))\n",
    "print(count)"
   ]
  },
  {
   "cell_type": "markdown",
   "metadata": {},
   "source": [
    "### 求幂\n",
    "1. 递归，需要&Theta;(n)步和&Theta;(n)空间\n",
    "2. 迭代，需要&Theta;(n)步和&Theta;(1)空间\n",
    "3. 连续求平方递归，快速求幂，需要&Theta;(log(n, 2))步和&Theta;(log(n, 2))空间"
   ]
  },
  {
   "cell_type": "code",
   "execution_count": null,
   "metadata": {},
   "outputs": [],
   "source": [
    "def expt(b, n):\n",
    "    if n == 0:\n",
    "        return 1\n",
    "    return b * expt(b, n - 1)\n",
    "\n",
    "print(expt(2, 3))"
   ]
  },
  {
   "cell_type": "code",
   "execution_count": null,
   "metadata": {},
   "outputs": [],
   "source": [
    "def expt(b, n):\n",
    "    def expt_iter(product, counter):\n",
    "        if counter >= n:\n",
    "            return product\n",
    "        return expt_iter(product * b, counter + 1)\n",
    "\n",
    "    return expt_iter(1, 0)\n",
    "\n",
    "print(expt(2, 3))"
   ]
  },
  {
   "cell_type": "code",
   "execution_count": null,
   "metadata": {},
   "outputs": [],
   "source": [
    "def square(x):\n",
    "    return x * x\n",
    "\n",
    "\n",
    "def fast_expt(b, n):\n",
    "    if n == 0:\n",
    "        return 1\n",
    "    if n % 2 == 0:\n",
    "        return square(fast_expt(b, n / 2))\n",
    "    return b * fast_expt(b, n - 1)\n",
    "\n",
    "print(fast_expt(2, 3))"
   ]
  },
  {
   "cell_type": "markdown",
   "metadata": {},
   "source": [
    "### 1.16: 连续求平方迭代快速求幂\n",
    "\n",
    "1. 需要&Theta;(log(n, 2))步和&Theta;(l)空间"
   ]
  },
  {
   "cell_type": "code",
   "execution_count": null,
   "metadata": {},
   "outputs": [],
   "source": [
    "def fast_expt(b, n):\n",
    "    def fast_expt_iter(b, product, counter):\n",
    "        if counter == 0:\n",
    "            return product\n",
    "        if counter % 2 == 0:\n",
    "            return fast_expt_iter(square(b), product , counter / 2)\n",
    "        return fast_expt_iter(b, product * b, counter - 1)\n",
    "\n",
    "    return fast_expt_iter(b, 1, n)\n",
    "\n",
    "\n",
    "print(fast_expt(2, 0))\n",
    "print(fast_expt(2, 1))\n",
    "print(fast_expt(2, 3))\n",
    "print(fast_expt(2, 5))\n",
    "print(fast_expt(2, 10))"
   ]
  },
  {
   "cell_type": "markdown",
   "metadata": {},
   "source": [
    "### 1.17: 递归求乘算法\n",
    "1. 递归\n",
    "2. 快速递归"
   ]
  },
  {
   "cell_type": "code",
   "execution_count": null,
   "metadata": {},
   "outputs": [],
   "source": [
    "def multiply(a, b):\n",
    "    if b == 0:\n",
    "        return 0\n",
    "    return a + multiply(a, b - 1)\n",
    "\n",
    "print(multiply(5, 3))"
   ]
  },
  {
   "cell_type": "code",
   "execution_count": null,
   "metadata": {},
   "outputs": [],
   "source": [
    "def double(x):\n",
    "    return x + x\n",
    "\n",
    "\n",
    "def halve(x):\n",
    "    return x / 2\n",
    "\n",
    "\n",
    "def fast_multiply(a, b):\n",
    "    if b == 0:\n",
    "        return 0\n",
    "    if b % 2 == 0:\n",
    "        return fast_multiply(double(a), b / 2)\n",
    "    else:\n",
    "        return a + fast_multiply(a, b - 1)\n",
    "print(fast_multiply(5, 3))"
   ]
  },
  {
   "cell_type": "markdown",
   "metadata": {},
   "source": [
    "### 1.18: 迭代求乘算法\n",
    "1. 迭代\n",
    "2. 快速迭代"
   ]
  },
  {
   "cell_type": "code",
   "execution_count": null,
   "metadata": {},
   "outputs": [],
   "source": [
    "def multiply(a, b):\n",
    "    def multiply_iter(sum, counter):\n",
    "        if counter == 0:\n",
    "            return sum\n",
    "        return multiply_iter(sum + a, counter - 1)\n",
    "    return multiply_iter(0, b)\n",
    "\n",
    "print(multiply(5, 3))"
   ]
  },
  {
   "cell_type": "code",
   "execution_count": null,
   "metadata": {},
   "outputs": [],
   "source": [
    "def double(x):\n",
    "    return x + x\n",
    "\n",
    "\n",
    "def halve(x):\n",
    "    return x / 2\n",
    "\n",
    "\n",
    "def fast_multiply(a, b):\n",
    "    def fast_multiply_iter(base, sum, counter):\n",
    "        if counter == 0:\n",
    "            return sum\n",
    "        if counter % 2 == 0:\n",
    "            return fast_multiply_iter(double(base), sum, counter / 2)\n",
    "        else:\n",
    "            return fast_multiply_iter(base, sum + base, counter - 1)\n",
    "    return fast_multiply_iter(a, 0, b)\n",
    "\n",
    "\n",
    "print(fast_multiply(5, 3))"
   ]
  },
  {
   "cell_type": "markdown",
   "metadata": {},
   "source": [
    "### 1.19: 对数步骤求出斐波那契数列\n",
    "refer to: https://sicp.readthedocs.io/en/latest/chp1/19.html"
   ]
  },
  {
   "cell_type": "code",
   "execution_count": null,
   "metadata": {},
   "outputs": [],
   "source": [
    "def square(x):\n",
    "    return x * x\n",
    "\n",
    "\n",
    "def fib(n):\n",
    "    def fib_iter(a, b, p, q, counter):\n",
    "        if counter == 0:\n",
    "            return b\n",
    "        if counter % 2 == 0:\n",
    "            return fib_iter(\n",
    "                a, b, square(p) + square(q), 2 * p * q + square(q), counter / 2\n",
    "            )\n",
    "        return fib_iter(b * q + (p + q) * a, b * p + a * q, p, q, counter - 1)\n",
    "    return fib_iter(1, 0, 0, 1, n)\n",
    "\n",
    "print(fib(0))\n",
    "print(fib(1))\n",
    "print(fib(2))\n",
    "print(fib(5))"
   ]
  },
  {
   "cell_type": "markdown",
   "metadata": {},
   "source": [
    "### 1.20: 最大公约数\n",
    "1. 应用序，对于序列(206, 40)应用了4次remainder\n",
    "2. "
   ]
  },
  {
   "cell_type": "code",
   "execution_count": null,
   "metadata": {},
   "outputs": [],
   "source": [
    "counter = 0\n",
    "def gcd(a, b):\n",
    "    global counter\n",
    "    if b == 0:\n",
    "        return a\n",
    "    counter += 1\n",
    "    return gcd(b, a % b)\n",
    "\n",
    "print(gcd(206, 40))\n",
    "\n",
    "print(counter)"
   ]
  },
  {
   "cell_type": "markdown",
   "metadata": {},
   "source": [
    "### 素数检测\n",
    "1. 寻找因子\n",
    "2. 费马检查"
   ]
  },
  {
   "cell_type": "code",
   "execution_count": null,
   "metadata": {},
   "outputs": [],
   "source": [
    "def square(x):\n",
    "    return x * x\n",
    "\n",
    "\n",
    "def smallest_divisor(n):\n",
    "    def find_divisor(n, test_divisor):\n",
    "        if square(test_divisor) > n:\n",
    "            return n\n",
    "        if n % test_divisor == 0:\n",
    "            return test_divisor\n",
    "        return find_divisor(n, test_divisor + 1)\n",
    "    return find_divisor(n, 2)\n",
    "\n",
    "def is_primer(n):\n",
    "    return smallest_divisor(n) == n\n",
    "\n",
    "print(is_primer(2))\n",
    "print(is_primer(3))\n",
    "print(is_primer(4))"
   ]
  },
  {
   "cell_type": "code",
   "execution_count": null,
   "metadata": {},
   "outputs": [],
   "source": [
    "import random\n",
    "\n",
    "\n",
    "def square(x):\n",
    "    return x * x\n",
    "\n",
    "\n",
    "def expmod(base, exp, m):\n",
    "    if exp == 0:\n",
    "        return 1\n",
    "    if exp % 2 == 0:\n",
    "        return square(expmod(base, exp // 2, m)) % m\n",
    "    return (base * expmod(base, exp - 1, m)) % m\n",
    "\n",
    "\n",
    "def fermat_test(n):\n",
    "\n",
    "    def try_it(a):\n",
    "        return expmod(a, n, n) == a\n",
    "\n",
    "    return try_it(int(random.uniform(1, n)))\n",
    "\n",
    "def fast_prime(n, times):\n",
    "    if times == 0:\n",
    "        return True\n",
    "    if fermat_test(n):\n",
    "        return fast_prime(n, times - 1)\n",
    "    else:\n",
    "        return False\n",
    "\n",
    "print(expmod(2, 3, 3))\n",
    "print(int(random.uniform(1, 3)))\n",
    "print(fermat_test(3))\n",
    "print(fast_prime(3, 4))\n"
   ]
  },
  {
   "cell_type": "markdown",
   "metadata": {},
   "source": [
    "### 1.21: smallest divisor"
   ]
  },
  {
   "cell_type": "code",
   "execution_count": null,
   "metadata": {},
   "outputs": [],
   "source": [
    "def smallest_divisor(n):\n",
    "    def find_divisor(n, test_divisor):\n",
    "        if square(test_divisor) > n:\n",
    "            return n\n",
    "        if n % test_divisor == 0:\n",
    "            return test_divisor\n",
    "        return find_divisor(n, test_divisor + 1)\n",
    "    return find_divisor(n, 2)\n",
    "\n",
    "print(smallest_divisor(199))\n",
    "print(smallest_divisor(1999))\n",
    "print(smallest_divisor(19999))"
   ]
  },
  {
   "cell_type": "markdown",
   "metadata": {},
   "source": [
    "### 1.22: runtime"
   ]
  },
  {
   "cell_type": "code",
   "execution_count": null,
   "metadata": {},
   "outputs": [],
   "source": [
    "import time\n",
    "\n",
    "def next_odd(x):\n",
    "    if x % 2 == 0:\n",
    "        return x + 1\n",
    "    return x + 2\n",
    "\n",
    "def next_tester(x):\n",
    "    return x + 1\n",
    "\n",
    "def smallest_divisor(n):\n",
    "    def find_divisor(n, test_divisor):\n",
    "        if square(test_divisor) > n:\n",
    "            return n\n",
    "        if n % test_divisor == 0:\n",
    "            return test_divisor\n",
    "        return find_divisor(n, next_tester(test_divisor))\n",
    "    return find_divisor(n, 2)\n",
    "\n",
    "def is_prime(n):\n",
    "    if smallest_divisor(n) == n:\n",
    "        return True\n",
    "    return False\n",
    "\n",
    "start_time = time.perf_counter_ns()\n",
    "\n",
    "def search_for_primes(first_seed, count):\n",
    "    global start_time\n",
    "    if count == 0:\n",
    "        return\n",
    "    if is_prime(first_seed):\n",
    "        end_time = time.perf_counter_ns()\n",
    "        duration = (end_time - start_time) /1000\n",
    "        print(\"look for {0}, elapsed time {1}us\".format(first_seed, duration))\n",
    "        start_time = time.perf_counter_ns()\n",
    "        return search_for_primes(next_odd(first_seed), count - 1)\n",
    "    return search_for_primes(next_odd(first_seed), count)\n",
    "\n",
    "\n",
    "\n",
    "print(search_for_primes(1000, 3))\n",
    "print(search_for_primes(10000, 3))\n",
    "print(search_for_primes(100000, 3))\n",
    "print(search_for_primes(1000000, 3))\n"
   ]
  },
  {
   "cell_type": "markdown",
   "metadata": {},
   "source": [
    "### 1.23: fast smallest divisor"
   ]
  },
  {
   "cell_type": "code",
   "execution_count": null,
   "metadata": {},
   "outputs": [],
   "source": [
    "import time\n",
    "\n",
    "def next_odd(x):\n",
    "    if x % 2 == 0:\n",
    "        return x + 1\n",
    "    return x + 2\n",
    "\n",
    "def next_tester(x):\n",
    "    if  x == 2:\n",
    "        return 3\n",
    "    return x + 2\n",
    "\n",
    "def smallest_divisor(n):\n",
    "    def find_divisor(n, test_divisor):\n",
    "        if square(test_divisor) > n:\n",
    "            return n\n",
    "        if n % test_divisor == 0:\n",
    "            return test_divisor\n",
    "        return find_divisor(n, next_tester(test_divisor))\n",
    "    return find_divisor(n, 2)\n",
    "\n",
    "def is_prime(n):\n",
    "    if smallest_divisor(n) == n:\n",
    "        return True\n",
    "    return False\n",
    "\n",
    "start_time = time.perf_counter_ns()\n",
    "\n",
    "def search_for_primes(first_seed, count):\n",
    "    global start_time\n",
    "    if count == 0:\n",
    "        return\n",
    "    if is_prime(first_seed):\n",
    "        end_time = time.perf_counter_ns()\n",
    "        duration = (end_time - start_time) /1000\n",
    "        print(\"look for {0}, elapsed time {1}us\".format(first_seed, duration))\n",
    "        start_time = time.perf_counter_ns()\n",
    "        return search_for_primes(next_odd(first_seed), count - 1)\n",
    "    return search_for_primes(next_odd(first_seed), count)\n",
    "\n",
    "\n",
    "\n",
    "print(search_for_primes(1000, 3))\n",
    "print(search_for_primes(10000, 3))\n",
    "print(search_for_primes(100000, 3))\n",
    "print(search_for_primes(1000000, 3))"
   ]
  },
  {
   "cell_type": "markdown",
   "metadata": {},
   "source": [
    "### 1.24: runtime fermat test"
   ]
  },
  {
   "cell_type": "code",
   "execution_count": null,
   "metadata": {},
   "outputs": [],
   "source": [
    "import time\n",
    "import random\n",
    "\n",
    "\n",
    "def square(x):\n",
    "    return x * x\n",
    "\n",
    "\n",
    "def expmod(base, exp, m):\n",
    "    if exp == 0:\n",
    "        return 1\n",
    "    if exp % 2 == 0:\n",
    "        return square(expmod(base, exp // 2, m)) % m\n",
    "    return (base * expmod(base, exp - 1, m)) % m\n",
    "\n",
    "\n",
    "def fermat_test(n):\n",
    "    def try_it(a):\n",
    "        return expmod(a, n, n) == a\n",
    "    return try_it(int(random.uniform(1, n)))\n",
    "\n",
    "def fast_prime(n, times):\n",
    "    if times == 0:\n",
    "        return True\n",
    "    if fermat_test(n):\n",
    "        return fast_prime(n, times - 1)\n",
    "    else:\n",
    "        return False\n",
    "\n",
    "def next_odd(x):\n",
    "    if x % 2 == 0:\n",
    "        return x + 1\n",
    "    return x + 2\n",
    "\n",
    "def is_prime(n):\n",
    "    return fast_prime(n, 5)\n",
    "\n",
    "\n",
    "start_time = time.perf_counter_ns()\n",
    "\n",
    "def search_for_primes(first_seed, count):\n",
    "    global start_time\n",
    "    if count == 0:\n",
    "        return\n",
    "    if is_prime(first_seed):\n",
    "        end_time = time.perf_counter_ns()\n",
    "        duration = (end_time - start_time) /1000\n",
    "        print(\"look for {0}, elapsed time {1}us\".format(first_seed, duration))\n",
    "        start_time = time.perf_counter_ns()\n",
    "        return search_for_primes(next_odd(first_seed), count - 1)\n",
    "    return search_for_primes(next_odd(first_seed), count)\n",
    "\n",
    "\n",
    "\n",
    "print(search_for_primes(1000, 3))\n",
    "print(search_for_primes(10000, 3))\n",
    "print(search_for_primes(100000, 3))\n",
    "print(search_for_primes(1000000, 3))"
   ]
  },
  {
   "cell_type": "markdown",
   "metadata": {},
   "source": [
    "### 1.25\n",
    "refer to: https://sicp.readthedocs.io/en/latest/chp1/25.html\n",
    "\n",
    "Alyssa 的 expmod 函数在理论上是没有错的，但是在实际中却运行得不好。\n",
    "\n",
    "因为费马检查在对一个非常大的数进行素数检测的时候，可能需要计算一个很大的乘幂，比如说，求十亿的一亿次方，这种非常大的数值计算的速度非常慢，而且很容易因为超出实现的限制而造成溢出。\n",
    "\n",
    "而书本 34 页的 expmod 函数，通过每次对乘幂进行 remainder 操作，从而将乘幂限制在一个很小的范围内（不超过参数 m ），这样可以最大限度地避免溢出，而且计算速度快得多。"
   ]
  },
  {
   "cell_type": "markdown",
   "metadata": {},
   "source": [
    "### 1.26 \n",
    "主定理\n"
   ]
  },
  {
   "cell_type": "markdown",
   "metadata": {},
   "source": [
    "### 1.27 carmichael test "
   ]
  },
  {
   "cell_type": "code",
   "execution_count": null,
   "metadata": {},
   "outputs": [],
   "source": [
    "def square(x):\n",
    "    return x * x\n",
    "\n",
    "\n",
    "def expmod(base, exp, m):\n",
    "    if exp == 0:\n",
    "        return 1\n",
    "    if exp % 2 == 0:\n",
    "        return square(expmod(base, exp // 2, m)) % m\n",
    "    return (base * expmod(base, exp - 1, m)) % m\n",
    "\n",
    "\n",
    "def carmichael_test(n):\n",
    "    def try_test(a):\n",
    "        if a >= n:\n",
    "            return True\n",
    "        if expmod(a, n, n) == a:\n",
    "            return try_test(a + 1)\n",
    "        return False\n",
    "\n",
    "    return try_test(2)\n",
    "\n",
    "print(carmichael_test(561))\n",
    "print(carmichael_test(1729))\n",
    "print(carmichael_test(2465))\n",
    "print(carmichael_test(2821))\n",
    "print(carmichael_test(6601))"
   ]
  },
  {
   "cell_type": "markdown",
   "metadata": {},
   "source": [
    "### 1.28: miller rabin test "
   ]
  },
  {
   "cell_type": "code",
   "execution_count": null,
   "metadata": {},
   "outputs": [],
   "source": [
    "def square(x):\n",
    "    return x * x\n",
    "\n",
    "\n",
    "def expmod(base, exp, m):\n",
    "    if exp == 0:\n",
    "        return 1\n",
    "    if base != 1 and base != m - 1 and square(base) % m == 1:\n",
    "        return 0\n",
    "    if exp % 2 == 0:\n",
    "        return square(expmod(base, exp // 2, m)) % m\n",
    "    return (base * expmod(base, exp - 1, m)) % m\n",
    "\n",
    "\n",
    "def miller_rabin_test(n):\n",
    "    def try_it(a):\n",
    "        return expmod(a, n - 1, n) == 1\n",
    "\n",
    "    return try_it(int(random.uniform(1, n)))\n",
    "\n",
    "\n",
    "def fast_miller_rabin(n, times):\n",
    "    if times == 0:\n",
    "        return True\n",
    "    if miller_rabin_test(n):\n",
    "        return fast_miller_rabin(n, times - 1)\n",
    "    return False\n",
    "\n",
    "\n",
    "print(fast_miller_rabin(561, 561 // 2))\n",
    "print(fast_miller_rabin(1105, 1105 // 2))\n",
    "print(fast_miller_rabin(1729, 1729 // 2))\n",
    "print(fast_miller_rabin(2465, 2465 // 2))\n",
    "print(fast_miller_rabin(2821, 2821 // 2))\n",
    "print(fast_miller_rabin(6601, 6601 // 2))\n",
    "print(fast_miller_rabin(7, 7 // 2))\n",
    "print(fast_miller_rabin(17, 17 // 2))\n",
    "print(fast_miller_rabin(19, 19 // 2))"
   ]
  }
 ],
 "metadata": {
  "kernelspec": {
   "display_name": "Python 3",
   "language": "python",
   "name": "python3"
  },
  "language_info": {
   "codemirror_mode": {
    "name": "ipython",
    "version": 3
   },
   "file_extension": ".py",
   "mimetype": "text/x-python",
   "name": "python",
   "nbconvert_exporter": "python",
   "pygments_lexer": "ipython3",
   "version": "3.11.5"
  }
 },
 "nbformat": 4,
 "nbformat_minor": 2
}
