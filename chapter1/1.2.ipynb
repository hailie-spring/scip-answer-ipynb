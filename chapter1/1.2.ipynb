{
 "cells": [
  {
   "cell_type": "markdown",
   "metadata": {},
   "source": [
    "### e.g. 利用递归和迭代计算阶乘 \n",
    "1. 递归过程：所需要消耗的存储量总与过程调用的数目成正比\n",
    "2. 迭代计算过程：总能在常量空间执行"
   ]
  },
  {
   "cell_type": "code",
   "execution_count": null,
   "metadata": {},
   "outputs": [],
   "source": [
    "def factorial(n):\n",
    "    if n == 1:\n",
    "        return 1\n",
    "    return n * factorial(n - 1)\n",
    "\n",
    "\n",
    "print(factorial(1000))"
   ]
  },
  {
   "cell_type": "code",
   "execution_count": null,
   "metadata": {},
   "outputs": [],
   "source": [
    "def factorial(n):\n",
    "    def factorial_iter(product, counter):\n",
    "        if counter > n:\n",
    "            return product\n",
    "        return factorial_iter(product * counter, counter + 1)\n",
    "\n",
    "    return factorial_iter(1, 1)\n",
    "\n",
    "\n",
    "print(factorial(1000))"
   ]
  },
  {
   "cell_type": "markdown",
   "metadata": {},
   "source": [
    "### 1.9: 两个正整数相加的方法   \n",
    "\n",
    "1. 利用递归的层数来自我增加\n",
    "   "
   ]
  },
  {
   "cell_type": "code",
   "execution_count": null,
   "metadata": {},
   "outputs": [],
   "source": [
    "def inc(a):\n",
    "    return a + 1\n",
    "\n",
    "\n",
    "def dec(a):\n",
    "    return a - 1\n",
    "\n",
    "\n",
    "def sum(a, b):\n",
    "    if a == 0:\n",
    "        return b\n",
    "    return inc(sum(dec(a), b))\n",
    "\n",
    "\n",
    "print(sum(2, 3))"
   ]
  },
  {
   "cell_type": "code",
   "execution_count": null,
   "metadata": {},
   "outputs": [],
   "source": [
    "def inc(a):\n",
    "    return a + 1\n",
    "\n",
    "\n",
    "def dec(a):\n",
    "    return a - 1\n",
    "\n",
    "\n",
    "def sum(a, b):\n",
    "    if a == 0:\n",
    "        return b\n",
    "    return sum(dec(a), inc(b))\n",
    "\n",
    "\n",
    "print(sum(2, 3))"
   ]
  },
  {
   "cell_type": "markdown",
   "metadata": {},
   "source": [
    "### 1.10: Ackermann函数"
   ]
  },
  {
   "cell_type": "code",
   "execution_count": null,
   "metadata": {},
   "outputs": [],
   "source": [
    "def A(x, y):\n",
    "    if y == 0:\n",
    "        return 0\n",
    "    if x == 0:\n",
    "        return 2 * y\n",
    "    if y == 1:\n",
    "        return 2\n",
    "    return A(x - 1, A(x, y - 1))\n",
    "\n",
    "\n",
    "print(A(1, 10))\n",
    "print(A(2, 4))\n",
    "print(A(3, 3))"
   ]
  },
  {
   "cell_type": "code",
   "execution_count": null,
   "metadata": {},
   "outputs": [],
   "source": [
    "# 2*n\n",
    "def f(n):\n",
    "    return A(0, n)\n",
    "\n",
    "\n",
    "# 2^n\n",
    "def g(n):\n",
    "    return A(1, n)\n",
    "\n",
    "\n",
    "# 连续求n次二次幂\n",
    "def h(n):\n",
    "    return A(2, n)\n",
    "\n",
    "\n",
    "# 5n^2\n",
    "def k(n):\n",
    "    return 5 * n * n\n",
    "\n",
    "\n",
    "print(g(10))\n",
    "print(h(4))"
   ]
  },
  {
   "cell_type": "markdown",
   "metadata": {},
   "source": [
    "### e.g. 斐波那契数列 \n",
    "1. 递归求值\n",
    "2. 迭代求值"
   ]
  },
  {
   "cell_type": "code",
   "execution_count": null,
   "metadata": {},
   "outputs": [],
   "source": [
    "def fib(n):\n",
    "    if n == 0 or n == 1:\n",
    "        return n\n",
    "    return fib(n - 1) + fib(n - 2)"
   ]
  },
  {
   "cell_type": "code",
   "execution_count": null,
   "metadata": {},
   "outputs": [],
   "source": [
    "def fib_iter(a, b, count):\n",
    "    if count == 0:\n",
    "        return a\n",
    "    return fib_iter(b, b + a, count - 1)\n",
    "\n",
    "\n",
    "def fib(n):\n",
    "    return fib_iter(0, 1, n)\n",
    "\n",
    "\n",
    "print(fib(0))\n",
    "print(fib(4))"
   ]
  },
  {
   "cell_type": "markdown",
   "metadata": {},
   "source": [
    "### e.g. 换零钱方式的统计"
   ]
  },
  {
   "cell_type": "code",
   "execution_count": null,
   "metadata": {},
   "outputs": [],
   "source": [
    "def count_change(amount):\n",
    "    coins = [50, 25, 10, 5, 1]\n",
    "\n",
    "    def cc(amount, kinds_of_coins):\n",
    "        if amount == 0:\n",
    "            return 1\n",
    "        if amount < 0 or kinds_of_coins == 0:\n",
    "            return 0\n",
    "        return cc(amount, kinds_of_coins - 1) + cc(\n",
    "            amount - coins[kinds_of_coins - 1], kinds_of_coins\n",
    "        )\n",
    "\n",
    "    return cc(amount, len(coins))\n",
    "\n",
    "print(count_change(100))"
   ]
  },
  {
   "cell_type": "markdown",
   "metadata": {},
   "source": [
    "### 1.11\n",
    "1. 递归\n",
    "2. 迭代 "
   ]
  },
  {
   "cell_type": "code",
   "execution_count": null,
   "metadata": {},
   "outputs": [],
   "source": [
    "def f(n):\n",
    "    if n < 3:\n",
    "        return n\n",
    "    return f(n - 1) + 2 * f(n - 2) + 3 * f(n - 3)\n",
    "\n",
    "print(f(3))\n",
    "print(f(4))"
   ]
  },
  {
   "cell_type": "code",
   "execution_count": null,
   "metadata": {},
   "outputs": [],
   "source": [
    "def f(n):\n",
    "    def f_iter(a, b, c, n):\n",
    "        if n == 0:\n",
    "            return a\n",
    "        if n == 1:\n",
    "            return b\n",
    "        if n == 2:\n",
    "            return c\n",
    "        return f_iter(b, c, 3 * a + 2 * b + c, n - 1)\n",
    "\n",
    "    return f_iter(0, 1, 2, n)\n",
    "\n",
    "\n",
    "print(f(3))\n",
    "print(f(4))"
   ]
  },
  {
   "cell_type": "markdown",
   "metadata": {},
   "source": [
    "### 1.12: 帕斯卡三角形 \n",
    "1. 递归\n",
    "2. 带有记忆技术的递归\n",
    "3. 迭代\n",
    "   "
   ]
  },
  {
   "cell_type": "code",
   "execution_count": null,
   "metadata": {},
   "outputs": [],
   "source": [
    "def pascal(n):\n",
    "    rows = [1] * n\n",
    "    if n <= 2:\n",
    "        return rows\n",
    "    for i in range(1, n - 1):\n",
    "        rows[i] = pascal(n - 1)[i - 1] + pascal(n - 1)[i]\n",
    "    return rows\n",
    "\n",
    "print(pascal(1))\n",
    "print(pascal(2))\n",
    "print(pascal(3))\n",
    "print(pascal(4))\n",
    "print(pascal(5))"
   ]
  },
  {
   "cell_type": "code",
   "execution_count": null,
   "metadata": {},
   "outputs": [],
   "source": [
    "array = []\n",
    "\n",
    "\n",
    "def pascal(n):\n",
    "    global array\n",
    "    rows = [1] * n\n",
    "    length = len(array)\n",
    "    if length >= n:\n",
    "        return array[n - 1]\n",
    "    if n <= 2:\n",
    "        array.append(rows)\n",
    "        return rows\n",
    "    for i in range(1, n - 1):\n",
    "        rows[i] = pascal(n - 1)[i - 1] + pascal(n - 1)[i]\n",
    "    array.append(rows)\n",
    "    return rows\n",
    "\n",
    "print(pascal(1))\n",
    "print(pascal(2))\n",
    "print(pascal(3))\n",
    "print(pascal(4))\n",
    "print(pascal(5))"
   ]
  },
  {
   "cell_type": "code",
   "execution_count": null,
   "metadata": {},
   "outputs": [],
   "source": [
    "def pascal(n):\n",
    "    array = []\n",
    "\n",
    "    def pascal_row(array, index):\n",
    "        rows = [1] * index\n",
    "        if index > n:\n",
    "            return array\n",
    "        if index <= 2:\n",
    "            array.append(rows)\n",
    "        else:\n",
    "            for i in range(1, index - 1):\n",
    "                rows[i] = array[index - 2][i - 1] + array[index- 2][i]        \n",
    "            array.append(rows)\n",
    "        return pascal_row(array, index + 1)\n",
    "\n",
    "    pascal_row(array, 1)\n",
    "    return array[n-1]\n",
    "\n",
    "\n",
    "print(pascal(1))\n",
    "print(pascal(2))\n",
    "print(pascal(3))\n",
    "print(pascal(5))"
   ]
  }
 ],
 "metadata": {
  "kernelspec": {
   "display_name": "Python 3",
   "language": "python",
   "name": "python3"
  },
  "language_info": {
   "codemirror_mode": {
    "name": "ipython",
    "version": 3
   },
   "file_extension": ".py",
   "mimetype": "text/x-python",
   "name": "python",
   "nbconvert_exporter": "python",
   "pygments_lexer": "ipython3",
   "version": "3.11.5"
  }
 },
 "nbformat": 4,
 "nbformat_minor": 2
}
