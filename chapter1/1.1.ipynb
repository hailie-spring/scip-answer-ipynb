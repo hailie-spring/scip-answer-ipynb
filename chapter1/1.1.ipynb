{
 "cells": [
  {
   "cell_type": "markdown",
   "metadata": {},
   "source": [
    "1.3: 输入三个数为参数，返回其中较大的两个数之和"
   ]
  },
  {
   "cell_type": "code",
   "execution_count": null,
   "metadata": {},
   "outputs": [],
   "source": [
    "def greater_sum(a, b, c):\n",
    "    min = a\n",
    "    if min > b:\n",
    "        min = b\n",
    "    if min > c:\n",
    "        min = c\n",
    "    return a + b + c - min\n",
    "\n",
    "\n",
    "print(greater_sum(4, 5, 6))"
   ]
  },
  {
   "cell_type": "markdown",
   "metadata": {},
   "source": [
    "1.5: 检测解释器采用哪种序求值？\n",
    "1.如果是正则序，返回0。\n",
    "2.如果是应用序，不断陷入循环，最后报错"
   ]
  },
  {
   "cell_type": "code",
   "execution_count": null,
   "metadata": {},
   "outputs": [],
   "source": [
    "def p():\n",
    "    return p()\n",
    "\n",
    "def test(x, y):\n",
    "    if x == 0:\n",
    "        return 0\n",
    "    return y\n",
    "\n",
    "print(test(0, p()))"
   ]
  },
  {
   "cell_type": "markdown",
   "metadata": {},
   "source": [
    "采用牛顿法求平方根"
   ]
  },
  {
   "cell_type": "code",
   "execution_count": null,
   "metadata": {},
   "outputs": [],
   "source": [
    "\n",
    "from base_definition import sqrt, square\n",
    "\n",
    "print(sqrt(9))\n",
    "print(sqrt(100 + 37))\n",
    "print(sqrt(sqrt(2) + sqrt(3)))\n",
    "print(square(sqrt(1000)))"
   ]
  },
  {
   "cell_type": "markdown",
   "metadata": {},
   "source": [
    "1.6:把if通过cond将它定义为一个常规过程，当用这个过程去计算平方根时，会发生陷入死循环。\n",
    "根本原因是因为应用序求值。"
   ]
  },
  {
   "cell_type": "code",
   "execution_count": null,
   "metadata": {},
   "outputs": [],
   "source": [
    "from base_definition import good_enough, improve_guess\n",
    "def new_if(predicate, then_clause, else_clause):\n",
    "    if predicate:\n",
    "        return then_clause\n",
    "    return else_clause\n",
    "\n",
    "\n",
    "print(new_if(2 == 3, 0, 5))\n",
    "print(new_if(2 == 2, 0, 5))\n",
    "\n",
    "\n",
    "def sqrt_iter(guess, x):\n",
    "    return new_if(good_enough(guess, x), guess, sqrt_iter(improve_guess(guess, x), x))\n",
    "\n",
    "print(sqrt_iter(1, 4))"
   ]
  },
  {
   "cell_type": "markdown",
   "metadata": {},
   "source": [
    "1.7: 1.5中good_enough函数对于非常大或者非常小的数会失效，对于非常小的数，选择比评价标准更小的数，对于非常大的数， 会陷入死循环。\n",
    "(根本原因在于求平方的操作)\n",
    "改进good_enough函数，选择前后guess之差.\n"
   ]
  },
  {
   "cell_type": "code",
   "execution_count": null,
   "metadata": {},
   "outputs": [],
   "source": [
    "from base_definition import sqrt, square\n",
    "\n",
    "print(sqrt(4))\n",
    "print(sqrt(0.001))\n",
    "print(square(sqrt(0.0001)))  # not work, as 0.0010438358335233748 / 0.0001 = 10\n"
   ]
  },
  {
   "cell_type": "code",
   "execution_count": null,
   "metadata": {},
   "outputs": [],
   "source": [
    "from base_definition import sqrt, square\n",
    "print(\n",
    "    sqrt(\n",
    "        900000000000000000000000000000000000000000000000000000000000000000000000000000000000\n",
    "    )\n",
    ")"
   ]
  },
  {
   "cell_type": "code",
   "execution_count": null,
   "metadata": {},
   "outputs": [],
   "source": [
    "from base_definition import improve_guess, square\n",
    "\n",
    "def good_enough(guess1, guess2):\n",
    "    return abs(guess1 - guess2) < 0.001\n",
    "\n",
    "def sqrt_iter(guess, x):\n",
    "    improve = improve_guess(guess, x)\n",
    "    if good_enough(guess, improve):\n",
    "        return improve\n",
    "    return sqrt_iter(improve, x)\n",
    "\n",
    "def sqrt(x):\n",
    "    return sqrt_iter(1, x)\n",
    "\n",
    "print(sqrt(0.0001))\n",
    "print(square(sqrt(0.0001)))\n",
    "print(\n",
    "    sqrt(\n",
    "        900000000000000000000000000000000000000000000000000000000000000000000000000000000000\n",
    "    )\n",
    ")"
   ]
  },
  {
   "cell_type": "markdown",
   "metadata": {},
   "source": [
    "1.8:求立方根的牛顿法"
   ]
  },
  {
   "cell_type": "code",
   "execution_count": 4,
   "metadata": {},
   "outputs": [
    {
     "name": "stdout",
     "output_type": "stream",
     "text": [
      "0.0010000000000000002\n",
      "0.10000000198565878\n"
     ]
    }
   ],
   "source": [
    "from base_definition import square, cube\n",
    "\n",
    "def good_enough(guess1, guess2):\n",
    "    return abs(guess1 - guess2) < 0.001\n",
    "\n",
    "def improve_guess(guess, x):\n",
    "    return (x/square(guess)+ 2* guess)/3\n",
    "\n",
    "def cube_root_iter(guess, x):\n",
    "    improve = improve_guess(guess, x)\n",
    "    if good_enough(guess, improve):\n",
    "        return improve\n",
    "    return cube_root_iter(improve, x)\n",
    "\n",
    "def cube_root(x):\n",
    "    return cube_root_iter(1, x)\n",
    "\n",
    "print(cube(0.1))\n",
    "print(cube_root(0.001))\n"
   ]
  }
 ],
 "metadata": {
  "kernelspec": {
   "display_name": "Python 3",
   "language": "python",
   "name": "python3"
  },
  "language_info": {
   "codemirror_mode": {
    "name": "ipython",
    "version": 3
   },
   "file_extension": ".py",
   "mimetype": "text/x-python",
   "name": "python",
   "nbconvert_exporter": "python",
   "pygments_lexer": "ipython3",
   "version": "3.11.5"
  }
 },
 "nbformat": 4,
 "nbformat_minor": 2
}
